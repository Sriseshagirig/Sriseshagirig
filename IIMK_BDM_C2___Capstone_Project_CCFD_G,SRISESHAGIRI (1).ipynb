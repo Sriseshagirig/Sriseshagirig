{
  "nbformat": 4,
  "nbformat_minor": 0,
  "metadata": {
    "accelerator": "GPU",
    "colab": {
      "name": "IIMK BDM C2 |  Capstone Project CCFD G,SRISESHAGIRI.ipynb",
      "provenance": [],
      "collapsed_sections": [],
      "machine_shape": "hm"
    },
    "kernelspec": {
      "display_name": "R",
      "name": "ir"
    },
    "language_info": {
      "name": "R"
    }
  },
  "cells": [
    {
      "cell_type": "markdown",
      "metadata": {
        "id": "rzHo70IB4Oef"
      },
      "source": [
        "# Credit Card Fraud Detection with R - IIMK BDM - Capstone Project\n",
        "\n",
        "1.   Reading Data\n",
        "2.   Data Preparation\n",
        "3.   Data Cleaning\n",
        "4.   EDA\n",
        "    > No of Frauds vs Non Frauds\n",
        "\n",
        "    > Frauds vs NF per Gender M / F\n",
        "\n",
        "    > Fraud by which category most\n",
        "\n",
        "    > Top 10 Fraud cases by amount\n",
        "\n",
        "    > Top 10 Location wise Fraud cases   \n",
        "\n",
        "5.   Univariate Analysis\n",
        "\n",
        "    > Distrbution Plot of Target column\n",
        "        - (Skewness & Kurtosis)\n",
        "\n",
        "    > Dist plot of Amount\n",
        "\n",
        "    > Time Bucket Anomoly Detection\n",
        "      \n",
        "\n",
        "6.   Bi-Variate Analysis\n",
        "\n",
        "    > Facet Box Plot of Fraud vs Non Fraud block\n",
        "\n",
        "    > Year vs Frauds - see if they rose or declined\n",
        "    \n",
        "    > Job vs Class - to see any specifc job type target by fraudsters\n",
        "\n",
        "\n",
        "7.   Class Imbalance \n",
        "8.   Independent vs Dependent Variables Test\n",
        "9.   Data Split\n",
        "10.  Modeling - Logistic Regression\n",
        "11.  Modeling - Randon Forest\n",
        "12.  Model Comparison\n",
        "13.  Cross Validation\n",
        "14.  Cost Benefit Analysis    \n",
        "\n",
        "\n"
      ]
    },
    {
      "cell_type": "markdown",
      "metadata": {
        "id": "NggZAYfLjsVe"
      },
      "source": [
        "Getting the data set files into Colab session from Google Drive\n",
        "\n",
        "\n",
        "---\n",
        "\n"
      ]
    },
    {
      "cell_type": "code",
      "metadata": {
        "id": "KPkg-wMaycBd",
        "colab": {
          "base_uri": "https://localhost:8080/",
          "height": 35
        },
        "outputId": "030c8512-a37c-4f8d-eb1a-f6ff3b88ba3f"
      },
      "source": [
        "#https://towardsdatascience.com/how-to-use-r-in-google-colab-b6e02d736497 method 2, runtime is R\n",
        "#This should work, but it did not for me. More info at the link below. Did not work in full but got close. \n",
        "#https://towardsdatascience.com/how-to-use-r-in-google-colab-b6e02d736497\n",
        "#install.packages(\"googledrive\")\n",
        "#library(\"googledrive\")\n",
        "#drive_auth(\n",
        "#  email = gargle::gargle_oauth_email(),\n",
        "#  path = NULL,\n",
        "#  scopes = \"https://www.googleapis.com/auth/drive\",\n",
        "#  cache = gargle::gargle_oauth_cache(),\n",
        "#  use_oob = gargle::gargle_oob_default(),\n",
        "#  token = NULL\n",
        "R.version.string"
      ],
      "execution_count": null,
      "outputs": [
        {
          "output_type": "display_data",
          "data": {
            "text/plain": [
              "[1] \"R version 4.1.2 (2021-11-01)\""
            ],
            "text/latex": "'R version 4.1.2 (2021-11-01)'",
            "text/markdown": "'R version 4.1.2 (2021-11-01)'",
            "text/html": [
              "'R version 4.1.2 (2021-11-01)'"
            ]
          },
          "metadata": {}
        }
      ]
    },
    {
      "cell_type": "markdown",
      "metadata": {
        "id": "jtsuCgmcJGoL"
      },
      "source": [
        "# Gathering the Dataset into Colab"
      ]
    },
    {
      "cell_type": "code",
      "metadata": {
        "colab": {
          "base_uri": "https://localhost:8080/"
        },
        "id": "69mBTXORzKB7",
        "outputId": "a13646ff-f6a9-4be6-8077-57d03373acb5"
      },
      "source": [
        "install.packages(\"googledrive\") #only need to install occasionally\n",
        "install.packages(\"httpuv\")\n",
        "library(\"googledrive\")\n",
        "library(\"httpuv\")"
      ],
      "execution_count": null,
      "outputs": [
        {
          "output_type": "stream",
          "name": "stderr",
          "text": [
            "Installing package into ‘/usr/local/lib/R/site-library’\n",
            "(as ‘lib’ is unspecified)\n",
            "\n",
            "Installing package into ‘/usr/local/lib/R/site-library’\n",
            "(as ‘lib’ is unspecified)\n",
            "\n",
            "also installing the dependencies ‘promises’, ‘later’\n",
            "\n",
            "\n"
          ]
        }
      ]
    },
    {
      "cell_type": "code",
      "metadata": {
        "colab": {
          "base_uri": "https://localhost:8080/"
        },
        "id": "xZAFwCRdzMZN",
        "outputId": "bdf32aa1-44b1-46fc-835e-c5f49043609e"
      },
      "source": [
        "if (file.exists(\"/usr/local/lib/python3.7/dist-packages/google/colab/_ipython.py\")) { #may need to update python version occasionally\n",
        "  install.packages(\"R.utils\")\n",
        "  library(\"R.utils\")\n",
        "  library(\"httr\")\n",
        "  my_check <- function() {return(TRUE)}\n",
        "  reassignInPackage(\"is_interactive\", pkgName = \"httr\", my_check) \n",
        "  options(rlang_interactive=TRUE)\n",
        "}"
      ],
      "execution_count": null,
      "outputs": [
        {
          "output_type": "stream",
          "name": "stderr",
          "text": [
            "Installing package into ‘/usr/local/lib/R/site-library’\n",
            "(as ‘lib’ is unspecified)\n",
            "\n",
            "also installing the dependencies ‘R.oo’, ‘R.methodsS3’\n",
            "\n",
            "\n",
            "Loading required package: R.oo\n",
            "\n",
            "Loading required package: R.methodsS3\n",
            "\n",
            "R.methodsS3 v1.8.1 (2020-08-26 16:20:06 UTC) successfully loaded. See ?R.methodsS3 for help.\n",
            "\n",
            "R.oo v1.24.0 (2020-08-26 16:11:58 UTC) successfully loaded. See ?R.oo for help.\n",
            "\n",
            "\n",
            "Attaching package: ‘R.oo’\n",
            "\n",
            "\n",
            "The following object is masked from ‘package:R.methodsS3’:\n",
            "\n",
            "    throw\n",
            "\n",
            "\n",
            "The following objects are masked from ‘package:methods’:\n",
            "\n",
            "    getClasses, getMethods\n",
            "\n",
            "\n",
            "The following objects are masked from ‘package:base’:\n",
            "\n",
            "    attach, detach, load, save\n",
            "\n",
            "\n",
            "R.utils v2.11.0 (2021-09-26 08:30:02 UTC) successfully loaded. See ?R.utils for help.\n",
            "\n",
            "\n",
            "Attaching package: ‘R.utils’\n",
            "\n",
            "\n",
            "The following object is masked from ‘package:utils’:\n",
            "\n",
            "    timestamp\n",
            "\n",
            "\n",
            "The following objects are masked from ‘package:base’:\n",
            "\n",
            "    cat, commandArgs, getOption, inherits, isOpen, nullfile, parse,\n",
            "    warnings\n",
            "\n",
            "\n"
          ]
        }
      ]
    },
    {
      "cell_type": "code",
      "metadata": {
        "colab": {
          "base_uri": "https://localhost:8080/"
        },
        "id": "qCRjXfuSzO0l",
        "outputId": "182149ab-de74-4d8d-f419-170e53956b0e"
      },
      "source": [
        "  drive_auth(use_oob = TRUE, cache = FALSE)"
      ],
      "execution_count": null,
      "outputs": [
        {
          "output_type": "stream",
          "name": "stderr",
          "text": [
            "Please point your browser to the following url: \n",
            "\n",
            "https://accounts.google.com/o/oauth2/auth?client_id=603366585132-dpeg5tt0et3go5of2374d83ifevk5086.apps.googleusercontent.com&scope=https%3A%2F%2Fwww.googleapis.com%2Fauth%2Fdrive%20https%3A%2F%2Fwww.googleapis.com%2Fauth%2Fuserinfo.email&redirect_uri=urn%3Aietf%3Awg%3Aoauth%3A2.0%3Aoob&response_type=code\n",
            "\n"
          ]
        },
        {
          "name": "stdout",
          "output_type": "stream",
          "text": [
            "Enter authorization code: 4/1AX4XfWg4AHRdY1Fdq811bLySWCnlIDdMSW8iT-aocV3Au0xIrGH6iKFrtdY\n"
          ]
        }
      ]
    },
    {
      "cell_type": "code",
      "metadata": {
        "colab": {
          "base_uri": "https://localhost:8080/",
          "height": 35
        },
        "id": "vitvkrO3zQmC",
        "outputId": "851f45fe-3446-41cc-f389-167014d0f467"
      },
      "source": [
        "getwd()"
      ],
      "execution_count": null,
      "outputs": [
        {
          "output_type": "display_data",
          "data": {
            "text/plain": [
              "[1] \"/content\""
            ],
            "text/latex": "'/content'",
            "text/markdown": "'/content'",
            "text/html": [
              "'/content'"
            ]
          },
          "metadata": {}
        }
      ]
    },
    {
      "cell_type": "markdown",
      "metadata": {
        "id": "lKqfBc9GJYl-"
      },
      "source": [
        "# Copying Dataset from Google drive into Colab"
      ]
    },
    {
      "cell_type": "code",
      "metadata": {
        "id": "mBvo4Z4VzS1J"
      },
      "source": [
        "library(readr)\n",
        "#drive_find(n_max=10) #looking the files in the google drive"
      ],
      "execution_count": null,
      "outputs": []
    },
    {
      "cell_type": "code",
      "metadata": {
        "colab": {
          "base_uri": "https://localhost:8080/"
        },
        "id": "WXFPUN5_zT8y",
        "outputId": "9f351efb-380a-4971-dc8a-c721a90ede76"
      },
      "source": [
        "x <- drive_get(\"~/Dataset/fraudTrain.csv\")\n",
        "y <- drive_get(\"~/Dataset/creditcard.csv\")\n",
        "drive_download(x)\n",
        "drive_download(y)\n",
        "#z <- read.csv(\"/content/creditcard.csv\",overwrite =T)\n"
      ],
      "execution_count": null,
      "outputs": [
        {
          "output_type": "stream",
          "name": "stderr",
          "text": [
            "\n",
            "\n",
            "\n",
            "\n",
            "\u001b[32m✔\u001b[39m The input \u001b[30m\u001b[47m`path`\u001b[49m\u001b[39m resolved to exactly 1 file.\n",
            "\n",
            "\n",
            "\n",
            "\n",
            "\n",
            "\u001b[32m✔\u001b[39m The input \u001b[30m\u001b[47m`path`\u001b[49m\u001b[39m resolved to exactly 1 file.\n",
            "\n",
            "File downloaded:\n",
            "\n",
            "• \u001b[36mfraudTrain.csv\u001b[39m \u001b[90m<id: 12Kz4D2irWVwVFWdcEmHTOmhw3knIMdlI>\u001b[39m\n",
            "\n",
            "Saved locally as:\n",
            "\n",
            "• \u001b[34mfraudTrain.csv\u001b[39m\n",
            "\n",
            "File downloaded:\n",
            "\n",
            "• \u001b[36mcreditcard.csv\u001b[39m \u001b[90m<id: 1eb-pcz-FeWbbSgdYZVIUjINEp-b5If5V>\u001b[39m\n",
            "\n",
            "Saved locally as:\n",
            "\n",
            "• \u001b[34mcreditcard.csv\u001b[39m\n",
            "\n"
          ]
        }
      ]
    },
    {
      "cell_type": "markdown",
      "metadata": {
        "id": "HhC-POhrKIuw"
      },
      "source": [
        "# Reading Dataset into Colab Notebook"
      ]
    },
    {
      "cell_type": "code",
      "metadata": {
        "id": "sqnwtw5vJSxr",
        "colab": {
          "base_uri": "https://localhost:8080/",
          "height": 560
        },
        "outputId": "4e96b2d0-a9a4-47ca-bf66-21a2d41bbf41"
      },
      "source": [
        "Data <- read.csv(\"/content/fraudTrain.csv\", stringsAsFactors = F)\n",
        "ModelData <- read.csv(\"/content/creditcard.csv\", stringsAsFactors = F)\n",
        "head(Data,3)\n",
        "head(ModelData,3)"
      ],
      "execution_count": null,
      "outputs": [
        {
          "output_type": "display_data",
          "data": {
            "text/plain": [
              "  X trans_date_trans_time cc_num       merchant                       \n",
              "1 0 2019-01-01 00:00:18   2.703186e+15 fraud_Rippin, Kub and Mann     \n",
              "2 1 2019-01-01 00:00:44   6.304233e+11 fraud_Heller, Gutmann and Zieme\n",
              "3 2 2019-01-01 00:00:51   3.885949e+13 fraud_Lind-Buckridge           \n",
              "  category      amt    first     last    gender street                       ⋯\n",
              "1 misc_net        4.97 Jennifer  Banks   F      561 Perry Cove               ⋯\n",
              "2 grocery_pos   107.23 Stephanie Gill    F      43039 Riley Greens Suite 393 ⋯\n",
              "3 entertainment 220.11 Edward    Sanchez M      594 White Dale Suite 530     ⋯\n",
              "  lat     long      city_pop job                               dob       \n",
              "1 36.0788  -81.1781 3495     Psychologist, counselling         1988-03-09\n",
              "2 48.8878 -118.2105  149     Special educational needs teacher 1978-06-21\n",
              "3 42.1808 -112.2620 4154     Nature conservation officer       1962-01-19\n",
              "  trans_num                        unix_time  merch_lat merch_long is_fraud\n",
              "1 0b242abb623afc578575680df30655b9 1325376018 36.01129   -82.04832 0       \n",
              "2 1f76529f8574734946361c461b024d99 1325376044 49.15905  -118.18646 0       \n",
              "3 a1a22d70485983eac12b5b88dad1cf95 1325376051 43.15070  -112.15448 0       "
            ],
            "text/latex": "A data.frame: 3 × 23\n\\begin{tabular}{r|lllllllllllllllllllll}\n  & X & trans\\_date\\_trans\\_time & cc\\_num & merchant & category & amt & first & last & gender & street & ⋯ & lat & long & city\\_pop & job & dob & trans\\_num & unix\\_time & merch\\_lat & merch\\_long & is\\_fraud\\\\\n  & <int> & <chr> & <dbl> & <chr> & <chr> & <dbl> & <chr> & <chr> & <chr> & <chr> & ⋯ & <dbl> & <dbl> & <int> & <chr> & <chr> & <chr> & <int> & <dbl> & <dbl> & <int>\\\\\n\\hline\n\t1 & 0 & 2019-01-01 00:00:18 & 2.703186e+15 & fraud\\_Rippin, Kub and Mann      & misc\\_net      &   4.97 & Jennifer  & Banks   & F & 561 Perry Cove               & ⋯ & 36.0788 &  -81.1781 & 3495 & Psychologist, counselling         & 1988-03-09 & 0b242abb623afc578575680df30655b9 & 1325376018 & 36.01129 &  -82.04832 & 0\\\\\n\t2 & 1 & 2019-01-01 00:00:44 & 6.304233e+11 & fraud\\_Heller, Gutmann and Zieme & grocery\\_pos   & 107.23 & Stephanie & Gill    & F & 43039 Riley Greens Suite 393 & ⋯ & 48.8878 & -118.2105 &  149 & Special educational needs teacher & 1978-06-21 & 1f76529f8574734946361c461b024d99 & 1325376044 & 49.15905 & -118.18646 & 0\\\\\n\t3 & 2 & 2019-01-01 00:00:51 & 3.885949e+13 & fraud\\_Lind-Buckridge            & entertainment & 220.11 & Edward    & Sanchez & M & 594 White Dale Suite 530     & ⋯ & 42.1808 & -112.2620 & 4154 & Nature conservation officer       & 1962-01-19 & a1a22d70485983eac12b5b88dad1cf95 & 1325376051 & 43.15070 & -112.15448 & 0\\\\\n\\end{tabular}\n",
            "text/markdown": "\nA data.frame: 3 × 23\n\n| <!--/--> | X &lt;int&gt; | trans_date_trans_time &lt;chr&gt; | cc_num &lt;dbl&gt; | merchant &lt;chr&gt; | category &lt;chr&gt; | amt &lt;dbl&gt; | first &lt;chr&gt; | last &lt;chr&gt; | gender &lt;chr&gt; | street &lt;chr&gt; | ⋯ ⋯ | lat &lt;dbl&gt; | long &lt;dbl&gt; | city_pop &lt;int&gt; | job &lt;chr&gt; | dob &lt;chr&gt; | trans_num &lt;chr&gt; | unix_time &lt;int&gt; | merch_lat &lt;dbl&gt; | merch_long &lt;dbl&gt; | is_fraud &lt;int&gt; |\n|---|---|---|---|---|---|---|---|---|---|---|---|---|---|---|---|---|---|---|---|---|---|\n| 1 | 0 | 2019-01-01 00:00:18 | 2.703186e+15 | fraud_Rippin, Kub and Mann      | misc_net      |   4.97 | Jennifer  | Banks   | F | 561 Perry Cove               | ⋯ | 36.0788 |  -81.1781 | 3495 | Psychologist, counselling         | 1988-03-09 | 0b242abb623afc578575680df30655b9 | 1325376018 | 36.01129 |  -82.04832 | 0 |\n| 2 | 1 | 2019-01-01 00:00:44 | 6.304233e+11 | fraud_Heller, Gutmann and Zieme | grocery_pos   | 107.23 | Stephanie | Gill    | F | 43039 Riley Greens Suite 393 | ⋯ | 48.8878 | -118.2105 |  149 | Special educational needs teacher | 1978-06-21 | 1f76529f8574734946361c461b024d99 | 1325376044 | 49.15905 | -118.18646 | 0 |\n| 3 | 2 | 2019-01-01 00:00:51 | 3.885949e+13 | fraud_Lind-Buckridge            | entertainment | 220.11 | Edward    | Sanchez | M | 594 White Dale Suite 530     | ⋯ | 42.1808 | -112.2620 | 4154 | Nature conservation officer       | 1962-01-19 | a1a22d70485983eac12b5b88dad1cf95 | 1325376051 | 43.15070 | -112.15448 | 0 |\n\n",
            "text/html": [
              "<table class=\"dataframe\">\n",
              "<caption>A data.frame: 3 × 23</caption>\n",
              "<thead>\n",
              "\t<tr><th></th><th scope=col>X</th><th scope=col>trans_date_trans_time</th><th scope=col>cc_num</th><th scope=col>merchant</th><th scope=col>category</th><th scope=col>amt</th><th scope=col>first</th><th scope=col>last</th><th scope=col>gender</th><th scope=col>street</th><th scope=col>⋯</th><th scope=col>lat</th><th scope=col>long</th><th scope=col>city_pop</th><th scope=col>job</th><th scope=col>dob</th><th scope=col>trans_num</th><th scope=col>unix_time</th><th scope=col>merch_lat</th><th scope=col>merch_long</th><th scope=col>is_fraud</th></tr>\n",
              "\t<tr><th></th><th scope=col>&lt;int&gt;</th><th scope=col>&lt;chr&gt;</th><th scope=col>&lt;dbl&gt;</th><th scope=col>&lt;chr&gt;</th><th scope=col>&lt;chr&gt;</th><th scope=col>&lt;dbl&gt;</th><th scope=col>&lt;chr&gt;</th><th scope=col>&lt;chr&gt;</th><th scope=col>&lt;chr&gt;</th><th scope=col>&lt;chr&gt;</th><th scope=col>⋯</th><th scope=col>&lt;dbl&gt;</th><th scope=col>&lt;dbl&gt;</th><th scope=col>&lt;int&gt;</th><th scope=col>&lt;chr&gt;</th><th scope=col>&lt;chr&gt;</th><th scope=col>&lt;chr&gt;</th><th scope=col>&lt;int&gt;</th><th scope=col>&lt;dbl&gt;</th><th scope=col>&lt;dbl&gt;</th><th scope=col>&lt;int&gt;</th></tr>\n",
              "</thead>\n",
              "<tbody>\n",
              "\t<tr><th scope=row>1</th><td>0</td><td>2019-01-01 00:00:18</td><td>2.703186e+15</td><td>fraud_Rippin, Kub and Mann     </td><td>misc_net     </td><td>  4.97</td><td>Jennifer </td><td>Banks  </td><td>F</td><td>561 Perry Cove              </td><td>⋯</td><td>36.0788</td><td> -81.1781</td><td>3495</td><td>Psychologist, counselling        </td><td>1988-03-09</td><td>0b242abb623afc578575680df30655b9</td><td>1325376018</td><td>36.01129</td><td> -82.04832</td><td>0</td></tr>\n",
              "\t<tr><th scope=row>2</th><td>1</td><td>2019-01-01 00:00:44</td><td>6.304233e+11</td><td>fraud_Heller, Gutmann and Zieme</td><td>grocery_pos  </td><td>107.23</td><td>Stephanie</td><td>Gill   </td><td>F</td><td>43039 Riley Greens Suite 393</td><td>⋯</td><td>48.8878</td><td>-118.2105</td><td> 149</td><td>Special educational needs teacher</td><td>1978-06-21</td><td>1f76529f8574734946361c461b024d99</td><td>1325376044</td><td>49.15905</td><td>-118.18646</td><td>0</td></tr>\n",
              "\t<tr><th scope=row>3</th><td>2</td><td>2019-01-01 00:00:51</td><td>3.885949e+13</td><td>fraud_Lind-Buckridge           </td><td>entertainment</td><td>220.11</td><td>Edward   </td><td>Sanchez</td><td>M</td><td>594 White Dale Suite 530    </td><td>⋯</td><td>42.1808</td><td>-112.2620</td><td>4154</td><td>Nature conservation officer      </td><td>1962-01-19</td><td>a1a22d70485983eac12b5b88dad1cf95</td><td>1325376051</td><td>43.15070</td><td>-112.15448</td><td>0</td></tr>\n",
              "</tbody>\n",
              "</table>\n"
            ]
          },
          "metadata": {}
        },
        {
          "output_type": "display_data",
          "data": {
            "text/plain": [
              "  Time V1        V2          V3        V4        V5          V6         \n",
              "1 0    -1.359807 -0.07278117 2.5363467 1.3781552 -0.33832077  0.46238778\n",
              "2 0     1.191857  0.26615071 0.1664801 0.4481541  0.06001765 -0.08236081\n",
              "3 1    -1.358354 -1.34016307 1.7732093 0.3797796 -0.50319813  1.80049938\n",
              "  V7          V8         V9         ⋯ V21         V22        V23       \n",
              "1  0.23959855 0.09869790  0.3637870 ⋯ -0.01830678  0.2778376 -0.1104739\n",
              "2 -0.07880298 0.08510165 -0.2554251 ⋯ -0.22577525 -0.6386720  0.1012880\n",
              "3  0.79146096 0.24767579 -1.5146543 ⋯  0.24799815  0.7716794  0.9094123\n",
              "  V24         V25        V26        V27          V28         Amount Class\n",
              "1  0.06692807  0.1285394 -0.1891148  0.133558377 -0.02105305 149.62 0    \n",
              "2 -0.33984648  0.1671704  0.1258945 -0.008983099  0.01472417   2.69 0    \n",
              "3 -0.68928096 -0.3276418 -0.1390966 -0.055352794 -0.05975184 378.66 0    "
            ],
            "text/latex": "A data.frame: 3 × 31\n\\begin{tabular}{r|lllllllllllllllllllll}\n  & Time & V1 & V2 & V3 & V4 & V5 & V6 & V7 & V8 & V9 & ⋯ & V21 & V22 & V23 & V24 & V25 & V26 & V27 & V28 & Amount & Class\\\\\n  & <dbl> & <dbl> & <dbl> & <dbl> & <dbl> & <dbl> & <dbl> & <dbl> & <dbl> & <dbl> & ⋯ & <dbl> & <dbl> & <dbl> & <dbl> & <dbl> & <dbl> & <dbl> & <dbl> & <dbl> & <int>\\\\\n\\hline\n\t1 & 0 & -1.359807 & -0.07278117 & 2.5363467 & 1.3781552 & -0.33832077 &  0.46238778 &  0.23959855 & 0.09869790 &  0.3637870 & ⋯ & -0.01830678 &  0.2778376 & -0.1104739 &  0.06692807 &  0.1285394 & -0.1891148 &  0.133558377 & -0.02105305 & 149.62 & 0\\\\\n\t2 & 0 &  1.191857 &  0.26615071 & 0.1664801 & 0.4481541 &  0.06001765 & -0.08236081 & -0.07880298 & 0.08510165 & -0.2554251 & ⋯ & -0.22577525 & -0.6386720 &  0.1012880 & -0.33984648 &  0.1671704 &  0.1258945 & -0.008983099 &  0.01472417 &   2.69 & 0\\\\\n\t3 & 1 & -1.358354 & -1.34016307 & 1.7732093 & 0.3797796 & -0.50319813 &  1.80049938 &  0.79146096 & 0.24767579 & -1.5146543 & ⋯ &  0.24799815 &  0.7716794 &  0.9094123 & -0.68928096 & -0.3276418 & -0.1390966 & -0.055352794 & -0.05975184 & 378.66 & 0\\\\\n\\end{tabular}\n",
            "text/markdown": "\nA data.frame: 3 × 31\n\n| <!--/--> | Time &lt;dbl&gt; | V1 &lt;dbl&gt; | V2 &lt;dbl&gt; | V3 &lt;dbl&gt; | V4 &lt;dbl&gt; | V5 &lt;dbl&gt; | V6 &lt;dbl&gt; | V7 &lt;dbl&gt; | V8 &lt;dbl&gt; | V9 &lt;dbl&gt; | ⋯ ⋯ | V21 &lt;dbl&gt; | V22 &lt;dbl&gt; | V23 &lt;dbl&gt; | V24 &lt;dbl&gt; | V25 &lt;dbl&gt; | V26 &lt;dbl&gt; | V27 &lt;dbl&gt; | V28 &lt;dbl&gt; | Amount &lt;dbl&gt; | Class &lt;int&gt; |\n|---|---|---|---|---|---|---|---|---|---|---|---|---|---|---|---|---|---|---|---|---|---|\n| 1 | 0 | -1.359807 | -0.07278117 | 2.5363467 | 1.3781552 | -0.33832077 |  0.46238778 |  0.23959855 | 0.09869790 |  0.3637870 | ⋯ | -0.01830678 |  0.2778376 | -0.1104739 |  0.06692807 |  0.1285394 | -0.1891148 |  0.133558377 | -0.02105305 | 149.62 | 0 |\n| 2 | 0 |  1.191857 |  0.26615071 | 0.1664801 | 0.4481541 |  0.06001765 | -0.08236081 | -0.07880298 | 0.08510165 | -0.2554251 | ⋯ | -0.22577525 | -0.6386720 |  0.1012880 | -0.33984648 |  0.1671704 |  0.1258945 | -0.008983099 |  0.01472417 |   2.69 | 0 |\n| 3 | 1 | -1.358354 | -1.34016307 | 1.7732093 | 0.3797796 | -0.50319813 |  1.80049938 |  0.79146096 | 0.24767579 | -1.5146543 | ⋯ |  0.24799815 |  0.7716794 |  0.9094123 | -0.68928096 | -0.3276418 | -0.1390966 | -0.055352794 | -0.05975184 | 378.66 | 0 |\n\n",
            "text/html": [
              "<table class=\"dataframe\">\n",
              "<caption>A data.frame: 3 × 31</caption>\n",
              "<thead>\n",
              "\t<tr><th></th><th scope=col>Time</th><th scope=col>V1</th><th scope=col>V2</th><th scope=col>V3</th><th scope=col>V4</th><th scope=col>V5</th><th scope=col>V6</th><th scope=col>V7</th><th scope=col>V8</th><th scope=col>V9</th><th scope=col>⋯</th><th scope=col>V21</th><th scope=col>V22</th><th scope=col>V23</th><th scope=col>V24</th><th scope=col>V25</th><th scope=col>V26</th><th scope=col>V27</th><th scope=col>V28</th><th scope=col>Amount</th><th scope=col>Class</th></tr>\n",
              "\t<tr><th></th><th scope=col>&lt;dbl&gt;</th><th scope=col>&lt;dbl&gt;</th><th scope=col>&lt;dbl&gt;</th><th scope=col>&lt;dbl&gt;</th><th scope=col>&lt;dbl&gt;</th><th scope=col>&lt;dbl&gt;</th><th scope=col>&lt;dbl&gt;</th><th scope=col>&lt;dbl&gt;</th><th scope=col>&lt;dbl&gt;</th><th scope=col>&lt;dbl&gt;</th><th scope=col>⋯</th><th scope=col>&lt;dbl&gt;</th><th scope=col>&lt;dbl&gt;</th><th scope=col>&lt;dbl&gt;</th><th scope=col>&lt;dbl&gt;</th><th scope=col>&lt;dbl&gt;</th><th scope=col>&lt;dbl&gt;</th><th scope=col>&lt;dbl&gt;</th><th scope=col>&lt;dbl&gt;</th><th scope=col>&lt;dbl&gt;</th><th scope=col>&lt;int&gt;</th></tr>\n",
              "</thead>\n",
              "<tbody>\n",
              "\t<tr><th scope=row>1</th><td>0</td><td>-1.359807</td><td>-0.07278117</td><td>2.5363467</td><td>1.3781552</td><td>-0.33832077</td><td> 0.46238778</td><td> 0.23959855</td><td>0.09869790</td><td> 0.3637870</td><td>⋯</td><td>-0.01830678</td><td> 0.2778376</td><td>-0.1104739</td><td> 0.06692807</td><td> 0.1285394</td><td>-0.1891148</td><td> 0.133558377</td><td>-0.02105305</td><td>149.62</td><td>0</td></tr>\n",
              "\t<tr><th scope=row>2</th><td>0</td><td> 1.191857</td><td> 0.26615071</td><td>0.1664801</td><td>0.4481541</td><td> 0.06001765</td><td>-0.08236081</td><td>-0.07880298</td><td>0.08510165</td><td>-0.2554251</td><td>⋯</td><td>-0.22577525</td><td>-0.6386720</td><td> 0.1012880</td><td>-0.33984648</td><td> 0.1671704</td><td> 0.1258945</td><td>-0.008983099</td><td> 0.01472417</td><td>  2.69</td><td>0</td></tr>\n",
              "\t<tr><th scope=row>3</th><td>1</td><td>-1.358354</td><td>-1.34016307</td><td>1.7732093</td><td>0.3797796</td><td>-0.50319813</td><td> 1.80049938</td><td> 0.79146096</td><td>0.24767579</td><td>-1.5146543</td><td>⋯</td><td> 0.24799815</td><td> 0.7716794</td><td> 0.9094123</td><td>-0.68928096</td><td>-0.3276418</td><td>-0.1390966</td><td>-0.055352794</td><td>-0.05975184</td><td>378.66</td><td>0</td></tr>\n",
              "</tbody>\n",
              "</table>\n"
            ]
          },
          "metadata": {}
        }
      ]
    },
    {
      "cell_type": "markdown",
      "metadata": {
        "id": "5rLZ50R-Jucv"
      },
      "source": [
        "# Loading Required Packages & libraries"
      ]
    },
    {
      "cell_type": "code",
      "metadata": {
        "colab": {
          "base_uri": "https://localhost:8080/"
        },
        "id": "8ES4qO2fjlyo",
        "outputId": "536ec728-19f5-4a66-b1a7-ac822e7d95e2"
      },
      "source": [
        "install.packages(\"car\")"
      ],
      "execution_count": null,
      "outputs": [
        {
          "output_type": "stream",
          "name": "stderr",
          "text": [
            "Installing package into ‘/usr/local/lib/R/site-library’\n",
            "(as ‘lib’ is unspecified)\n",
            "\n",
            "also installing the dependencies ‘listenv’, ‘parallelly’, ‘future’, ‘globals’, ‘future.apply’, ‘progressr’, ‘SQUAREM’, ‘lava’, ‘prodlim’, ‘proxy’, ‘iterators’, ‘gower’, ‘ipred’, ‘timeDate’, ‘e1071’, ‘foreach’, ‘ModelMetrics’, ‘plyr’, ‘pROC’, ‘recipes’, ‘reshape2’, ‘matrixStats’, ‘caret’, ‘RcppArmadillo’, ‘numDeriv’, ‘SparseM’, ‘MatrixModels’, ‘conquer’, ‘sp’, ‘minqa’, ‘nloptr’, ‘RcppEigen’, ‘carData’, ‘abind’, ‘pbkrtest’, ‘quantreg’, ‘maptools’, ‘lme4’\n",
            "\n",
            "\n"
          ]
        }
      ]
    },
    {
      "cell_type": "code",
      "metadata": {
        "colab": {
          "base_uri": "https://localhost:8080/"
        },
        "id": "jIj9FqZ64kAW",
        "outputId": "d7ef9fa9-d3ae-4f3e-8109-54c1bf8bff2b"
      },
      "source": [
        "install.packages('caTools')"
      ],
      "execution_count": null,
      "outputs": [
        {
          "output_type": "stream",
          "name": "stderr",
          "text": [
            "Installing package into ‘/usr/local/lib/R/site-library’\n",
            "(as ‘lib’ is unspecified)\n",
            "\n",
            "also installing the dependency ‘bitops’\n",
            "\n",
            "\n"
          ]
        }
      ]
    },
    {
      "cell_type": "code",
      "metadata": {
        "colab": {
          "base_uri": "https://localhost:8080/"
        },
        "id": "3ddf36p54nfX",
        "outputId": "67f860f3-571c-429d-eb99-18a00353c78f"
      },
      "source": [
        "install.packages('rpart')"
      ],
      "execution_count": null,
      "outputs": [
        {
          "output_type": "stream",
          "name": "stderr",
          "text": [
            "Installing package into ‘/usr/local/lib/R/site-library’\n",
            "(as ‘lib’ is unspecified)\n",
            "\n"
          ]
        }
      ]
    },
    {
      "cell_type": "code",
      "metadata": {
        "colab": {
          "base_uri": "https://localhost:8080/"
        },
        "id": "KtkhJFvz4qx6",
        "outputId": "1c2efb3f-6bb9-4440-9b00-e1ce86f778b6"
      },
      "source": [
        "install.packages('dplyr')"
      ],
      "execution_count": null,
      "outputs": [
        {
          "output_type": "stream",
          "name": "stderr",
          "text": [
            "Installing package into ‘/usr/local/lib/R/site-library’\n",
            "(as ‘lib’ is unspecified)\n",
            "\n"
          ]
        }
      ]
    },
    {
      "cell_type": "code",
      "metadata": {
        "colab": {
          "base_uri": "https://localhost:8080/"
        },
        "id": "XKfXSjeE4riZ",
        "outputId": "8c174aa8-7480-414e-9b53-eab94e74706e"
      },
      "source": [
        "install.packages('forcats')"
      ],
      "execution_count": null,
      "outputs": [
        {
          "output_type": "stream",
          "name": "stderr",
          "text": [
            "Installing package into ‘/usr/local/lib/R/site-library’\n",
            "(as ‘lib’ is unspecified)\n",
            "\n"
          ]
        }
      ]
    },
    {
      "cell_type": "code",
      "metadata": {
        "colab": {
          "base_uri": "https://localhost:8080/"
        },
        "id": "fq7MHsXn4xqo",
        "outputId": "92d5b110-6cb0-4f24-b22e-2023b34ad1e8"
      },
      "source": [
        "install.packages('rpart.plot')"
      ],
      "execution_count": null,
      "outputs": [
        {
          "output_type": "stream",
          "name": "stderr",
          "text": [
            "Installing package into ‘/usr/local/lib/R/site-library’\n",
            "(as ‘lib’ is unspecified)\n",
            "\n"
          ]
        }
      ]
    },
    {
      "cell_type": "code",
      "metadata": {
        "colab": {
          "base_uri": "https://localhost:8080/"
        },
        "id": "3U7shMU9PQp5",
        "outputId": "40d8a240-f2f6-4e1c-f92a-87af21c3c944"
      },
      "source": [
        "install.packages(\"caTools\")"
      ],
      "execution_count": null,
      "outputs": [
        {
          "output_type": "stream",
          "name": "stderr",
          "text": [
            "Installing package into ‘/usr/local/lib/R/site-library’\n",
            "(as ‘lib’ is unspecified)\n",
            "\n"
          ]
        }
      ]
    },
    {
      "cell_type": "code",
      "metadata": {
        "colab": {
          "base_uri": "https://localhost:8080/"
        },
        "id": "rb_Wo-RaOsS0",
        "outputId": "82c6a067-968c-4ad7-b9b3-d5a6218a10b9"
      },
      "source": [
        "path <- drive_get(\"~/Package/DMwR_0.4.1.tar.gz\")\n",
        "drive_download(path)"
      ],
      "execution_count": null,
      "outputs": [
        {
          "output_type": "stream",
          "name": "stderr",
          "text": [
            "\n",
            "\n",
            "\n",
            "\n",
            "\u001b[32m✔\u001b[39m The input \u001b[30m\u001b[47m`path`\u001b[49m\u001b[39m resolved to exactly 1 file.\n",
            "\n",
            "File downloaded:\n",
            "\n",
            "• \u001b[36mDMwR_0.4.1.tar.gz\u001b[39m \u001b[90m<id: 1hZVOiD8HsBJkEETxh-MPt-953-uI7KeR>\u001b[39m\n",
            "\n",
            "Saved locally as:\n",
            "\n",
            "• \u001b[34mDMwR_0.4.1.tar.gz\u001b[39m\n",
            "\n"
          ]
        }
      ]
    },
    {
      "cell_type": "code",
      "metadata": {
        "colab": {
          "base_uri": "https://localhost:8080/"
        },
        "id": "SsAryT6sOxFX",
        "outputId": "5b7da323-284c-4eed-ba70-d11bcee3ebe7"
      },
      "source": [
        "install.packages( \"/content/DMwR_0.4.1.tar.gz\", repos=NULL, type=\"source\" )"
      ],
      "execution_count": null,
      "outputs": [
        {
          "output_type": "stream",
          "name": "stderr",
          "text": [
            "Installing package into ‘/usr/local/lib/R/site-library’\n",
            "(as ‘lib’ is unspecified)\n",
            "\n",
            "Warning message in install.packages(\"/content/DMwR_0.4.1.tar.gz\", repos = NULL, :\n",
            "“installation of package ‘/content/DMwR_0.4.1.tar.gz’ had non-zero exit status”\n"
          ]
        }
      ]
    },
    {
      "cell_type": "code",
      "metadata": {
        "colab": {
          "base_uri": "https://localhost:8080/"
        },
        "id": "J1y_1_WTO5_M",
        "outputId": "0ab70bb0-8bb7-41c6-d505-da4393dab334"
      },
      "source": [
        "install.packages('abind')\n",
        "install.packages('zoo')\n",
        "install.packages('xts')\n",
        "install.packages('quantmod')\n",
        "install.packages('ROCR')"
      ],
      "execution_count": null,
      "outputs": [
        {
          "output_type": "stream",
          "name": "stderr",
          "text": [
            "Installing package into ‘/usr/local/lib/R/site-library’\n",
            "(as ‘lib’ is unspecified)\n",
            "\n",
            "Installing package into ‘/usr/local/lib/R/site-library’\n",
            "(as ‘lib’ is unspecified)\n",
            "\n",
            "Installing package into ‘/usr/local/lib/R/site-library’\n",
            "(as ‘lib’ is unspecified)\n",
            "\n",
            "Installing package into ‘/usr/local/lib/R/site-library’\n",
            "(as ‘lib’ is unspecified)\n",
            "\n",
            "Installing package into ‘/usr/local/lib/R/site-library’\n",
            "(as ‘lib’ is unspecified)\n",
            "\n"
          ]
        }
      ]
    },
    {
      "cell_type": "code",
      "metadata": {
        "id": "TY9EMplZ22Ps"
      },
      "source": [
        "library(caTools)\n",
        "library(rpart)\n",
        "library(rpart.plot)\n",
        "library(dplyr)\n",
        "library(forcats)"
      ],
      "execution_count": null,
      "outputs": []
    },
    {
      "cell_type": "code",
      "metadata": {
        "colab": {
          "base_uri": "https://localhost:8080/"
        },
        "id": "gkB5-LJcO-o9",
        "outputId": "137d5029-1cf1-48b0-efe6-76723b820448"
      },
      "source": [
        "install.packages(\"ROSE\")"
      ],
      "execution_count": null,
      "outputs": [
        {
          "output_type": "stream",
          "name": "stderr",
          "text": [
            "Installing package into ‘/usr/local/lib/R/site-library’\n",
            "(as ‘lib’ is unspecified)\n",
            "\n"
          ]
        }
      ]
    },
    {
      "cell_type": "code",
      "metadata": {
        "id": "6B356SbkPCTx"
      },
      "source": [
        "library(bitops)\n",
        "library(abind)\n",
        "library(zoo)\n",
        "library(xts)\n",
        "library(quantmod)\n",
        "library(ROCR)\n",
        "library(ROSE)"
      ],
      "execution_count": null,
      "outputs": []
    },
    {
      "cell_type": "code",
      "metadata": {
        "colab": {
          "base_uri": "https://localhost:8080/"
        },
        "id": "vnbvuuV0Pk9j",
        "outputId": "2548d4f6-c24c-467a-89a4-f85e964da9eb"
      },
      "source": [
        "install.packages(\"lattice\")\n",
        "install.packages(\"grid\")"
      ],
      "execution_count": null,
      "outputs": [
        {
          "output_type": "stream",
          "name": "stderr",
          "text": [
            "Installing package into ‘/usr/local/lib/R/site-library’\n",
            "(as ‘lib’ is unspecified)\n",
            "\n",
            "Installing package into ‘/usr/local/lib/R/site-library’\n",
            "(as ‘lib’ is unspecified)\n",
            "\n",
            "Warning message:\n",
            "“package ‘grid’ is a base package, and should not be updated”\n"
          ]
        }
      ]
    },
    {
      "cell_type": "code",
      "metadata": {
        "colab": {
          "base_uri": "https://localhost:8080/",
          "height": 134
        },
        "id": "coSh4igIOyiR",
        "outputId": "7d0d25c9-2e88-43fa-ee26-866cb910b9ec"
      },
      "source": [
        "library(\"DMwR\")"
      ],
      "execution_count": null,
      "outputs": [
        {
          "output_type": "error",
          "ename": "ERROR",
          "evalue": "ignored",
          "traceback": [
            "Error in library(\"DMwR\"): there is no package called ‘DMwR’\nTraceback:\n",
            "1. library(\"DMwR\")"
          ]
        }
      ]
    },
    {
      "cell_type": "code",
      "metadata": {
        "colab": {
          "base_uri": "https://localhost:8080/",
          "height": 560
        },
        "id": "BjHql-ZC4isr",
        "outputId": "30322850-5c41-4850-829e-24de14ef7cd3"
      },
      "source": [
        "# Lets read the Credit Card dataset\n",
        "#/creditcard.csv\n",
        "#Data <- read.csv(\"/fraudTrain.csv\", stringsAsFactors = F)\n",
        "#ModelData <- read.csv(\"/creditcard.csv\", stringsAsFactors = F)\n",
        "head(Data,3)\n",
        "head(ModelData,3)"
      ],
      "execution_count": null,
      "outputs": [
        {
          "output_type": "display_data",
          "data": {
            "text/plain": [
              "  X trans_date_trans_time cc_num       merchant                       \n",
              "1 0 2019-01-01 00:00:18   2.703186e+15 fraud_Rippin, Kub and Mann     \n",
              "2 1 2019-01-01 00:00:44   6.304233e+11 fraud_Heller, Gutmann and Zieme\n",
              "3 2 2019-01-01 00:00:51   3.885949e+13 fraud_Lind-Buckridge           \n",
              "  category      amt    first     last    gender street                       ⋯\n",
              "1 misc_net        4.97 Jennifer  Banks   F      561 Perry Cove               ⋯\n",
              "2 grocery_pos   107.23 Stephanie Gill    F      43039 Riley Greens Suite 393 ⋯\n",
              "3 entertainment 220.11 Edward    Sanchez M      594 White Dale Suite 530     ⋯\n",
              "  lat     long      city_pop job                               dob       \n",
              "1 36.0788  -81.1781 3495     Psychologist, counselling         1988-03-09\n",
              "2 48.8878 -118.2105  149     Special educational needs teacher 1978-06-21\n",
              "3 42.1808 -112.2620 4154     Nature conservation officer       1962-01-19\n",
              "  trans_num                        unix_time  merch_lat merch_long is_fraud\n",
              "1 0b242abb623afc578575680df30655b9 1325376018 36.01129   -82.04832 0       \n",
              "2 1f76529f8574734946361c461b024d99 1325376044 49.15905  -118.18646 0       \n",
              "3 a1a22d70485983eac12b5b88dad1cf95 1325376051 43.15070  -112.15448 0       "
            ],
            "text/latex": "A data.frame: 3 × 23\n\\begin{tabular}{r|lllllllllllllllllllll}\n  & X & trans\\_date\\_trans\\_time & cc\\_num & merchant & category & amt & first & last & gender & street & ⋯ & lat & long & city\\_pop & job & dob & trans\\_num & unix\\_time & merch\\_lat & merch\\_long & is\\_fraud\\\\\n  & <int> & <chr> & <dbl> & <chr> & <chr> & <dbl> & <chr> & <chr> & <chr> & <chr> & ⋯ & <dbl> & <dbl> & <int> & <chr> & <chr> & <chr> & <int> & <dbl> & <dbl> & <int>\\\\\n\\hline\n\t1 & 0 & 2019-01-01 00:00:18 & 2.703186e+15 & fraud\\_Rippin, Kub and Mann      & misc\\_net      &   4.97 & Jennifer  & Banks   & F & 561 Perry Cove               & ⋯ & 36.0788 &  -81.1781 & 3495 & Psychologist, counselling         & 1988-03-09 & 0b242abb623afc578575680df30655b9 & 1325376018 & 36.01129 &  -82.04832 & 0\\\\\n\t2 & 1 & 2019-01-01 00:00:44 & 6.304233e+11 & fraud\\_Heller, Gutmann and Zieme & grocery\\_pos   & 107.23 & Stephanie & Gill    & F & 43039 Riley Greens Suite 393 & ⋯ & 48.8878 & -118.2105 &  149 & Special educational needs teacher & 1978-06-21 & 1f76529f8574734946361c461b024d99 & 1325376044 & 49.15905 & -118.18646 & 0\\\\\n\t3 & 2 & 2019-01-01 00:00:51 & 3.885949e+13 & fraud\\_Lind-Buckridge            & entertainment & 220.11 & Edward    & Sanchez & M & 594 White Dale Suite 530     & ⋯ & 42.1808 & -112.2620 & 4154 & Nature conservation officer       & 1962-01-19 & a1a22d70485983eac12b5b88dad1cf95 & 1325376051 & 43.15070 & -112.15448 & 0\\\\\n\\end{tabular}\n",
            "text/markdown": "\nA data.frame: 3 × 23\n\n| <!--/--> | X &lt;int&gt; | trans_date_trans_time &lt;chr&gt; | cc_num &lt;dbl&gt; | merchant &lt;chr&gt; | category &lt;chr&gt; | amt &lt;dbl&gt; | first &lt;chr&gt; | last &lt;chr&gt; | gender &lt;chr&gt; | street &lt;chr&gt; | ⋯ ⋯ | lat &lt;dbl&gt; | long &lt;dbl&gt; | city_pop &lt;int&gt; | job &lt;chr&gt; | dob &lt;chr&gt; | trans_num &lt;chr&gt; | unix_time &lt;int&gt; | merch_lat &lt;dbl&gt; | merch_long &lt;dbl&gt; | is_fraud &lt;int&gt; |\n|---|---|---|---|---|---|---|---|---|---|---|---|---|---|---|---|---|---|---|---|---|---|\n| 1 | 0 | 2019-01-01 00:00:18 | 2.703186e+15 | fraud_Rippin, Kub and Mann      | misc_net      |   4.97 | Jennifer  | Banks   | F | 561 Perry Cove               | ⋯ | 36.0788 |  -81.1781 | 3495 | Psychologist, counselling         | 1988-03-09 | 0b242abb623afc578575680df30655b9 | 1325376018 | 36.01129 |  -82.04832 | 0 |\n| 2 | 1 | 2019-01-01 00:00:44 | 6.304233e+11 | fraud_Heller, Gutmann and Zieme | grocery_pos   | 107.23 | Stephanie | Gill    | F | 43039 Riley Greens Suite 393 | ⋯ | 48.8878 | -118.2105 |  149 | Special educational needs teacher | 1978-06-21 | 1f76529f8574734946361c461b024d99 | 1325376044 | 49.15905 | -118.18646 | 0 |\n| 3 | 2 | 2019-01-01 00:00:51 | 3.885949e+13 | fraud_Lind-Buckridge            | entertainment | 220.11 | Edward    | Sanchez | M | 594 White Dale Suite 530     | ⋯ | 42.1808 | -112.2620 | 4154 | Nature conservation officer       | 1962-01-19 | a1a22d70485983eac12b5b88dad1cf95 | 1325376051 | 43.15070 | -112.15448 | 0 |\n\n",
            "text/html": [
              "<table class=\"dataframe\">\n",
              "<caption>A data.frame: 3 × 23</caption>\n",
              "<thead>\n",
              "\t<tr><th></th><th scope=col>X</th><th scope=col>trans_date_trans_time</th><th scope=col>cc_num</th><th scope=col>merchant</th><th scope=col>category</th><th scope=col>amt</th><th scope=col>first</th><th scope=col>last</th><th scope=col>gender</th><th scope=col>street</th><th scope=col>⋯</th><th scope=col>lat</th><th scope=col>long</th><th scope=col>city_pop</th><th scope=col>job</th><th scope=col>dob</th><th scope=col>trans_num</th><th scope=col>unix_time</th><th scope=col>merch_lat</th><th scope=col>merch_long</th><th scope=col>is_fraud</th></tr>\n",
              "\t<tr><th></th><th scope=col>&lt;int&gt;</th><th scope=col>&lt;chr&gt;</th><th scope=col>&lt;dbl&gt;</th><th scope=col>&lt;chr&gt;</th><th scope=col>&lt;chr&gt;</th><th scope=col>&lt;dbl&gt;</th><th scope=col>&lt;chr&gt;</th><th scope=col>&lt;chr&gt;</th><th scope=col>&lt;chr&gt;</th><th scope=col>&lt;chr&gt;</th><th scope=col>⋯</th><th scope=col>&lt;dbl&gt;</th><th scope=col>&lt;dbl&gt;</th><th scope=col>&lt;int&gt;</th><th scope=col>&lt;chr&gt;</th><th scope=col>&lt;chr&gt;</th><th scope=col>&lt;chr&gt;</th><th scope=col>&lt;int&gt;</th><th scope=col>&lt;dbl&gt;</th><th scope=col>&lt;dbl&gt;</th><th scope=col>&lt;int&gt;</th></tr>\n",
              "</thead>\n",
              "<tbody>\n",
              "\t<tr><th scope=row>1</th><td>0</td><td>2019-01-01 00:00:18</td><td>2.703186e+15</td><td>fraud_Rippin, Kub and Mann     </td><td>misc_net     </td><td>  4.97</td><td>Jennifer </td><td>Banks  </td><td>F</td><td>561 Perry Cove              </td><td>⋯</td><td>36.0788</td><td> -81.1781</td><td>3495</td><td>Psychologist, counselling        </td><td>1988-03-09</td><td>0b242abb623afc578575680df30655b9</td><td>1325376018</td><td>36.01129</td><td> -82.04832</td><td>0</td></tr>\n",
              "\t<tr><th scope=row>2</th><td>1</td><td>2019-01-01 00:00:44</td><td>6.304233e+11</td><td>fraud_Heller, Gutmann and Zieme</td><td>grocery_pos  </td><td>107.23</td><td>Stephanie</td><td>Gill   </td><td>F</td><td>43039 Riley Greens Suite 393</td><td>⋯</td><td>48.8878</td><td>-118.2105</td><td> 149</td><td>Special educational needs teacher</td><td>1978-06-21</td><td>1f76529f8574734946361c461b024d99</td><td>1325376044</td><td>49.15905</td><td>-118.18646</td><td>0</td></tr>\n",
              "\t<tr><th scope=row>3</th><td>2</td><td>2019-01-01 00:00:51</td><td>3.885949e+13</td><td>fraud_Lind-Buckridge           </td><td>entertainment</td><td>220.11</td><td>Edward   </td><td>Sanchez</td><td>M</td><td>594 White Dale Suite 530    </td><td>⋯</td><td>42.1808</td><td>-112.2620</td><td>4154</td><td>Nature conservation officer      </td><td>1962-01-19</td><td>a1a22d70485983eac12b5b88dad1cf95</td><td>1325376051</td><td>43.15070</td><td>-112.15448</td><td>0</td></tr>\n",
              "</tbody>\n",
              "</table>\n"
            ]
          },
          "metadata": {}
        },
        {
          "output_type": "display_data",
          "data": {
            "text/plain": [
              "  Time V1        V2          V3        V4        V5          V6         \n",
              "1 0    -1.359807 -0.07278117 2.5363467 1.3781552 -0.33832077  0.46238778\n",
              "2 0     1.191857  0.26615071 0.1664801 0.4481541  0.06001765 -0.08236081\n",
              "3 1    -1.358354 -1.34016307 1.7732093 0.3797796 -0.50319813  1.80049938\n",
              "  V7          V8         V9         ⋯ V21         V22        V23       \n",
              "1  0.23959855 0.09869790  0.3637870 ⋯ -0.01830678  0.2778376 -0.1104739\n",
              "2 -0.07880298 0.08510165 -0.2554251 ⋯ -0.22577525 -0.6386720  0.1012880\n",
              "3  0.79146096 0.24767579 -1.5146543 ⋯  0.24799815  0.7716794  0.9094123\n",
              "  V24         V25        V26        V27          V28         Amount Class\n",
              "1  0.06692807  0.1285394 -0.1891148  0.133558377 -0.02105305 149.62 0    \n",
              "2 -0.33984648  0.1671704  0.1258945 -0.008983099  0.01472417   2.69 0    \n",
              "3 -0.68928096 -0.3276418 -0.1390966 -0.055352794 -0.05975184 378.66 0    "
            ],
            "text/latex": "A data.frame: 3 × 31\n\\begin{tabular}{r|lllllllllllllllllllll}\n  & Time & V1 & V2 & V3 & V4 & V5 & V6 & V7 & V8 & V9 & ⋯ & V21 & V22 & V23 & V24 & V25 & V26 & V27 & V28 & Amount & Class\\\\\n  & <dbl> & <dbl> & <dbl> & <dbl> & <dbl> & <dbl> & <dbl> & <dbl> & <dbl> & <dbl> & ⋯ & <dbl> & <dbl> & <dbl> & <dbl> & <dbl> & <dbl> & <dbl> & <dbl> & <dbl> & <int>\\\\\n\\hline\n\t1 & 0 & -1.359807 & -0.07278117 & 2.5363467 & 1.3781552 & -0.33832077 &  0.46238778 &  0.23959855 & 0.09869790 &  0.3637870 & ⋯ & -0.01830678 &  0.2778376 & -0.1104739 &  0.06692807 &  0.1285394 & -0.1891148 &  0.133558377 & -0.02105305 & 149.62 & 0\\\\\n\t2 & 0 &  1.191857 &  0.26615071 & 0.1664801 & 0.4481541 &  0.06001765 & -0.08236081 & -0.07880298 & 0.08510165 & -0.2554251 & ⋯ & -0.22577525 & -0.6386720 &  0.1012880 & -0.33984648 &  0.1671704 &  0.1258945 & -0.008983099 &  0.01472417 &   2.69 & 0\\\\\n\t3 & 1 & -1.358354 & -1.34016307 & 1.7732093 & 0.3797796 & -0.50319813 &  1.80049938 &  0.79146096 & 0.24767579 & -1.5146543 & ⋯ &  0.24799815 &  0.7716794 &  0.9094123 & -0.68928096 & -0.3276418 & -0.1390966 & -0.055352794 & -0.05975184 & 378.66 & 0\\\\\n\\end{tabular}\n",
            "text/markdown": "\nA data.frame: 3 × 31\n\n| <!--/--> | Time &lt;dbl&gt; | V1 &lt;dbl&gt; | V2 &lt;dbl&gt; | V3 &lt;dbl&gt; | V4 &lt;dbl&gt; | V5 &lt;dbl&gt; | V6 &lt;dbl&gt; | V7 &lt;dbl&gt; | V8 &lt;dbl&gt; | V9 &lt;dbl&gt; | ⋯ ⋯ | V21 &lt;dbl&gt; | V22 &lt;dbl&gt; | V23 &lt;dbl&gt; | V24 &lt;dbl&gt; | V25 &lt;dbl&gt; | V26 &lt;dbl&gt; | V27 &lt;dbl&gt; | V28 &lt;dbl&gt; | Amount &lt;dbl&gt; | Class &lt;int&gt; |\n|---|---|---|---|---|---|---|---|---|---|---|---|---|---|---|---|---|---|---|---|---|---|\n| 1 | 0 | -1.359807 | -0.07278117 | 2.5363467 | 1.3781552 | -0.33832077 |  0.46238778 |  0.23959855 | 0.09869790 |  0.3637870 | ⋯ | -0.01830678 |  0.2778376 | -0.1104739 |  0.06692807 |  0.1285394 | -0.1891148 |  0.133558377 | -0.02105305 | 149.62 | 0 |\n| 2 | 0 |  1.191857 |  0.26615071 | 0.1664801 | 0.4481541 |  0.06001765 | -0.08236081 | -0.07880298 | 0.08510165 | -0.2554251 | ⋯ | -0.22577525 | -0.6386720 |  0.1012880 | -0.33984648 |  0.1671704 |  0.1258945 | -0.008983099 |  0.01472417 |   2.69 | 0 |\n| 3 | 1 | -1.358354 | -1.34016307 | 1.7732093 | 0.3797796 | -0.50319813 |  1.80049938 |  0.79146096 | 0.24767579 | -1.5146543 | ⋯ |  0.24799815 |  0.7716794 |  0.9094123 | -0.68928096 | -0.3276418 | -0.1390966 | -0.055352794 | -0.05975184 | 378.66 | 0 |\n\n",
            "text/html": [
              "<table class=\"dataframe\">\n",
              "<caption>A data.frame: 3 × 31</caption>\n",
              "<thead>\n",
              "\t<tr><th></th><th scope=col>Time</th><th scope=col>V1</th><th scope=col>V2</th><th scope=col>V3</th><th scope=col>V4</th><th scope=col>V5</th><th scope=col>V6</th><th scope=col>V7</th><th scope=col>V8</th><th scope=col>V9</th><th scope=col>⋯</th><th scope=col>V21</th><th scope=col>V22</th><th scope=col>V23</th><th scope=col>V24</th><th scope=col>V25</th><th scope=col>V26</th><th scope=col>V27</th><th scope=col>V28</th><th scope=col>Amount</th><th scope=col>Class</th></tr>\n",
              "\t<tr><th></th><th scope=col>&lt;dbl&gt;</th><th scope=col>&lt;dbl&gt;</th><th scope=col>&lt;dbl&gt;</th><th scope=col>&lt;dbl&gt;</th><th scope=col>&lt;dbl&gt;</th><th scope=col>&lt;dbl&gt;</th><th scope=col>&lt;dbl&gt;</th><th scope=col>&lt;dbl&gt;</th><th scope=col>&lt;dbl&gt;</th><th scope=col>&lt;dbl&gt;</th><th scope=col>⋯</th><th scope=col>&lt;dbl&gt;</th><th scope=col>&lt;dbl&gt;</th><th scope=col>&lt;dbl&gt;</th><th scope=col>&lt;dbl&gt;</th><th scope=col>&lt;dbl&gt;</th><th scope=col>&lt;dbl&gt;</th><th scope=col>&lt;dbl&gt;</th><th scope=col>&lt;dbl&gt;</th><th scope=col>&lt;dbl&gt;</th><th scope=col>&lt;int&gt;</th></tr>\n",
              "</thead>\n",
              "<tbody>\n",
              "\t<tr><th scope=row>1</th><td>0</td><td>-1.359807</td><td>-0.07278117</td><td>2.5363467</td><td>1.3781552</td><td>-0.33832077</td><td> 0.46238778</td><td> 0.23959855</td><td>0.09869790</td><td> 0.3637870</td><td>⋯</td><td>-0.01830678</td><td> 0.2778376</td><td>-0.1104739</td><td> 0.06692807</td><td> 0.1285394</td><td>-0.1891148</td><td> 0.133558377</td><td>-0.02105305</td><td>149.62</td><td>0</td></tr>\n",
              "\t<tr><th scope=row>2</th><td>0</td><td> 1.191857</td><td> 0.26615071</td><td>0.1664801</td><td>0.4481541</td><td> 0.06001765</td><td>-0.08236081</td><td>-0.07880298</td><td>0.08510165</td><td>-0.2554251</td><td>⋯</td><td>-0.22577525</td><td>-0.6386720</td><td> 0.1012880</td><td>-0.33984648</td><td> 0.1671704</td><td> 0.1258945</td><td>-0.008983099</td><td> 0.01472417</td><td>  2.69</td><td>0</td></tr>\n",
              "\t<tr><th scope=row>3</th><td>1</td><td>-1.358354</td><td>-1.34016307</td><td>1.7732093</td><td>0.3797796</td><td>-0.50319813</td><td> 1.80049938</td><td> 0.79146096</td><td>0.24767579</td><td>-1.5146543</td><td>⋯</td><td> 0.24799815</td><td> 0.7716794</td><td> 0.9094123</td><td>-0.68928096</td><td>-0.3276418</td><td>-0.1390966</td><td>-0.055352794</td><td>-0.05975184</td><td>378.66</td><td>0</td></tr>\n",
              "</tbody>\n",
              "</table>\n"
            ]
          },
          "metadata": {}
        }
      ]
    },
    {
      "cell_type": "markdown",
      "metadata": {
        "id": "5-K-9qbfjEy-"
      },
      "source": [
        "# Data Preparation"
      ]
    },
    {
      "cell_type": "code",
      "metadata": {
        "colab": {
          "base_uri": "https://localhost:8080/",
          "height": 455
        },
        "id": "UKfiYBQO0ZG4",
        "outputId": "dcff6dcb-8541-4201-cf18-6275595d0f80"
      },
      "source": [
        "Data=Data[-1] #Removing first column as it has no logical correlation\n",
        "head(Data,3)# Let's check for any missing values in the data\n",
        "colSums(is.na(Data))#Checking for na \n",
        "apply(is.na(Data),2,sum) # removes na to add sum"
      ],
      "execution_count": null,
      "outputs": [
        {
          "output_type": "display_data",
          "data": {
            "text/plain": [
              "  trans_date_trans_time cc_num       merchant                       \n",
              "1 2019-01-01 00:00:18   2.703186e+15 fraud_Rippin, Kub and Mann     \n",
              "2 2019-01-01 00:00:44   6.304233e+11 fraud_Heller, Gutmann and Zieme\n",
              "3 2019-01-01 00:00:51   3.885949e+13 fraud_Lind-Buckridge           \n",
              "  category      amt    first     last    gender street                      \n",
              "1 misc_net        4.97 Jennifer  Banks   F      561 Perry Cove              \n",
              "2 grocery_pos   107.23 Stephanie Gill    F      43039 Riley Greens Suite 393\n",
              "3 entertainment 220.11 Edward    Sanchez M      594 White Dale Suite 530    \n",
              "  city           ⋯ lat     long      city_pop job                              \n",
              "1 Moravian Falls ⋯ 36.0788  -81.1781 3495     Psychologist, counselling        \n",
              "2 Orient         ⋯ 48.8878 -118.2105  149     Special educational needs teacher\n",
              "3 Malad City     ⋯ 42.1808 -112.2620 4154     Nature conservation officer      \n",
              "  dob        trans_num                        unix_time  merch_lat merch_long\n",
              "1 1988-03-09 0b242abb623afc578575680df30655b9 1325376018 36.01129   -82.04832\n",
              "2 1978-06-21 1f76529f8574734946361c461b024d99 1325376044 49.15905  -118.18646\n",
              "3 1962-01-19 a1a22d70485983eac12b5b88dad1cf95 1325376051 43.15070  -112.15448\n",
              "  is_fraud\n",
              "1 0       \n",
              "2 0       \n",
              "3 0       "
            ],
            "text/latex": "A data.frame: 3 × 22\n\\begin{tabular}{r|lllllllllllllllllllll}\n  & trans\\_date\\_trans\\_time & cc\\_num & merchant & category & amt & first & last & gender & street & city & ⋯ & lat & long & city\\_pop & job & dob & trans\\_num & unix\\_time & merch\\_lat & merch\\_long & is\\_fraud\\\\\n  & <chr> & <dbl> & <chr> & <chr> & <dbl> & <chr> & <chr> & <chr> & <chr> & <chr> & ⋯ & <dbl> & <dbl> & <int> & <chr> & <chr> & <chr> & <int> & <dbl> & <dbl> & <int>\\\\\n\\hline\n\t1 & 2019-01-01 00:00:18 & 2.703186e+15 & fraud\\_Rippin, Kub and Mann      & misc\\_net      &   4.97 & Jennifer  & Banks   & F & 561 Perry Cove               & Moravian Falls & ⋯ & 36.0788 &  -81.1781 & 3495 & Psychologist, counselling         & 1988-03-09 & 0b242abb623afc578575680df30655b9 & 1325376018 & 36.01129 &  -82.04832 & 0\\\\\n\t2 & 2019-01-01 00:00:44 & 6.304233e+11 & fraud\\_Heller, Gutmann and Zieme & grocery\\_pos   & 107.23 & Stephanie & Gill    & F & 43039 Riley Greens Suite 393 & Orient         & ⋯ & 48.8878 & -118.2105 &  149 & Special educational needs teacher & 1978-06-21 & 1f76529f8574734946361c461b024d99 & 1325376044 & 49.15905 & -118.18646 & 0\\\\\n\t3 & 2019-01-01 00:00:51 & 3.885949e+13 & fraud\\_Lind-Buckridge            & entertainment & 220.11 & Edward    & Sanchez & M & 594 White Dale Suite 530     & Malad City     & ⋯ & 42.1808 & -112.2620 & 4154 & Nature conservation officer       & 1962-01-19 & a1a22d70485983eac12b5b88dad1cf95 & 1325376051 & 43.15070 & -112.15448 & 0\\\\\n\\end{tabular}\n",
            "text/markdown": "\nA data.frame: 3 × 22\n\n| <!--/--> | trans_date_trans_time &lt;chr&gt; | cc_num &lt;dbl&gt; | merchant &lt;chr&gt; | category &lt;chr&gt; | amt &lt;dbl&gt; | first &lt;chr&gt; | last &lt;chr&gt; | gender &lt;chr&gt; | street &lt;chr&gt; | city &lt;chr&gt; | ⋯ ⋯ | lat &lt;dbl&gt; | long &lt;dbl&gt; | city_pop &lt;int&gt; | job &lt;chr&gt; | dob &lt;chr&gt; | trans_num &lt;chr&gt; | unix_time &lt;int&gt; | merch_lat &lt;dbl&gt; | merch_long &lt;dbl&gt; | is_fraud &lt;int&gt; |\n|---|---|---|---|---|---|---|---|---|---|---|---|---|---|---|---|---|---|---|---|---|---|\n| 1 | 2019-01-01 00:00:18 | 2.703186e+15 | fraud_Rippin, Kub and Mann      | misc_net      |   4.97 | Jennifer  | Banks   | F | 561 Perry Cove               | Moravian Falls | ⋯ | 36.0788 |  -81.1781 | 3495 | Psychologist, counselling         | 1988-03-09 | 0b242abb623afc578575680df30655b9 | 1325376018 | 36.01129 |  -82.04832 | 0 |\n| 2 | 2019-01-01 00:00:44 | 6.304233e+11 | fraud_Heller, Gutmann and Zieme | grocery_pos   | 107.23 | Stephanie | Gill    | F | 43039 Riley Greens Suite 393 | Orient         | ⋯ | 48.8878 | -118.2105 |  149 | Special educational needs teacher | 1978-06-21 | 1f76529f8574734946361c461b024d99 | 1325376044 | 49.15905 | -118.18646 | 0 |\n| 3 | 2019-01-01 00:00:51 | 3.885949e+13 | fraud_Lind-Buckridge            | entertainment | 220.11 | Edward    | Sanchez | M | 594 White Dale Suite 530     | Malad City     | ⋯ | 42.1808 | -112.2620 | 4154 | Nature conservation officer       | 1962-01-19 | a1a22d70485983eac12b5b88dad1cf95 | 1325376051 | 43.15070 | -112.15448 | 0 |\n\n",
            "text/html": [
              "<table class=\"dataframe\">\n",
              "<caption>A data.frame: 3 × 22</caption>\n",
              "<thead>\n",
              "\t<tr><th></th><th scope=col>trans_date_trans_time</th><th scope=col>cc_num</th><th scope=col>merchant</th><th scope=col>category</th><th scope=col>amt</th><th scope=col>first</th><th scope=col>last</th><th scope=col>gender</th><th scope=col>street</th><th scope=col>city</th><th scope=col>⋯</th><th scope=col>lat</th><th scope=col>long</th><th scope=col>city_pop</th><th scope=col>job</th><th scope=col>dob</th><th scope=col>trans_num</th><th scope=col>unix_time</th><th scope=col>merch_lat</th><th scope=col>merch_long</th><th scope=col>is_fraud</th></tr>\n",
              "\t<tr><th></th><th scope=col>&lt;chr&gt;</th><th scope=col>&lt;dbl&gt;</th><th scope=col>&lt;chr&gt;</th><th scope=col>&lt;chr&gt;</th><th scope=col>&lt;dbl&gt;</th><th scope=col>&lt;chr&gt;</th><th scope=col>&lt;chr&gt;</th><th scope=col>&lt;chr&gt;</th><th scope=col>&lt;chr&gt;</th><th scope=col>&lt;chr&gt;</th><th scope=col>⋯</th><th scope=col>&lt;dbl&gt;</th><th scope=col>&lt;dbl&gt;</th><th scope=col>&lt;int&gt;</th><th scope=col>&lt;chr&gt;</th><th scope=col>&lt;chr&gt;</th><th scope=col>&lt;chr&gt;</th><th scope=col>&lt;int&gt;</th><th scope=col>&lt;dbl&gt;</th><th scope=col>&lt;dbl&gt;</th><th scope=col>&lt;int&gt;</th></tr>\n",
              "</thead>\n",
              "<tbody>\n",
              "\t<tr><th scope=row>1</th><td>2019-01-01 00:00:18</td><td>2.703186e+15</td><td>fraud_Rippin, Kub and Mann     </td><td>misc_net     </td><td>  4.97</td><td>Jennifer </td><td>Banks  </td><td>F</td><td>561 Perry Cove              </td><td>Moravian Falls</td><td>⋯</td><td>36.0788</td><td> -81.1781</td><td>3495</td><td>Psychologist, counselling        </td><td>1988-03-09</td><td>0b242abb623afc578575680df30655b9</td><td>1325376018</td><td>36.01129</td><td> -82.04832</td><td>0</td></tr>\n",
              "\t<tr><th scope=row>2</th><td>2019-01-01 00:00:44</td><td>6.304233e+11</td><td>fraud_Heller, Gutmann and Zieme</td><td>grocery_pos  </td><td>107.23</td><td>Stephanie</td><td>Gill   </td><td>F</td><td>43039 Riley Greens Suite 393</td><td>Orient        </td><td>⋯</td><td>48.8878</td><td>-118.2105</td><td> 149</td><td>Special educational needs teacher</td><td>1978-06-21</td><td>1f76529f8574734946361c461b024d99</td><td>1325376044</td><td>49.15905</td><td>-118.18646</td><td>0</td></tr>\n",
              "\t<tr><th scope=row>3</th><td>2019-01-01 00:00:51</td><td>3.885949e+13</td><td>fraud_Lind-Buckridge           </td><td>entertainment</td><td>220.11</td><td>Edward   </td><td>Sanchez</td><td>M</td><td>594 White Dale Suite 530    </td><td>Malad City    </td><td>⋯</td><td>42.1808</td><td>-112.2620</td><td>4154</td><td>Nature conservation officer      </td><td>1962-01-19</td><td>a1a22d70485983eac12b5b88dad1cf95</td><td>1325376051</td><td>43.15070</td><td>-112.15448</td><td>0</td></tr>\n",
              "</tbody>\n",
              "</table>\n"
            ]
          },
          "metadata": {}
        },
        {
          "output_type": "display_data",
          "data": {
            "text/plain": [
              "trans_date_trans_time                cc_num              merchant \n",
              "                    0                     0                     0 \n",
              "             category                   amt                 first \n",
              "                    0                     0                     0 \n",
              "                 last                gender                street \n",
              "                    0                     0                     0 \n",
              "                 city                 state                   zip \n",
              "                    0                     0                     0 \n",
              "                  lat                  long              city_pop \n",
              "                    0                     0                     0 \n",
              "                  job                   dob             trans_num \n",
              "                    0                     0                     0 \n",
              "            unix_time             merch_lat            merch_long \n",
              "                    0                     0                     0 \n",
              "             is_fraud \n",
              "                    0 "
            ],
            "text/latex": "\\begin{description*}\n\\item[trans\\textbackslash{}\\_date\\textbackslash{}\\_trans\\textbackslash{}\\_time] 0\n\\item[cc\\textbackslash{}\\_num] 0\n\\item[merchant] 0\n\\item[category] 0\n\\item[amt] 0\n\\item[first] 0\n\\item[last] 0\n\\item[gender] 0\n\\item[street] 0\n\\item[city] 0\n\\item[state] 0\n\\item[zip] 0\n\\item[lat] 0\n\\item[long] 0\n\\item[city\\textbackslash{}\\_pop] 0\n\\item[job] 0\n\\item[dob] 0\n\\item[trans\\textbackslash{}\\_num] 0\n\\item[unix\\textbackslash{}\\_time] 0\n\\item[merch\\textbackslash{}\\_lat] 0\n\\item[merch\\textbackslash{}\\_long] 0\n\\item[is\\textbackslash{}\\_fraud] 0\n\\end{description*}\n",
            "text/markdown": "trans_date_trans_time\n:   0cc_num\n:   0merchant\n:   0category\n:   0amt\n:   0first\n:   0last\n:   0gender\n:   0street\n:   0city\n:   0state\n:   0zip\n:   0lat\n:   0long\n:   0city_pop\n:   0job\n:   0dob\n:   0trans_num\n:   0unix_time\n:   0merch_lat\n:   0merch_long\n:   0is_fraud\n:   0\n\n",
            "text/html": [
              "<style>\n",
              ".dl-inline {width: auto; margin:0; padding: 0}\n",
              ".dl-inline>dt, .dl-inline>dd {float: none; width: auto; display: inline-block}\n",
              ".dl-inline>dt::after {content: \":\\0020\"; padding-right: .5ex}\n",
              ".dl-inline>dt:not(:first-of-type) {padding-left: .5ex}\n",
              "</style><dl class=dl-inline><dt>trans_date_trans_time</dt><dd>0</dd><dt>cc_num</dt><dd>0</dd><dt>merchant</dt><dd>0</dd><dt>category</dt><dd>0</dd><dt>amt</dt><dd>0</dd><dt>first</dt><dd>0</dd><dt>last</dt><dd>0</dd><dt>gender</dt><dd>0</dd><dt>street</dt><dd>0</dd><dt>city</dt><dd>0</dd><dt>state</dt><dd>0</dd><dt>zip</dt><dd>0</dd><dt>lat</dt><dd>0</dd><dt>long</dt><dd>0</dd><dt>city_pop</dt><dd>0</dd><dt>job</dt><dd>0</dd><dt>dob</dt><dd>0</dd><dt>trans_num</dt><dd>0</dd><dt>unix_time</dt><dd>0</dd><dt>merch_lat</dt><dd>0</dd><dt>merch_long</dt><dd>0</dd><dt>is_fraud</dt><dd>0</dd></dl>\n"
            ]
          },
          "metadata": {}
        },
        {
          "output_type": "display_data",
          "data": {
            "text/plain": [
              "trans_date_trans_time                cc_num              merchant \n",
              "                    0                     0                     0 \n",
              "             category                   amt                 first \n",
              "                    0                     0                     0 \n",
              "                 last                gender                street \n",
              "                    0                     0                     0 \n",
              "                 city                 state                   zip \n",
              "                    0                     0                     0 \n",
              "                  lat                  long              city_pop \n",
              "                    0                     0                     0 \n",
              "                  job                   dob             trans_num \n",
              "                    0                     0                     0 \n",
              "            unix_time             merch_lat            merch_long \n",
              "                    0                     0                     0 \n",
              "             is_fraud \n",
              "                    0 "
            ],
            "text/latex": "\\begin{description*}\n\\item[trans\\textbackslash{}\\_date\\textbackslash{}\\_trans\\textbackslash{}\\_time] 0\n\\item[cc\\textbackslash{}\\_num] 0\n\\item[merchant] 0\n\\item[category] 0\n\\item[amt] 0\n\\item[first] 0\n\\item[last] 0\n\\item[gender] 0\n\\item[street] 0\n\\item[city] 0\n\\item[state] 0\n\\item[zip] 0\n\\item[lat] 0\n\\item[long] 0\n\\item[city\\textbackslash{}\\_pop] 0\n\\item[job] 0\n\\item[dob] 0\n\\item[trans\\textbackslash{}\\_num] 0\n\\item[unix\\textbackslash{}\\_time] 0\n\\item[merch\\textbackslash{}\\_lat] 0\n\\item[merch\\textbackslash{}\\_long] 0\n\\item[is\\textbackslash{}\\_fraud] 0\n\\end{description*}\n",
            "text/markdown": "trans_date_trans_time\n:   0cc_num\n:   0merchant\n:   0category\n:   0amt\n:   0first\n:   0last\n:   0gender\n:   0street\n:   0city\n:   0state\n:   0zip\n:   0lat\n:   0long\n:   0city_pop\n:   0job\n:   0dob\n:   0trans_num\n:   0unix_time\n:   0merch_lat\n:   0merch_long\n:   0is_fraud\n:   0\n\n",
            "text/html": [
              "<style>\n",
              ".dl-inline {width: auto; margin:0; padding: 0}\n",
              ".dl-inline>dt, .dl-inline>dd {float: none; width: auto; display: inline-block}\n",
              ".dl-inline>dt::after {content: \":\\0020\"; padding-right: .5ex}\n",
              ".dl-inline>dt:not(:first-of-type) {padding-left: .5ex}\n",
              "</style><dl class=dl-inline><dt>trans_date_trans_time</dt><dd>0</dd><dt>cc_num</dt><dd>0</dd><dt>merchant</dt><dd>0</dd><dt>category</dt><dd>0</dd><dt>amt</dt><dd>0</dd><dt>first</dt><dd>0</dd><dt>last</dt><dd>0</dd><dt>gender</dt><dd>0</dd><dt>street</dt><dd>0</dd><dt>city</dt><dd>0</dd><dt>state</dt><dd>0</dd><dt>zip</dt><dd>0</dd><dt>lat</dt><dd>0</dd><dt>long</dt><dd>0</dd><dt>city_pop</dt><dd>0</dd><dt>job</dt><dd>0</dd><dt>dob</dt><dd>0</dd><dt>trans_num</dt><dd>0</dd><dt>unix_time</dt><dd>0</dd><dt>merch_lat</dt><dd>0</dd><dt>merch_long</dt><dd>0</dd><dt>is_fraud</dt><dd>0</dd></dl>\n"
            ]
          },
          "metadata": {}
        }
      ]
    },
    {
      "cell_type": "code",
      "metadata": {
        "colab": {
          "base_uri": "https://localhost:8080/",
          "height": 316
        },
        "id": "EgdJN-ys1Z9_",
        "outputId": "dda5177b-7365-4c24-e99f-46b91f9ce3ad"
      },
      "source": [
        "head(ModelData,3)# Let's check for any missing values in the data\n",
        "colSums(is.na(ModelData))#Checking for na \n",
        "apply(is.na(ModelData),2,sum) # removes na to add sum"
      ],
      "execution_count": null,
      "outputs": [
        {
          "output_type": "display_data",
          "data": {
            "text/plain": [
              "  Time V1        V2          V3        V4        V5          V6         \n",
              "1 0    -1.359807 -0.07278117 2.5363467 1.3781552 -0.33832077  0.46238778\n",
              "2 0     1.191857  0.26615071 0.1664801 0.4481541  0.06001765 -0.08236081\n",
              "3 1    -1.358354 -1.34016307 1.7732093 0.3797796 -0.50319813  1.80049938\n",
              "  V7          V8         V9         ⋯ V21         V22        V23       \n",
              "1  0.23959855 0.09869790  0.3637870 ⋯ -0.01830678  0.2778376 -0.1104739\n",
              "2 -0.07880298 0.08510165 -0.2554251 ⋯ -0.22577525 -0.6386720  0.1012880\n",
              "3  0.79146096 0.24767579 -1.5146543 ⋯  0.24799815  0.7716794  0.9094123\n",
              "  V24         V25        V26        V27          V28         Amount Class\n",
              "1  0.06692807  0.1285394 -0.1891148  0.133558377 -0.02105305 149.62 0    \n",
              "2 -0.33984648  0.1671704  0.1258945 -0.008983099  0.01472417   2.69 0    \n",
              "3 -0.68928096 -0.3276418 -0.1390966 -0.055352794 -0.05975184 378.66 0    "
            ],
            "text/latex": "A data.frame: 3 × 31\n\\begin{tabular}{r|lllllllllllllllllllll}\n  & Time & V1 & V2 & V3 & V4 & V5 & V6 & V7 & V8 & V9 & ⋯ & V21 & V22 & V23 & V24 & V25 & V26 & V27 & V28 & Amount & Class\\\\\n  & <dbl> & <dbl> & <dbl> & <dbl> & <dbl> & <dbl> & <dbl> & <dbl> & <dbl> & <dbl> & ⋯ & <dbl> & <dbl> & <dbl> & <dbl> & <dbl> & <dbl> & <dbl> & <dbl> & <dbl> & <int>\\\\\n\\hline\n\t1 & 0 & -1.359807 & -0.07278117 & 2.5363467 & 1.3781552 & -0.33832077 &  0.46238778 &  0.23959855 & 0.09869790 &  0.3637870 & ⋯ & -0.01830678 &  0.2778376 & -0.1104739 &  0.06692807 &  0.1285394 & -0.1891148 &  0.133558377 & -0.02105305 & 149.62 & 0\\\\\n\t2 & 0 &  1.191857 &  0.26615071 & 0.1664801 & 0.4481541 &  0.06001765 & -0.08236081 & -0.07880298 & 0.08510165 & -0.2554251 & ⋯ & -0.22577525 & -0.6386720 &  0.1012880 & -0.33984648 &  0.1671704 &  0.1258945 & -0.008983099 &  0.01472417 &   2.69 & 0\\\\\n\t3 & 1 & -1.358354 & -1.34016307 & 1.7732093 & 0.3797796 & -0.50319813 &  1.80049938 &  0.79146096 & 0.24767579 & -1.5146543 & ⋯ &  0.24799815 &  0.7716794 &  0.9094123 & -0.68928096 & -0.3276418 & -0.1390966 & -0.055352794 & -0.05975184 & 378.66 & 0\\\\\n\\end{tabular}\n",
            "text/markdown": "\nA data.frame: 3 × 31\n\n| <!--/--> | Time &lt;dbl&gt; | V1 &lt;dbl&gt; | V2 &lt;dbl&gt; | V3 &lt;dbl&gt; | V4 &lt;dbl&gt; | V5 &lt;dbl&gt; | V6 &lt;dbl&gt; | V7 &lt;dbl&gt; | V8 &lt;dbl&gt; | V9 &lt;dbl&gt; | ⋯ ⋯ | V21 &lt;dbl&gt; | V22 &lt;dbl&gt; | V23 &lt;dbl&gt; | V24 &lt;dbl&gt; | V25 &lt;dbl&gt; | V26 &lt;dbl&gt; | V27 &lt;dbl&gt; | V28 &lt;dbl&gt; | Amount &lt;dbl&gt; | Class &lt;int&gt; |\n|---|---|---|---|---|---|---|---|---|---|---|---|---|---|---|---|---|---|---|---|---|---|\n| 1 | 0 | -1.359807 | -0.07278117 | 2.5363467 | 1.3781552 | -0.33832077 |  0.46238778 |  0.23959855 | 0.09869790 |  0.3637870 | ⋯ | -0.01830678 |  0.2778376 | -0.1104739 |  0.06692807 |  0.1285394 | -0.1891148 |  0.133558377 | -0.02105305 | 149.62 | 0 |\n| 2 | 0 |  1.191857 |  0.26615071 | 0.1664801 | 0.4481541 |  0.06001765 | -0.08236081 | -0.07880298 | 0.08510165 | -0.2554251 | ⋯ | -0.22577525 | -0.6386720 |  0.1012880 | -0.33984648 |  0.1671704 |  0.1258945 | -0.008983099 |  0.01472417 |   2.69 | 0 |\n| 3 | 1 | -1.358354 | -1.34016307 | 1.7732093 | 0.3797796 | -0.50319813 |  1.80049938 |  0.79146096 | 0.24767579 | -1.5146543 | ⋯ |  0.24799815 |  0.7716794 |  0.9094123 | -0.68928096 | -0.3276418 | -0.1390966 | -0.055352794 | -0.05975184 | 378.66 | 0 |\n\n",
            "text/html": [
              "<table class=\"dataframe\">\n",
              "<caption>A data.frame: 3 × 31</caption>\n",
              "<thead>\n",
              "\t<tr><th></th><th scope=col>Time</th><th scope=col>V1</th><th scope=col>V2</th><th scope=col>V3</th><th scope=col>V4</th><th scope=col>V5</th><th scope=col>V6</th><th scope=col>V7</th><th scope=col>V8</th><th scope=col>V9</th><th scope=col>⋯</th><th scope=col>V21</th><th scope=col>V22</th><th scope=col>V23</th><th scope=col>V24</th><th scope=col>V25</th><th scope=col>V26</th><th scope=col>V27</th><th scope=col>V28</th><th scope=col>Amount</th><th scope=col>Class</th></tr>\n",
              "\t<tr><th></th><th scope=col>&lt;dbl&gt;</th><th scope=col>&lt;dbl&gt;</th><th scope=col>&lt;dbl&gt;</th><th scope=col>&lt;dbl&gt;</th><th scope=col>&lt;dbl&gt;</th><th scope=col>&lt;dbl&gt;</th><th scope=col>&lt;dbl&gt;</th><th scope=col>&lt;dbl&gt;</th><th scope=col>&lt;dbl&gt;</th><th scope=col>&lt;dbl&gt;</th><th scope=col>⋯</th><th scope=col>&lt;dbl&gt;</th><th scope=col>&lt;dbl&gt;</th><th scope=col>&lt;dbl&gt;</th><th scope=col>&lt;dbl&gt;</th><th scope=col>&lt;dbl&gt;</th><th scope=col>&lt;dbl&gt;</th><th scope=col>&lt;dbl&gt;</th><th scope=col>&lt;dbl&gt;</th><th scope=col>&lt;dbl&gt;</th><th scope=col>&lt;int&gt;</th></tr>\n",
              "</thead>\n",
              "<tbody>\n",
              "\t<tr><th scope=row>1</th><td>0</td><td>-1.359807</td><td>-0.07278117</td><td>2.5363467</td><td>1.3781552</td><td>-0.33832077</td><td> 0.46238778</td><td> 0.23959855</td><td>0.09869790</td><td> 0.3637870</td><td>⋯</td><td>-0.01830678</td><td> 0.2778376</td><td>-0.1104739</td><td> 0.06692807</td><td> 0.1285394</td><td>-0.1891148</td><td> 0.133558377</td><td>-0.02105305</td><td>149.62</td><td>0</td></tr>\n",
              "\t<tr><th scope=row>2</th><td>0</td><td> 1.191857</td><td> 0.26615071</td><td>0.1664801</td><td>0.4481541</td><td> 0.06001765</td><td>-0.08236081</td><td>-0.07880298</td><td>0.08510165</td><td>-0.2554251</td><td>⋯</td><td>-0.22577525</td><td>-0.6386720</td><td> 0.1012880</td><td>-0.33984648</td><td> 0.1671704</td><td> 0.1258945</td><td>-0.008983099</td><td> 0.01472417</td><td>  2.69</td><td>0</td></tr>\n",
              "\t<tr><th scope=row>3</th><td>1</td><td>-1.358354</td><td>-1.34016307</td><td>1.7732093</td><td>0.3797796</td><td>-0.50319813</td><td> 1.80049938</td><td> 0.79146096</td><td>0.24767579</td><td>-1.5146543</td><td>⋯</td><td> 0.24799815</td><td> 0.7716794</td><td> 0.9094123</td><td>-0.68928096</td><td>-0.3276418</td><td>-0.1390966</td><td>-0.055352794</td><td>-0.05975184</td><td>378.66</td><td>0</td></tr>\n",
              "</tbody>\n",
              "</table>\n"
            ]
          },
          "metadata": {}
        },
        {
          "output_type": "display_data",
          "data": {
            "text/plain": [
              "  Time     V1     V2     V3     V4     V5     V6     V7     V8     V9    V10 \n",
              "     0      0      0      0      0      0      0      0      0      0      0 \n",
              "   V11    V12    V13    V14    V15    V16    V17    V18    V19    V20    V21 \n",
              "     0      0      0      0      0      0      0      0      0      0      0 \n",
              "   V22    V23    V24    V25    V26    V27    V28 Amount  Class \n",
              "     0      0      0      0      0      0      0      0      0 "
            ],
            "text/latex": "\\begin{description*}\n\\item[Time] 0\n\\item[V1] 0\n\\item[V2] 0\n\\item[V3] 0\n\\item[V4] 0\n\\item[V5] 0\n\\item[V6] 0\n\\item[V7] 0\n\\item[V8] 0\n\\item[V9] 0\n\\item[V10] 0\n\\item[V11] 0\n\\item[V12] 0\n\\item[V13] 0\n\\item[V14] 0\n\\item[V15] 0\n\\item[V16] 0\n\\item[V17] 0\n\\item[V18] 0\n\\item[V19] 0\n\\item[V20] 0\n\\item[V21] 0\n\\item[V22] 0\n\\item[V23] 0\n\\item[V24] 0\n\\item[V25] 0\n\\item[V26] 0\n\\item[V27] 0\n\\item[V28] 0\n\\item[Amount] 0\n\\item[Class] 0\n\\end{description*}\n",
            "text/markdown": "Time\n:   0V1\n:   0V2\n:   0V3\n:   0V4\n:   0V5\n:   0V6\n:   0V7\n:   0V8\n:   0V9\n:   0V10\n:   0V11\n:   0V12\n:   0V13\n:   0V14\n:   0V15\n:   0V16\n:   0V17\n:   0V18\n:   0V19\n:   0V20\n:   0V21\n:   0V22\n:   0V23\n:   0V24\n:   0V25\n:   0V26\n:   0V27\n:   0V28\n:   0Amount\n:   0Class\n:   0\n\n",
            "text/html": [
              "<style>\n",
              ".dl-inline {width: auto; margin:0; padding: 0}\n",
              ".dl-inline>dt, .dl-inline>dd {float: none; width: auto; display: inline-block}\n",
              ".dl-inline>dt::after {content: \":\\0020\"; padding-right: .5ex}\n",
              ".dl-inline>dt:not(:first-of-type) {padding-left: .5ex}\n",
              "</style><dl class=dl-inline><dt>Time</dt><dd>0</dd><dt>V1</dt><dd>0</dd><dt>V2</dt><dd>0</dd><dt>V3</dt><dd>0</dd><dt>V4</dt><dd>0</dd><dt>V5</dt><dd>0</dd><dt>V6</dt><dd>0</dd><dt>V7</dt><dd>0</dd><dt>V8</dt><dd>0</dd><dt>V9</dt><dd>0</dd><dt>V10</dt><dd>0</dd><dt>V11</dt><dd>0</dd><dt>V12</dt><dd>0</dd><dt>V13</dt><dd>0</dd><dt>V14</dt><dd>0</dd><dt>V15</dt><dd>0</dd><dt>V16</dt><dd>0</dd><dt>V17</dt><dd>0</dd><dt>V18</dt><dd>0</dd><dt>V19</dt><dd>0</dd><dt>V20</dt><dd>0</dd><dt>V21</dt><dd>0</dd><dt>V22</dt><dd>0</dd><dt>V23</dt><dd>0</dd><dt>V24</dt><dd>0</dd><dt>V25</dt><dd>0</dd><dt>V26</dt><dd>0</dd><dt>V27</dt><dd>0</dd><dt>V28</dt><dd>0</dd><dt>Amount</dt><dd>0</dd><dt>Class</dt><dd>0</dd></dl>\n"
            ]
          },
          "metadata": {}
        },
        {
          "output_type": "display_data",
          "data": {
            "text/plain": [
              "  Time     V1     V2     V3     V4     V5     V6     V7     V8     V9    V10 \n",
              "     0      0      0      0      0      0      0      0      0      0      0 \n",
              "   V11    V12    V13    V14    V15    V16    V17    V18    V19    V20    V21 \n",
              "     0      0      0      0      0      0      0      0      0      0      0 \n",
              "   V22    V23    V24    V25    V26    V27    V28 Amount  Class \n",
              "     0      0      0      0      0      0      0      0      0 "
            ],
            "text/latex": "\\begin{description*}\n\\item[Time] 0\n\\item[V1] 0\n\\item[V2] 0\n\\item[V3] 0\n\\item[V4] 0\n\\item[V5] 0\n\\item[V6] 0\n\\item[V7] 0\n\\item[V8] 0\n\\item[V9] 0\n\\item[V10] 0\n\\item[V11] 0\n\\item[V12] 0\n\\item[V13] 0\n\\item[V14] 0\n\\item[V15] 0\n\\item[V16] 0\n\\item[V17] 0\n\\item[V18] 0\n\\item[V19] 0\n\\item[V20] 0\n\\item[V21] 0\n\\item[V22] 0\n\\item[V23] 0\n\\item[V24] 0\n\\item[V25] 0\n\\item[V26] 0\n\\item[V27] 0\n\\item[V28] 0\n\\item[Amount] 0\n\\item[Class] 0\n\\end{description*}\n",
            "text/markdown": "Time\n:   0V1\n:   0V2\n:   0V3\n:   0V4\n:   0V5\n:   0V6\n:   0V7\n:   0V8\n:   0V9\n:   0V10\n:   0V11\n:   0V12\n:   0V13\n:   0V14\n:   0V15\n:   0V16\n:   0V17\n:   0V18\n:   0V19\n:   0V20\n:   0V21\n:   0V22\n:   0V23\n:   0V24\n:   0V25\n:   0V26\n:   0V27\n:   0V28\n:   0Amount\n:   0Class\n:   0\n\n",
            "text/html": [
              "<style>\n",
              ".dl-inline {width: auto; margin:0; padding: 0}\n",
              ".dl-inline>dt, .dl-inline>dd {float: none; width: auto; display: inline-block}\n",
              ".dl-inline>dt::after {content: \":\\0020\"; padding-right: .5ex}\n",
              ".dl-inline>dt:not(:first-of-type) {padding-left: .5ex}\n",
              "</style><dl class=dl-inline><dt>Time</dt><dd>0</dd><dt>V1</dt><dd>0</dd><dt>V2</dt><dd>0</dd><dt>V3</dt><dd>0</dd><dt>V4</dt><dd>0</dd><dt>V5</dt><dd>0</dd><dt>V6</dt><dd>0</dd><dt>V7</dt><dd>0</dd><dt>V8</dt><dd>0</dd><dt>V9</dt><dd>0</dd><dt>V10</dt><dd>0</dd><dt>V11</dt><dd>0</dd><dt>V12</dt><dd>0</dd><dt>V13</dt><dd>0</dd><dt>V14</dt><dd>0</dd><dt>V15</dt><dd>0</dd><dt>V16</dt><dd>0</dd><dt>V17</dt><dd>0</dd><dt>V18</dt><dd>0</dd><dt>V19</dt><dd>0</dd><dt>V20</dt><dd>0</dd><dt>V21</dt><dd>0</dd><dt>V22</dt><dd>0</dd><dt>V23</dt><dd>0</dd><dt>V24</dt><dd>0</dd><dt>V25</dt><dd>0</dd><dt>V26</dt><dd>0</dd><dt>V27</dt><dd>0</dd><dt>V28</dt><dd>0</dd><dt>Amount</dt><dd>0</dd><dt>Class</dt><dd>0</dd></dl>\n"
            ]
          },
          "metadata": {}
        }
      ]
    },
    {
      "cell_type": "markdown",
      "metadata": {
        "id": "3JsBhmelkcuQ"
      },
      "source": [
        "# Exploratory Data Analysis - Understanding the dataset"
      ]
    },
    {
      "cell_type": "code",
      "metadata": {
        "colab": {
          "base_uri": "https://localhost:8080/",
          "height": 126
        },
        "id": "AYLAYCIN0iK5",
        "outputId": "42b1ee67-5698-4fc7-9b61-c93d83fae7f2"
      },
      "source": [
        "#Understanding the dataset\n",
        "\n",
        "# check how many entries for fraud and non fraud\n",
        "data_fraud = Data[which(Data$is_fraud == 1),]\n",
        "print (nrow(data_fraud)) #Overall Fraud transactions happened 7506\n",
        "data_notfraud = Data[which(Data$is_fraud == 0),]\n",
        "print (nrow(data_notfraud)) # Overal Non Fraud transactions happened 1289169\n",
        "print (nrow(Data)) #Total transactions 1296675\n",
        "\n",
        "# % split of fraud/non fraud records amount to 99.42% vs 0.058%\n",
        "prop.table(table(Data$is_fraud)) #99.42% vs 0.058%"
      ],
      "execution_count": null,
      "outputs": [
        {
          "output_type": "stream",
          "name": "stdout",
          "text": [
            "[1] 7506\n",
            "[1] 1289169\n",
            "[1] 1296675\n"
          ]
        },
        {
          "output_type": "display_data",
          "data": {
            "text/plain": [
              "\n",
              "          0           1 \n",
              "0.994211348 0.005788652 "
            ]
          },
          "metadata": {}
        }
      ]
    },
    {
      "cell_type": "code",
      "metadata": {
        "id": "qUm-b0AS0uo9"
      },
      "source": [
        "#The above shows that data is highly imbalanced"
      ],
      "execution_count": null,
      "outputs": []
    },
    {
      "cell_type": "code",
      "metadata": {
        "id": "CeWuWkwi0y4t"
      },
      "source": [
        "#check fraud and non fraud cases groupby gender\n",
        "men_notfraud = nrow(Data[which(Data$is_fraud == 0 & Data$gender == \"M\"),]) # 583041\n",
        "women_notfraud = nrow(Data[which(Data$is_fraud == 0 & Data$gender == \"F\"),]) #706128\n",
        "men_fraud = nrow(Data[which(Data$is_fraud == 1 & Data$gender == \"M\"),]) # 3771\n",
        "women_fraud = nrow(Data[which(Data$is_fraud == 1 & Data$gender == \"F\"),]) # 3735\n"
      ],
      "execution_count": null,
      "outputs": []
    },
    {
      "cell_type": "code",
      "metadata": {
        "colab": {
          "base_uri": "https://localhost:8080/",
          "height": 1000
        },
        "id": "c-Upq9pS07nt",
        "outputId": "5c77f767-8968-4253-cf18-56cb3213ca01"
      },
      "source": [
        "# % of men who frauded\n",
        "men_fraud_percent = (men_fraud/(men_notfraud + men_fraud))*100\n",
        "print (men_fraud_percent) #0.64%\n",
        "\n",
        "# % of women who frauded\n",
        "women_fraud_percent = 100 * women_fraud/(women_notfraud + women_fraud)\n",
        "print (women_fraud_percent) #0.52%\n",
        "\n",
        "#Find the max and top ten fraud cases transaction amount\n",
        "(top_n(data_fraud, 10, data_fraud$amt))$amt   \n",
        "max(data_fraud$amt)#1376.04\n",
        "\n",
        "#Find the average fraud amount per category. \n",
        "table(data_fraud$category)\n",
        "aggregate(data_fraud$amt, list(data_fraud$category), mean)\n",
        "aggregate(data_fraud$amt, list(data_fraud$category), median) # It is mostly same for mean and median"
      ],
      "execution_count": null,
      "outputs": [
        {
          "output_type": "stream",
          "name": "stdout",
          "text": [
            "[1] 0.6426249\n",
            "[1] 0.5261579\n"
          ]
        },
        {
          "output_type": "display_data",
          "data": {
            "text/plain": [
              " [1] 1334.07 1292.21 1371.81 1289.89 1313.18 1294.83 1289.07 1324.80 1312.98\n",
              "[10] 1376.04"
            ],
            "text/latex": "\\begin{enumerate*}\n\\item 1334.07\n\\item 1292.21\n\\item 1371.81\n\\item 1289.89\n\\item 1313.18\n\\item 1294.83\n\\item 1289.07\n\\item 1324.8\n\\item 1312.98\n\\item 1376.04\n\\end{enumerate*}\n",
            "text/markdown": "1. 1334.07\n2. 1292.21\n3. 1371.81\n4. 1289.89\n5. 1313.18\n6. 1294.83\n7. 1289.07\n8. 1324.8\n9. 1312.98\n10. 1376.04\n\n\n",
            "text/html": [
              "<style>\n",
              ".list-inline {list-style: none; margin:0; padding: 0}\n",
              ".list-inline>li {display: inline-block}\n",
              ".list-inline>li:not(:last-child)::after {content: \"\\00b7\"; padding: 0 .5ex}\n",
              "</style>\n",
              "<ol class=list-inline><li>1334.07</li><li>1292.21</li><li>1371.81</li><li>1289.89</li><li>1313.18</li><li>1294.83</li><li>1289.07</li><li>1324.8</li><li>1312.98</li><li>1376.04</li></ol>\n"
            ]
          },
          "metadata": {}
        },
        {
          "output_type": "display_data",
          "data": {
            "text/plain": [
              "[1] 1376.04"
            ],
            "text/latex": "1376.04",
            "text/markdown": "1376.04",
            "text/html": [
              "1376.04"
            ]
          },
          "metadata": {}
        },
        {
          "output_type": "display_data",
          "data": {
            "text/plain": [
              "\n",
              " entertainment    food_dining  gas_transport    grocery_net    grocery_pos \n",
              "           233            151            618            134           1743 \n",
              "health_fitness           home      kids_pets       misc_net       misc_pos \n",
              "           133            198            239            915            250 \n",
              " personal_care   shopping_net   shopping_pos         travel \n",
              "           220           1713            843            116 "
            ]
          },
          "metadata": {}
        },
        {
          "output_type": "display_data",
          "data": {
            "text/plain": [
              "   Group.1        x         \n",
              "1  entertainment  503.535579\n",
              "2  food_dining    120.076954\n",
              "3  gas_transport   12.288204\n",
              "4  grocery_net     12.162836\n",
              "5  grocery_pos    311.989616\n",
              "6  health_fitness  20.248421\n",
              "7  home           257.432626\n",
              "8  kids_pets       18.121674\n",
              "9  misc_net       797.012852\n",
              "10 misc_pos       218.284080\n",
              "11 personal_care   26.170545\n",
              "12 shopping_net   999.254939\n",
              "13 shopping_pos   876.921815\n",
              "14 travel           9.064569"
            ],
            "text/latex": "A data.frame: 14 × 2\n\\begin{tabular}{ll}\n Group.1 & x\\\\\n <chr> & <dbl>\\\\\n\\hline\n\t entertainment  & 503.535579\\\\\n\t food\\_dining    & 120.076954\\\\\n\t gas\\_transport  &  12.288204\\\\\n\t grocery\\_net    &  12.162836\\\\\n\t grocery\\_pos    & 311.989616\\\\\n\t health\\_fitness &  20.248421\\\\\n\t home           & 257.432626\\\\\n\t kids\\_pets      &  18.121674\\\\\n\t misc\\_net       & 797.012852\\\\\n\t misc\\_pos       & 218.284080\\\\\n\t personal\\_care  &  26.170545\\\\\n\t shopping\\_net   & 999.254939\\\\\n\t shopping\\_pos   & 876.921815\\\\\n\t travel         &   9.064569\\\\\n\\end{tabular}\n",
            "text/markdown": "\nA data.frame: 14 × 2\n\n| Group.1 &lt;chr&gt; | x &lt;dbl&gt; |\n|---|---|\n| entertainment  | 503.535579 |\n| food_dining    | 120.076954 |\n| gas_transport  |  12.288204 |\n| grocery_net    |  12.162836 |\n| grocery_pos    | 311.989616 |\n| health_fitness |  20.248421 |\n| home           | 257.432626 |\n| kids_pets      |  18.121674 |\n| misc_net       | 797.012852 |\n| misc_pos       | 218.284080 |\n| personal_care  |  26.170545 |\n| shopping_net   | 999.254939 |\n| shopping_pos   | 876.921815 |\n| travel         |   9.064569 |\n\n",
            "text/html": [
              "<table class=\"dataframe\">\n",
              "<caption>A data.frame: 14 × 2</caption>\n",
              "<thead>\n",
              "\t<tr><th scope=col>Group.1</th><th scope=col>x</th></tr>\n",
              "\t<tr><th scope=col>&lt;chr&gt;</th><th scope=col>&lt;dbl&gt;</th></tr>\n",
              "</thead>\n",
              "<tbody>\n",
              "\t<tr><td>entertainment </td><td>503.535579</td></tr>\n",
              "\t<tr><td>food_dining   </td><td>120.076954</td></tr>\n",
              "\t<tr><td>gas_transport </td><td> 12.288204</td></tr>\n",
              "\t<tr><td>grocery_net   </td><td> 12.162836</td></tr>\n",
              "\t<tr><td>grocery_pos   </td><td>311.989616</td></tr>\n",
              "\t<tr><td>health_fitness</td><td> 20.248421</td></tr>\n",
              "\t<tr><td>home          </td><td>257.432626</td></tr>\n",
              "\t<tr><td>kids_pets     </td><td> 18.121674</td></tr>\n",
              "\t<tr><td>misc_net      </td><td>797.012852</td></tr>\n",
              "\t<tr><td>misc_pos      </td><td>218.284080</td></tr>\n",
              "\t<tr><td>personal_care </td><td> 26.170545</td></tr>\n",
              "\t<tr><td>shopping_net  </td><td>999.254939</td></tr>\n",
              "\t<tr><td>shopping_pos  </td><td>876.921815</td></tr>\n",
              "\t<tr><td>travel        </td><td>  9.064569</td></tr>\n",
              "</tbody>\n",
              "</table>\n"
            ]
          },
          "metadata": {}
        },
        {
          "output_type": "display_data",
          "data": {
            "text/plain": [
              "   Group.1        x      \n",
              "1  entertainment  498.860\n",
              "2  food_dining    119.420\n",
              "3  gas_transport   10.645\n",
              "4  grocery_net     12.365\n",
              "5  grocery_pos    309.980\n",
              "6  health_fitness  19.800\n",
              "7  home           252.160\n",
              "8  kids_pets       19.520\n",
              "9  misc_net       792.330\n",
              "10 misc_pos         8.955\n",
              "11 personal_care   20.825\n",
              "12 shopping_net   995.570\n",
              "13 shopping_pos   867.760\n",
              "14 travel           9.735"
            ],
            "text/latex": "A data.frame: 14 × 2\n\\begin{tabular}{ll}\n Group.1 & x\\\\\n <chr> & <dbl>\\\\\n\\hline\n\t entertainment  & 498.860\\\\\n\t food\\_dining    & 119.420\\\\\n\t gas\\_transport  &  10.645\\\\\n\t grocery\\_net    &  12.365\\\\\n\t grocery\\_pos    & 309.980\\\\\n\t health\\_fitness &  19.800\\\\\n\t home           & 252.160\\\\\n\t kids\\_pets      &  19.520\\\\\n\t misc\\_net       & 792.330\\\\\n\t misc\\_pos       &   8.955\\\\\n\t personal\\_care  &  20.825\\\\\n\t shopping\\_net   & 995.570\\\\\n\t shopping\\_pos   & 867.760\\\\\n\t travel         &   9.735\\\\\n\\end{tabular}\n",
            "text/markdown": "\nA data.frame: 14 × 2\n\n| Group.1 &lt;chr&gt; | x &lt;dbl&gt; |\n|---|---|\n| entertainment  | 498.860 |\n| food_dining    | 119.420 |\n| gas_transport  |  10.645 |\n| grocery_net    |  12.365 |\n| grocery_pos    | 309.980 |\n| health_fitness |  19.800 |\n| home           | 252.160 |\n| kids_pets      |  19.520 |\n| misc_net       | 792.330 |\n| misc_pos       |   8.955 |\n| personal_care  |  20.825 |\n| shopping_net   | 995.570 |\n| shopping_pos   | 867.760 |\n| travel         |   9.735 |\n\n",
            "text/html": [
              "<table class=\"dataframe\">\n",
              "<caption>A data.frame: 14 × 2</caption>\n",
              "<thead>\n",
              "\t<tr><th scope=col>Group.1</th><th scope=col>x</th></tr>\n",
              "\t<tr><th scope=col>&lt;chr&gt;</th><th scope=col>&lt;dbl&gt;</th></tr>\n",
              "</thead>\n",
              "<tbody>\n",
              "\t<tr><td>entertainment </td><td>498.860</td></tr>\n",
              "\t<tr><td>food_dining   </td><td>119.420</td></tr>\n",
              "\t<tr><td>gas_transport </td><td> 10.645</td></tr>\n",
              "\t<tr><td>grocery_net   </td><td> 12.365</td></tr>\n",
              "\t<tr><td>grocery_pos   </td><td>309.980</td></tr>\n",
              "\t<tr><td>health_fitness</td><td> 19.800</td></tr>\n",
              "\t<tr><td>home          </td><td>252.160</td></tr>\n",
              "\t<tr><td>kids_pets     </td><td> 19.520</td></tr>\n",
              "\t<tr><td>misc_net      </td><td>792.330</td></tr>\n",
              "\t<tr><td>misc_pos      </td><td>  8.955</td></tr>\n",
              "\t<tr><td>personal_care </td><td> 20.825</td></tr>\n",
              "\t<tr><td>shopping_net  </td><td>995.570</td></tr>\n",
              "\t<tr><td>shopping_pos  </td><td>867.760</td></tr>\n",
              "\t<tr><td>travel        </td><td>  9.735</td></tr>\n",
              "</tbody>\n",
              "</table>\n"
            ]
          },
          "metadata": {}
        }
      ]
    },
    {
      "cell_type": "code",
      "metadata": {
        "id": "73CMAnPUjTpk"
      },
      "source": [
        "##Average fraud amount for shopping net is $999"
      ],
      "execution_count": null,
      "outputs": []
    },
    {
      "cell_type": "code",
      "metadata": {
        "colab": {
          "base_uri": "https://localhost:8080/",
          "height": 236
        },
        "id": "PoepMW-p11Ll",
        "outputId": "8324dc27-ed50-4696-e6c2-1737bfa52e92"
      },
      "source": [
        "#check why av fraud is high for shopping net is high\n",
        "df = data_fraud[which(data_fraud$category == 'shopping_net'),]\n",
        "head(df, 1)\n",
        "nrow(df) # 1713 transactions done in shopping_net category\n"
      ],
      "execution_count": null,
      "outputs": [
        {
          "output_type": "display_data",
          "data": {
            "text/plain": [
              "     trans_date_trans_time cc_num       merchant           category     amt  \n",
              "2938 2019-01-02 13:38:08   4.613315e+12 fraud_Medhurst PLC shopping_net 844.8\n",
              "     first last   gender street                    city          ⋯ lat    \n",
              "2938 Jason Murphy M      542 Steve Curve Suite 011 Collettsville ⋯ 35.9946\n",
              "     long     city_pop job            dob       \n",
              "2938 -81.7266 885      Soil scientist 1988-09-15\n",
              "     trans_num                        unix_time  merch_lat merch_long is_fraud\n",
              "2938 248c2746e78f2ec713df51254ff1b302 1325511488 35.9878   -81.25433  1       "
            ],
            "text/latex": "A data.frame: 1 × 22\n\\begin{tabular}{r|lllllllllllllllllllll}\n  & trans\\_date\\_trans\\_time & cc\\_num & merchant & category & amt & first & last & gender & street & city & ⋯ & lat & long & city\\_pop & job & dob & trans\\_num & unix\\_time & merch\\_lat & merch\\_long & is\\_fraud\\\\\n  & <chr> & <dbl> & <chr> & <chr> & <dbl> & <chr> & <chr> & <chr> & <chr> & <chr> & ⋯ & <dbl> & <dbl> & <int> & <chr> & <chr> & <chr> & <int> & <dbl> & <dbl> & <int>\\\\\n\\hline\n\t2938 & 2019-01-02 13:38:08 & 4.613315e+12 & fraud\\_Medhurst PLC & shopping\\_net & 844.8 & Jason & Murphy & M & 542 Steve Curve Suite 011 & Collettsville & ⋯ & 35.9946 & -81.7266 & 885 & Soil scientist & 1988-09-15 & 248c2746e78f2ec713df51254ff1b302 & 1325511488 & 35.9878 & -81.25433 & 1\\\\\n\\end{tabular}\n",
            "text/markdown": "\nA data.frame: 1 × 22\n\n| <!--/--> | trans_date_trans_time &lt;chr&gt; | cc_num &lt;dbl&gt; | merchant &lt;chr&gt; | category &lt;chr&gt; | amt &lt;dbl&gt; | first &lt;chr&gt; | last &lt;chr&gt; | gender &lt;chr&gt; | street &lt;chr&gt; | city &lt;chr&gt; | ⋯ ⋯ | lat &lt;dbl&gt; | long &lt;dbl&gt; | city_pop &lt;int&gt; | job &lt;chr&gt; | dob &lt;chr&gt; | trans_num &lt;chr&gt; | unix_time &lt;int&gt; | merch_lat &lt;dbl&gt; | merch_long &lt;dbl&gt; | is_fraud &lt;int&gt; |\n|---|---|---|---|---|---|---|---|---|---|---|---|---|---|---|---|---|---|---|---|---|---|\n| 2938 | 2019-01-02 13:38:08 | 4.613315e+12 | fraud_Medhurst PLC | shopping_net | 844.8 | Jason | Murphy | M | 542 Steve Curve Suite 011 | Collettsville | ⋯ | 35.9946 | -81.7266 | 885 | Soil scientist | 1988-09-15 | 248c2746e78f2ec713df51254ff1b302 | 1325511488 | 35.9878 | -81.25433 | 1 |\n\n",
            "text/html": [
              "<table class=\"dataframe\">\n",
              "<caption>A data.frame: 1 × 22</caption>\n",
              "<thead>\n",
              "\t<tr><th></th><th scope=col>trans_date_trans_time</th><th scope=col>cc_num</th><th scope=col>merchant</th><th scope=col>category</th><th scope=col>amt</th><th scope=col>first</th><th scope=col>last</th><th scope=col>gender</th><th scope=col>street</th><th scope=col>city</th><th scope=col>⋯</th><th scope=col>lat</th><th scope=col>long</th><th scope=col>city_pop</th><th scope=col>job</th><th scope=col>dob</th><th scope=col>trans_num</th><th scope=col>unix_time</th><th scope=col>merch_lat</th><th scope=col>merch_long</th><th scope=col>is_fraud</th></tr>\n",
              "\t<tr><th></th><th scope=col>&lt;chr&gt;</th><th scope=col>&lt;dbl&gt;</th><th scope=col>&lt;chr&gt;</th><th scope=col>&lt;chr&gt;</th><th scope=col>&lt;dbl&gt;</th><th scope=col>&lt;chr&gt;</th><th scope=col>&lt;chr&gt;</th><th scope=col>&lt;chr&gt;</th><th scope=col>&lt;chr&gt;</th><th scope=col>&lt;chr&gt;</th><th scope=col>⋯</th><th scope=col>&lt;dbl&gt;</th><th scope=col>&lt;dbl&gt;</th><th scope=col>&lt;int&gt;</th><th scope=col>&lt;chr&gt;</th><th scope=col>&lt;chr&gt;</th><th scope=col>&lt;chr&gt;</th><th scope=col>&lt;int&gt;</th><th scope=col>&lt;dbl&gt;</th><th scope=col>&lt;dbl&gt;</th><th scope=col>&lt;int&gt;</th></tr>\n",
              "</thead>\n",
              "<tbody>\n",
              "\t<tr><th scope=row>2938</th><td>2019-01-02 13:38:08</td><td>4.613315e+12</td><td>fraud_Medhurst PLC</td><td>shopping_net</td><td>844.8</td><td>Jason</td><td>Murphy</td><td>M</td><td>542 Steve Curve Suite 011</td><td>Collettsville</td><td>⋯</td><td>35.9946</td><td>-81.7266</td><td>885</td><td>Soil scientist</td><td>1988-09-15</td><td>248c2746e78f2ec713df51254ff1b302</td><td>1325511488</td><td>35.9878</td><td>-81.25433</td><td>1</td></tr>\n",
              "</tbody>\n",
              "</table>\n"
            ]
          },
          "metadata": {}
        },
        {
          "output_type": "display_data",
          "data": {
            "text/plain": [
              "[1] 1713"
            ],
            "text/latex": "1713",
            "text/markdown": "1713",
            "text/html": [
              "1713"
            ]
          },
          "metadata": {}
        }
      ]
    },
    {
      "cell_type": "code",
      "metadata": {
        "colab": {
          "base_uri": "https://localhost:8080/",
          "height": 1000
        },
        "id": "oYmjTviA143r",
        "outputId": "4a0cae19-b39c-4e52-e129-94ec7cc90abf"
      },
      "source": [
        "#Find the top 10 cities with max frauds\n",
        "top_n(count(data_fraud, data_fraud$city), 10)#Houston has highest 39 trans of fraud\n",
        "df1 = aggregate(data_fraud$amt, list(data_fraud$city), median) \n",
        "head(df1, 1)\n",
        "top_n(df1, 10)\n",
        "# Group.1        x\n",
        "# 1         Angwin  998.255\n",
        "# 2  Belle Fourche 1000.080\n",
        "# 3      De Lancey 1067.280\n",
        "# 4      Irvington  953.590\n",
        "# 5     Karns City  949.440\n",
        "# 6   Laguna Hills 1009.650\n",
        "# 7  Newark Valley  966.410\n",
        "# 8     North East 1031.240\n",
        "# 9          Thida 1019.155\n",
        "# 10    Vero Beach  977.010"
      ],
      "execution_count": null,
      "outputs": [
        {
          "output_type": "stream",
          "name": "stderr",
          "text": [
            "Selecting by n\n",
            "\n"
          ]
        },
        {
          "output_type": "display_data",
          "data": {
            "text/plain": [
              "   data_fraud$city n \n",
              "1  Dallas          27\n",
              "2  Detroit         26\n",
              "3  Houston         39\n",
              "4  Huntsville      29\n",
              "5  Naples          29\n",
              "6  Randolph        25\n",
              "7  San Antonio     25\n",
              "8  Topeka          27\n",
              "9  Tulsa           27\n",
              "10 Utica           25\n",
              "11 Warren          33"
            ],
            "text/latex": "A data.frame: 11 × 2\n\\begin{tabular}{ll}\n data\\_fraud\\$city & n\\\\\n <chr> & <int>\\\\\n\\hline\n\t Dallas      & 27\\\\\n\t Detroit     & 26\\\\\n\t Houston     & 39\\\\\n\t Huntsville  & 29\\\\\n\t Naples      & 29\\\\\n\t Randolph    & 25\\\\\n\t San Antonio & 25\\\\\n\t Topeka      & 27\\\\\n\t Tulsa       & 27\\\\\n\t Utica       & 25\\\\\n\t Warren      & 33\\\\\n\\end{tabular}\n",
            "text/markdown": "\nA data.frame: 11 × 2\n\n| data_fraud$city &lt;chr&gt; | n &lt;int&gt; |\n|---|---|\n| Dallas      | 27 |\n| Detroit     | 26 |\n| Houston     | 39 |\n| Huntsville  | 29 |\n| Naples      | 29 |\n| Randolph    | 25 |\n| San Antonio | 25 |\n| Topeka      | 27 |\n| Tulsa       | 27 |\n| Utica       | 25 |\n| Warren      | 33 |\n\n",
            "text/html": [
              "<table class=\"dataframe\">\n",
              "<caption>A data.frame: 11 × 2</caption>\n",
              "<thead>\n",
              "\t<tr><th scope=col>data_fraud$city</th><th scope=col>n</th></tr>\n",
              "\t<tr><th scope=col>&lt;chr&gt;</th><th scope=col>&lt;int&gt;</th></tr>\n",
              "</thead>\n",
              "<tbody>\n",
              "\t<tr><td>Dallas     </td><td>27</td></tr>\n",
              "\t<tr><td>Detroit    </td><td>26</td></tr>\n",
              "\t<tr><td>Houston    </td><td>39</td></tr>\n",
              "\t<tr><td>Huntsville </td><td>29</td></tr>\n",
              "\t<tr><td>Naples     </td><td>29</td></tr>\n",
              "\t<tr><td>Randolph   </td><td>25</td></tr>\n",
              "\t<tr><td>San Antonio</td><td>25</td></tr>\n",
              "\t<tr><td>Topeka     </td><td>27</td></tr>\n",
              "\t<tr><td>Tulsa      </td><td>27</td></tr>\n",
              "\t<tr><td>Utica      </td><td>25</td></tr>\n",
              "\t<tr><td>Warren     </td><td>33</td></tr>\n",
              "</tbody>\n",
              "</table>\n"
            ]
          },
          "metadata": {}
        },
        {
          "output_type": "display_data",
          "data": {
            "text/plain": [
              "  Group.1 x     \n",
              "1 Achille 235.94"
            ],
            "text/latex": "A data.frame: 1 × 2\n\\begin{tabular}{r|ll}\n  & Group.1 & x\\\\\n  & <chr> & <dbl>\\\\\n\\hline\n\t1 & Achille & 235.94\\\\\n\\end{tabular}\n",
            "text/markdown": "\nA data.frame: 1 × 2\n\n| <!--/--> | Group.1 &lt;chr&gt; | x &lt;dbl&gt; |\n|---|---|---|\n| 1 | Achille | 235.94 |\n\n",
            "text/html": [
              "<table class=\"dataframe\">\n",
              "<caption>A data.frame: 1 × 2</caption>\n",
              "<thead>\n",
              "\t<tr><th></th><th scope=col>Group.1</th><th scope=col>x</th></tr>\n",
              "\t<tr><th></th><th scope=col>&lt;chr&gt;</th><th scope=col>&lt;dbl&gt;</th></tr>\n",
              "</thead>\n",
              "<tbody>\n",
              "\t<tr><th scope=row>1</th><td>Achille</td><td>235.94</td></tr>\n",
              "</tbody>\n",
              "</table>\n"
            ]
          },
          "metadata": {}
        },
        {
          "output_type": "stream",
          "name": "stderr",
          "text": [
            "Selecting by x\n",
            "\n"
          ]
        },
        {
          "output_type": "display_data",
          "data": {
            "text/plain": [
              "   Group.1       x       \n",
              "1  Angwin         998.255\n",
              "2  Belle Fourche 1000.080\n",
              "3  De Lancey     1067.280\n",
              "4  Irvington      953.590\n",
              "5  Karns City     949.440\n",
              "6  Laguna Hills  1009.650\n",
              "7  Newark Valley  966.410\n",
              "8  North East    1031.240\n",
              "9  Thida         1019.155\n",
              "10 Vero Beach     977.010"
            ],
            "text/latex": "A data.frame: 10 × 2\n\\begin{tabular}{ll}\n Group.1 & x\\\\\n <chr> & <dbl>\\\\\n\\hline\n\t Angwin        &  998.255\\\\\n\t Belle Fourche & 1000.080\\\\\n\t De Lancey     & 1067.280\\\\\n\t Irvington     &  953.590\\\\\n\t Karns City    &  949.440\\\\\n\t Laguna Hills  & 1009.650\\\\\n\t Newark Valley &  966.410\\\\\n\t North East    & 1031.240\\\\\n\t Thida         & 1019.155\\\\\n\t Vero Beach    &  977.010\\\\\n\\end{tabular}\n",
            "text/markdown": "\nA data.frame: 10 × 2\n\n| Group.1 &lt;chr&gt; | x &lt;dbl&gt; |\n|---|---|\n| Angwin        |  998.255 |\n| Belle Fourche | 1000.080 |\n| De Lancey     | 1067.280 |\n| Irvington     |  953.590 |\n| Karns City    |  949.440 |\n| Laguna Hills  | 1009.650 |\n| Newark Valley |  966.410 |\n| North East    | 1031.240 |\n| Thida         | 1019.155 |\n| Vero Beach    |  977.010 |\n\n",
            "text/html": [
              "<table class=\"dataframe\">\n",
              "<caption>A data.frame: 10 × 2</caption>\n",
              "<thead>\n",
              "\t<tr><th scope=col>Group.1</th><th scope=col>x</th></tr>\n",
              "\t<tr><th scope=col>&lt;chr&gt;</th><th scope=col>&lt;dbl&gt;</th></tr>\n",
              "</thead>\n",
              "<tbody>\n",
              "\t<tr><td>Angwin       </td><td> 998.255</td></tr>\n",
              "\t<tr><td>Belle Fourche</td><td>1000.080</td></tr>\n",
              "\t<tr><td>De Lancey    </td><td>1067.280</td></tr>\n",
              "\t<tr><td>Irvington    </td><td> 953.590</td></tr>\n",
              "\t<tr><td>Karns City   </td><td> 949.440</td></tr>\n",
              "\t<tr><td>Laguna Hills </td><td>1009.650</td></tr>\n",
              "\t<tr><td>Newark Valley</td><td> 966.410</td></tr>\n",
              "\t<tr><td>North East   </td><td>1031.240</td></tr>\n",
              "\t<tr><td>Thida        </td><td>1019.155</td></tr>\n",
              "\t<tr><td>Vero Beach   </td><td> 977.010</td></tr>\n",
              "</tbody>\n",
              "</table>\n"
            ]
          },
          "metadata": {}
        }
      ]
    },
    {
      "cell_type": "code",
      "metadata": {
        "colab": {
          "base_uri": "https://localhost:8080/",
          "height": 879
        },
        "id": "quyjMOGC2AIs",
        "outputId": "ad3d3eeb-6ca1-42d6-c336-81a0629cbe05"
      },
      "source": [
        "#Find the top 10 states with max frauds\n",
        "top_n(count(data_fraud, data_fraud$state), 10) #max frauds in NY state to 555\n",
        "top_n(count(data_notfraud, data_notfraud$state), 10)\n"
      ],
      "execution_count": null,
      "outputs": [
        {
          "output_type": "stream",
          "name": "stderr",
          "text": [
            "Selecting by n\n",
            "\n"
          ]
        },
        {
          "output_type": "display_data",
          "data": {
            "text/plain": [
              "   data_fraud$state n  \n",
              "1  AL               215\n",
              "2  CA               326\n",
              "3  FL               281\n",
              "4  IL               248\n",
              "5  MI               238\n",
              "6  MN               207\n",
              "7  NY               555\n",
              "8  OH               321\n",
              "9  PA               458\n",
              "10 TX               479"
            ],
            "text/latex": "A data.frame: 10 × 2\n\\begin{tabular}{ll}\n data\\_fraud\\$state & n\\\\\n <chr> & <int>\\\\\n\\hline\n\t AL & 215\\\\\n\t CA & 326\\\\\n\t FL & 281\\\\\n\t IL & 248\\\\\n\t MI & 238\\\\\n\t MN & 207\\\\\n\t NY & 555\\\\\n\t OH & 321\\\\\n\t PA & 458\\\\\n\t TX & 479\\\\\n\\end{tabular}\n",
            "text/markdown": "\nA data.frame: 10 × 2\n\n| data_fraud$state &lt;chr&gt; | n &lt;int&gt; |\n|---|---|\n| AL | 215 |\n| CA | 326 |\n| FL | 281 |\n| IL | 248 |\n| MI | 238 |\n| MN | 207 |\n| NY | 555 |\n| OH | 321 |\n| PA | 458 |\n| TX | 479 |\n\n",
            "text/html": [
              "<table class=\"dataframe\">\n",
              "<caption>A data.frame: 10 × 2</caption>\n",
              "<thead>\n",
              "\t<tr><th scope=col>data_fraud$state</th><th scope=col>n</th></tr>\n",
              "\t<tr><th scope=col>&lt;chr&gt;</th><th scope=col>&lt;int&gt;</th></tr>\n",
              "</thead>\n",
              "<tbody>\n",
              "\t<tr><td>AL</td><td>215</td></tr>\n",
              "\t<tr><td>CA</td><td>326</td></tr>\n",
              "\t<tr><td>FL</td><td>281</td></tr>\n",
              "\t<tr><td>IL</td><td>248</td></tr>\n",
              "\t<tr><td>MI</td><td>238</td></tr>\n",
              "\t<tr><td>MN</td><td>207</td></tr>\n",
              "\t<tr><td>NY</td><td>555</td></tr>\n",
              "\t<tr><td>OH</td><td>321</td></tr>\n",
              "\t<tr><td>PA</td><td>458</td></tr>\n",
              "\t<tr><td>TX</td><td>479</td></tr>\n",
              "</tbody>\n",
              "</table>\n"
            ]
          },
          "metadata": {}
        },
        {
          "output_type": "stream",
          "name": "stderr",
          "text": [
            "Selecting by n\n",
            "\n"
          ]
        },
        {
          "output_type": "display_data",
          "data": {
            "text/plain": [
              "   data_notfraud$state n    \n",
              "1  AL                  40774\n",
              "2  CA                  56034\n",
              "3  FL                  42390\n",
              "4  IL                  43004\n",
              "5  MI                  45916\n",
              "6  MO                  38212\n",
              "7  NY                  82946\n",
              "8  OH                  46159\n",
              "9  PA                  79389\n",
              "10 TX                  94397"
            ],
            "text/latex": "A data.frame: 10 × 2\n\\begin{tabular}{ll}\n data\\_notfraud\\$state & n\\\\\n <chr> & <int>\\\\\n\\hline\n\t AL & 40774\\\\\n\t CA & 56034\\\\\n\t FL & 42390\\\\\n\t IL & 43004\\\\\n\t MI & 45916\\\\\n\t MO & 38212\\\\\n\t NY & 82946\\\\\n\t OH & 46159\\\\\n\t PA & 79389\\\\\n\t TX & 94397\\\\\n\\end{tabular}\n",
            "text/markdown": "\nA data.frame: 10 × 2\n\n| data_notfraud$state &lt;chr&gt; | n &lt;int&gt; |\n|---|---|\n| AL | 40774 |\n| CA | 56034 |\n| FL | 42390 |\n| IL | 43004 |\n| MI | 45916 |\n| MO | 38212 |\n| NY | 82946 |\n| OH | 46159 |\n| PA | 79389 |\n| TX | 94397 |\n\n",
            "text/html": [
              "<table class=\"dataframe\">\n",
              "<caption>A data.frame: 10 × 2</caption>\n",
              "<thead>\n",
              "\t<tr><th scope=col>data_notfraud$state</th><th scope=col>n</th></tr>\n",
              "\t<tr><th scope=col>&lt;chr&gt;</th><th scope=col>&lt;int&gt;</th></tr>\n",
              "</thead>\n",
              "<tbody>\n",
              "\t<tr><td>AL</td><td>40774</td></tr>\n",
              "\t<tr><td>CA</td><td>56034</td></tr>\n",
              "\t<tr><td>FL</td><td>42390</td></tr>\n",
              "\t<tr><td>IL</td><td>43004</td></tr>\n",
              "\t<tr><td>MI</td><td>45916</td></tr>\n",
              "\t<tr><td>MO</td><td>38212</td></tr>\n",
              "\t<tr><td>NY</td><td>82946</td></tr>\n",
              "\t<tr><td>OH</td><td>46159</td></tr>\n",
              "\t<tr><td>PA</td><td>79389</td></tr>\n",
              "\t<tr><td>TX</td><td>94397</td></tr>\n",
              "</tbody>\n",
              "</table>\n"
            ]
          },
          "metadata": {}
        }
      ]
    },
    {
      "cell_type": "code",
      "metadata": {
        "colab": {
          "base_uri": "https://localhost:8080/",
          "height": 441
        },
        "id": "9s9dXYF32bRE",
        "outputId": "05c380cc-bee4-4ae7-bd2a-da7608b760e9"
      },
      "source": [
        "#View(data_fraud)\n",
        "df3 = aggregate(data_fraud$amt, list(data_fraud$state), sum) # - Total Fraud amount by each state\n",
        "#head(df3, 1)\n",
        "top_n(df3, 10)\n",
        "# Selecting by x\n",
        "# Group.1        x\n",
        "# 1       AL 112597.0\n",
        "# 2       CA 170943.9\n",
        "# 3       FL 150913.0\n",
        "# 4       IL 128442.0\n",
        "# 5       MI 121012.1\n",
        "# 6       MN 112454.4\n",
        "# 7       NY 295548.6\n",
        "# 8       OH 168920.0\n",
        "# 9       PA 244624.7\n",
        "# 10      TX 265806.4\n"
      ],
      "execution_count": null,
      "outputs": [
        {
          "output_type": "stream",
          "name": "stderr",
          "text": [
            "Selecting by x\n",
            "\n"
          ]
        },
        {
          "output_type": "display_data",
          "data": {
            "text/plain": [
              "   Group.1 x       \n",
              "1  AL      112597.0\n",
              "2  CA      170943.9\n",
              "3  FL      150913.0\n",
              "4  IL      128442.0\n",
              "5  MI      121012.1\n",
              "6  MN      112454.4\n",
              "7  NY      295548.6\n",
              "8  OH      168920.0\n",
              "9  PA      244624.7\n",
              "10 TX      265806.4"
            ],
            "text/latex": "A data.frame: 10 × 2\n\\begin{tabular}{ll}\n Group.1 & x\\\\\n <chr> & <dbl>\\\\\n\\hline\n\t AL & 112597.0\\\\\n\t CA & 170943.9\\\\\n\t FL & 150913.0\\\\\n\t IL & 128442.0\\\\\n\t MI & 121012.1\\\\\n\t MN & 112454.4\\\\\n\t NY & 295548.6\\\\\n\t OH & 168920.0\\\\\n\t PA & 244624.7\\\\\n\t TX & 265806.4\\\\\n\\end{tabular}\n",
            "text/markdown": "\nA data.frame: 10 × 2\n\n| Group.1 &lt;chr&gt; | x &lt;dbl&gt; |\n|---|---|\n| AL | 112597.0 |\n| CA | 170943.9 |\n| FL | 150913.0 |\n| IL | 128442.0 |\n| MI | 121012.1 |\n| MN | 112454.4 |\n| NY | 295548.6 |\n| OH | 168920.0 |\n| PA | 244624.7 |\n| TX | 265806.4 |\n\n",
            "text/html": [
              "<table class=\"dataframe\">\n",
              "<caption>A data.frame: 10 × 2</caption>\n",
              "<thead>\n",
              "\t<tr><th scope=col>Group.1</th><th scope=col>x</th></tr>\n",
              "\t<tr><th scope=col>&lt;chr&gt;</th><th scope=col>&lt;dbl&gt;</th></tr>\n",
              "</thead>\n",
              "<tbody>\n",
              "\t<tr><td>AL</td><td>112597.0</td></tr>\n",
              "\t<tr><td>CA</td><td>170943.9</td></tr>\n",
              "\t<tr><td>FL</td><td>150913.0</td></tr>\n",
              "\t<tr><td>IL</td><td>128442.0</td></tr>\n",
              "\t<tr><td>MI</td><td>121012.1</td></tr>\n",
              "\t<tr><td>MN</td><td>112454.4</td></tr>\n",
              "\t<tr><td>NY</td><td>295548.6</td></tr>\n",
              "\t<tr><td>OH</td><td>168920.0</td></tr>\n",
              "\t<tr><td>PA</td><td>244624.7</td></tr>\n",
              "\t<tr><td>TX</td><td>265806.4</td></tr>\n",
              "</tbody>\n",
              "</table>\n"
            ]
          },
          "metadata": {}
        }
      ]
    },
    {
      "cell_type": "code",
      "metadata": {
        "colab": {
          "base_uri": "https://localhost:8080/",
          "height": 857
        },
        "id": "A33WqPue864X",
        "outputId": "5c57499f-0a84-4944-b246-374db306e881"
      },
      "source": [
        "#Fraud Transaction Occured at various intervals \n",
        "\n",
        "# In this dataset 'Time' variable contains the seconds elapsed between each transaction and the first transaction in the datase. Normalizing the time by day and category them into four quarters according to time of day.\n",
        "# separate transactions by day\n",
        "ModelData$day <- ifelse(ModelData$Time > 3600 * 24, \"day2\", \"day1\")\n",
        "\n",
        "# make transaction relative to day\n",
        "ModelData$Time_day <- ifelse(ModelData$day == \"day2\", ModelData$Time - 86400, ModelData$Time)\n",
        "\n",
        "# ggplot to see number of transactions per day\n",
        "ggplot(ModelData) + geom_bar(aes(x=day), color = \"red\", fill = \"grey\")+ theme_bw()\n",
        "\n",
        "\n",
        "# Categorize the transactions into four quarters according to time of day\n",
        "ModelData$Time_qtr <- as.factor(ifelse(ModelData$Time_day <= 21600, \"0-6 hr\",\n",
        "                                       ifelse(ModelData$Time_day > 21600 & ModelData$Time_day <= 43200, \"7-12 hr\",\n",
        "                                              ifelse(ModelData$Time_day > 43200 & ModelData$Time_day <= 64800, \"13-18 hr\",\n",
        "                                                     \"19-24 hr\"))))\n",
        "\n",
        "# Here we change the order of factor variable Time_qtr, to plot the below chart in the order of time interval in X-axis\n",
        "#creditcard_details$Time_qtr <- factor(creditcard_details$Time_qtr, levels = creditcard_details$Time_qtr[order(creditcard_details$Time_day)])\n",
        "\n",
        "# ggplot to see max number of transactions occured in time qtr(it shows that more fraud transactions occured at 13-18 hr)\n",
        "ggplot(ModelData) + geom_bar(aes(x = Time_qtr), color = \"red\", fill = \"grey\") + theme_bw() + facet_wrap( ~ Class, scales = \"free\", ncol = 2)\n",
        "\n"
      ],
      "execution_count": null,
      "outputs": [
        {
          "output_type": "display_data",
          "data": {
            "image/png": "[encoded data removed]",
            "text/plain": [
              "plot without title"
            ]
          },
          "metadata": {
            "image/png": {
              "width": 420,
              "height": 420
            }
          }
        },
        {
          "output_type": "display_data",
          "data": {
            "image/png": "[encoded data removed]",
            "text/plain": [
              "plot without title"
            ]
          },
          "metadata": {
            "image/png": {
              "width": 420,
              "height": 420
            }
          }
        }
      ]
    },
    {
      "cell_type": "markdown",
      "metadata": {
        "id": "O5edeg9nCtGg"
      },
      "source": [
        "# Exploratory Data Analysis - Anamoly Detection"
      ]
    },
    {
      "cell_type": "code",
      "metadata": {
        "colab": {
          "base_uri": "https://localhost:8080/",
          "height": 437
        },
        "id": "nkzFxSbF8-Px",
        "outputId": "62b682af-676a-4ce9-9358-163d54ab6f7a"
      },
      "source": [
        "# Anomaly Detection\n",
        "\n",
        "# Remove the fields created for Exploratory Data Analysis before Anomaly Detection\n",
        "ModelData <- subset(ModelData, select = -c(day, Time_day, Time_qtr))\n",
        "\n",
        "\n",
        "# Exploratory Data Analysis for Anomaly Detection using Mean\n",
        "rownames(ModelData) <- 1:nrow(ModelData)\n",
        "non_anom <- ModelData[ModelData$Class == 0,]\n",
        "anomaly <- ModelData[ModelData$Class == 1,]\n",
        "\n",
        "mean_non_anom <- apply(non_anom[sample(rownames(non_anom), size = 492), -c(1, 30, 31)], 2, mean)\n",
        "mean_anomaly <- apply(anomaly[, -c(1, 30, 31)], 2, mean)\n",
        "plot(mean_anomaly, col = \"red\", xlab = \"Features\", ylab = \"Mean\")\n",
        "lines(mean_anomaly, col = \"red\", lwd = 2)\n",
        "points(mean_non_anom, col = \"black\")\n",
        "lines(mean_non_anom, col = \"black\", lwd = 2)\n",
        "legend(\"topright\", legend = c(\"Good\", \"Anomalous\"), lty = c(1,1), col = c(\"black\", \"red\"), lwd = c(2,2))"
      ],
      "execution_count": null,
      "outputs": [
        {
          "output_type": "display_data",
          "data": {
            "image/png": "[encoded data removed]",
            "text/plain": [
              "plot without title"
            ]
          },
          "metadata": {
            "image/png": {
              "width": 420,
              "height": 420
            }
          }
        }
      ]
    },
    {
      "cell_type": "code",
      "metadata": {
        "colab": {
          "base_uri": "https://localhost:8080/"
        },
        "id": "ks0QB7f021oS",
        "outputId": "3d9a7ccf-fcc5-4bb4-e32e-e81e343e1667"
      },
      "source": [
        "install.packages(\"moments\")"
      ],
      "execution_count": null,
      "outputs": [
        {
          "output_type": "stream",
          "name": "stderr",
          "text": [
            "Installing package into ‘/usr/local/lib/R/site-library’\n",
            "(as ‘lib’ is unspecified)\n",
            "\n"
          ]
        }
      ]
    },
    {
      "cell_type": "code",
      "metadata": {
        "colab": {
          "base_uri": "https://localhost:8080/",
          "height": 128
        },
        "id": "N9jrZ4pw2p0y",
        "outputId": "dd7b50d5-40f7-40cb-b1fd-938c94635fa6"
      },
      "source": [
        "## Univariate & Bivariate Analysis\n",
        "## Univariate Analysis\n",
        "#Find skewness and kurtosis of fraud amount\n",
        "library(moments)\n",
        "library(dplyr)\n",
        "\n",
        "data_fraud %>% \n",
        "  summarise(Skew = skewness(data_fraud$amt), Kurtosis = kurtosis(data_fraud$amt))\n",
        "#skewness =0.02 and Kurtosis = 1.5\n",
        "\n",
        "#The Skewness for the amount variable is 0.02 as the distribution is moderately skewed.\n",
        "#Kurtosis can reach values from 1 to positive infinite.\n",
        "#Normal distribution kurtosis = 3\n",
        "#A distribution that is more peaked and has fatter tails than normal distribution has kurtosis value greater than 3 (the higher kurtosis, the more peaked and fatter tails). Such distribution is called leptokurtic or leptokurtotic.\n",
        "#A distribution that is less peaked and has thinner tails than normal distribution has kurtosis value between 1 and 3. Such distribution is called platykurtic or platykurtotic.\n",
        "#The kurtosis for the crew variable is 3.72 as the distribution is more peaked and has fatter tails than normal distribution skewed.\n"
      ],
      "execution_count": null,
      "outputs": [
        {
          "output_type": "display_data",
          "data": {
            "text/plain": [
              "  Skew       Kurtosis\n",
              "1 0.02584092 1.500328"
            ],
            "text/latex": "A data.frame: 1 × 2\n\\begin{tabular}{ll}\n Skew & Kurtosis\\\\\n <dbl> & <dbl>\\\\\n\\hline\n\t 0.02584092 & 1.500328\\\\\n\\end{tabular}\n",
            "text/markdown": "\nA data.frame: 1 × 2\n\n| Skew &lt;dbl&gt; | Kurtosis &lt;dbl&gt; |\n|---|---|\n| 0.02584092 | 1.500328 |\n\n",
            "text/html": [
              "<table class=\"dataframe\">\n",
              "<caption>A data.frame: 1 × 2</caption>\n",
              "<thead>\n",
              "\t<tr><th scope=col>Skew</th><th scope=col>Kurtosis</th></tr>\n",
              "\t<tr><th scope=col>&lt;dbl&gt;</th><th scope=col>&lt;dbl&gt;</th></tr>\n",
              "</thead>\n",
              "<tbody>\n",
              "\t<tr><td>0.02584092</td><td>1.500328</td></tr>\n",
              "</tbody>\n",
              "</table>\n"
            ]
          },
          "metadata": {}
        }
      ]
    },
    {
      "cell_type": "code",
      "metadata": {
        "colab": {
          "base_uri": "https://localhost:8080/",
          "height": 731
        },
        "id": "8RAzGLih3r8M",
        "outputId": "99ab24de-fcd3-4b64-90ad-71d106d82cc6"
      },
      "source": [
        "summary(Data)"
      ],
      "execution_count": null,
      "outputs": [
        {
          "output_type": "display_data",
          "data": {
            "text/plain": [
              " trans_date_trans_time     cc_num            merchant        \n",
              " Length:1296675        Min.   :6.042e+10   Length:1296675    \n",
              " Class :character      1st Qu.:1.800e+14   Class :character  \n",
              " Mode  :character      Median :3.521e+15   Mode  :character  \n",
              "                       Mean   :4.172e+17                     \n",
              "                       3rd Qu.:4.642e+15                     \n",
              "                       Max.   :4.992e+18                     \n",
              "   category              amt              first               last          \n",
              " Length:1296675     Min.   :    1.00   Length:1296675     Length:1296675    \n",
              " Class :character   1st Qu.:    9.65   Class :character   Class :character  \n",
              " Mode  :character   Median :   47.52   Mode  :character   Mode  :character  \n",
              "                    Mean   :   70.35                                        \n",
              "                    3rd Qu.:   83.14                                        \n",
              "                    Max.   :28948.90                                        \n",
              "    gender             street              city              state          \n",
              " Length:1296675     Length:1296675     Length:1296675     Length:1296675    \n",
              " Class :character   Class :character   Class :character   Class :character  \n",
              " Mode  :character   Mode  :character   Mode  :character   Mode  :character  \n",
              "                                                                            \n",
              "                                                                            \n",
              "                                                                            \n",
              "      zip             lat             long            city_pop      \n",
              " Min.   : 1257   Min.   :20.03   Min.   :-165.67   Min.   :     23  \n",
              " 1st Qu.:26237   1st Qu.:34.62   1st Qu.: -96.80   1st Qu.:    743  \n",
              " Median :48174   Median :39.35   Median : -87.48   Median :   2456  \n",
              " Mean   :48801   Mean   :38.54   Mean   : -90.23   Mean   :  88824  \n",
              " 3rd Qu.:72042   3rd Qu.:41.94   3rd Qu.: -80.16   3rd Qu.:  20328  \n",
              " Max.   :99783   Max.   :66.69   Max.   : -67.95   Max.   :2906700  \n",
              "     job                dob             trans_num           unix_time        \n",
              " Length:1296675     Length:1296675     Length:1296675     Min.   :1.325e+09  \n",
              " Class :character   Class :character   Class :character   1st Qu.:1.339e+09  \n",
              " Mode  :character   Mode  :character   Mode  :character   Median :1.349e+09  \n",
              "                                                          Mean   :1.349e+09  \n",
              "                                                          3rd Qu.:1.359e+09  \n",
              "                                                          Max.   :1.372e+09  \n",
              "   merch_lat       merch_long         is_fraud       \n",
              " Min.   :19.03   Min.   :-166.67   Min.   :0.000000  \n",
              " 1st Qu.:34.73   1st Qu.: -96.90   1st Qu.:0.000000  \n",
              " Median :39.37   Median : -87.44   Median :0.000000  \n",
              " Mean   :38.54   Mean   : -90.23   Mean   :0.005789  \n",
              " 3rd Qu.:41.96   3rd Qu.: -80.24   3rd Qu.:0.000000  \n",
              " Max.   :67.51   Max.   : -66.95   Max.   :1.000000  "
            ]
          },
          "metadata": {}
        }
      ]
    },
    {
      "cell_type": "code",
      "metadata": {
        "id": "Qipy00H63Iu1"
      },
      "source": [
        "#create time bins of data\n",
        "Data$hour = format(as.POSIXct(Data$trans_date_trans_time), format = \"%H\")\n",
        "Data$year = format(as.POSIXct(Data$trans_date_trans_time), format = \"%Y\")\n",
        "Data$month = format(as.POSIXct(Data$trans_date_trans_time), format = \"%m\")\n",
        "Data$year = as.numeric(Data$year)\n",
        "Data$hour = as.numeric(Data$hour)\n",
        "Data$month = as.numeric(Data$month)\n",
        "Data$hour_bin = cut(Data$hour, 6, labels=c(\"midnight\", \"morning\", \"noon\", \"afternoon\", \"evening\", \"night\"))\n"
      ],
      "execution_count": null,
      "outputs": []
    },
    {
      "cell_type": "code",
      "metadata": {
        "colab": {
          "base_uri": "https://localhost:8080/",
          "height": 366
        },
        "id": "rmkIgBKB6eyC",
        "outputId": "c69e241c-cd36-4044-bcab-c1e8408c178c"
      },
      "source": [
        "head(Data, 1)\n",
        "#View(Data)\n",
        "data_fraud = Data[which(Data$is_fraud == 1),]\n",
        "head(data_fraud, 1)"
      ],
      "execution_count": null,
      "outputs": [
        {
          "output_type": "display_data",
          "data": {
            "text/plain": [
              "  trans_date_trans_time cc_num       merchant                   category amt \n",
              "1 2019-01-01 00:00:18   2.703186e+15 fraud_Rippin, Kub and Mann misc_net 4.97\n",
              "  first    last  gender street         city           ⋯ dob       \n",
              "1 Jennifer Banks F      561 Perry Cove Moravian Falls ⋯ 1988-03-09\n",
              "  trans_num                        unix_time  merch_lat merch_long is_fraud\n",
              "1 0b242abb623afc578575680df30655b9 1325376018 36.01129  -82.04832  0       \n",
              "  hour year month hour_bin\n",
              "1 0    2019 1     midnight"
            ],
            "text/latex": "A data.frame: 1 × 26\n\\begin{tabular}{r|lllllllllllllllllllll}\n  & trans\\_date\\_trans\\_time & cc\\_num & merchant & category & amt & first & last & gender & street & city & ⋯ & dob & trans\\_num & unix\\_time & merch\\_lat & merch\\_long & is\\_fraud & hour & year & month & hour\\_bin\\\\\n  & <chr> & <dbl> & <chr> & <chr> & <dbl> & <chr> & <chr> & <chr> & <chr> & <chr> & ⋯ & <chr> & <chr> & <int> & <dbl> & <dbl> & <int> & <dbl> & <dbl> & <dbl> & <fct>\\\\\n\\hline\n\t1 & 2019-01-01 00:00:18 & 2.703186e+15 & fraud\\_Rippin, Kub and Mann & misc\\_net & 4.97 & Jennifer & Banks & F & 561 Perry Cove & Moravian Falls & ⋯ & 1988-03-09 & 0b242abb623afc578575680df30655b9 & 1325376018 & 36.01129 & -82.04832 & 0 & 0 & 2019 & 1 & midnight\\\\\n\\end{tabular}\n",
            "text/markdown": "\nA data.frame: 1 × 26\n\n| <!--/--> | trans_date_trans_time &lt;chr&gt; | cc_num &lt;dbl&gt; | merchant &lt;chr&gt; | category &lt;chr&gt; | amt &lt;dbl&gt; | first &lt;chr&gt; | last &lt;chr&gt; | gender &lt;chr&gt; | street &lt;chr&gt; | city &lt;chr&gt; | ⋯ ⋯ | dob &lt;chr&gt; | trans_num &lt;chr&gt; | unix_time &lt;int&gt; | merch_lat &lt;dbl&gt; | merch_long &lt;dbl&gt; | is_fraud &lt;int&gt; | hour &lt;dbl&gt; | year &lt;dbl&gt; | month &lt;dbl&gt; | hour_bin &lt;fct&gt; |\n|---|---|---|---|---|---|---|---|---|---|---|---|---|---|---|---|---|---|---|---|---|---|\n| 1 | 2019-01-01 00:00:18 | 2.703186e+15 | fraud_Rippin, Kub and Mann | misc_net | 4.97 | Jennifer | Banks | F | 561 Perry Cove | Moravian Falls | ⋯ | 1988-03-09 | 0b242abb623afc578575680df30655b9 | 1325376018 | 36.01129 | -82.04832 | 0 | 0 | 2019 | 1 | midnight |\n\n",
            "text/html": [
              "<table class=\"dataframe\">\n",
              "<caption>A data.frame: 1 × 26</caption>\n",
              "<thead>\n",
              "\t<tr><th></th><th scope=col>trans_date_trans_time</th><th scope=col>cc_num</th><th scope=col>merchant</th><th scope=col>category</th><th scope=col>amt</th><th scope=col>first</th><th scope=col>last</th><th scope=col>gender</th><th scope=col>street</th><th scope=col>city</th><th scope=col>⋯</th><th scope=col>dob</th><th scope=col>trans_num</th><th scope=col>unix_time</th><th scope=col>merch_lat</th><th scope=col>merch_long</th><th scope=col>is_fraud</th><th scope=col>hour</th><th scope=col>year</th><th scope=col>month</th><th scope=col>hour_bin</th></tr>\n",
              "\t<tr><th></th><th scope=col>&lt;chr&gt;</th><th scope=col>&lt;dbl&gt;</th><th scope=col>&lt;chr&gt;</th><th scope=col>&lt;chr&gt;</th><th scope=col>&lt;dbl&gt;</th><th scope=col>&lt;chr&gt;</th><th scope=col>&lt;chr&gt;</th><th scope=col>&lt;chr&gt;</th><th scope=col>&lt;chr&gt;</th><th scope=col>&lt;chr&gt;</th><th scope=col>⋯</th><th scope=col>&lt;chr&gt;</th><th scope=col>&lt;chr&gt;</th><th scope=col>&lt;int&gt;</th><th scope=col>&lt;dbl&gt;</th><th scope=col>&lt;dbl&gt;</th><th scope=col>&lt;int&gt;</th><th scope=col>&lt;dbl&gt;</th><th scope=col>&lt;dbl&gt;</th><th scope=col>&lt;dbl&gt;</th><th scope=col>&lt;fct&gt;</th></tr>\n",
              "</thead>\n",
              "<tbody>\n",
              "\t<tr><th scope=row>1</th><td>2019-01-01 00:00:18</td><td>2.703186e+15</td><td>fraud_Rippin, Kub and Mann</td><td>misc_net</td><td>4.97</td><td>Jennifer</td><td>Banks</td><td>F</td><td>561 Perry Cove</td><td>Moravian Falls</td><td>⋯</td><td>1988-03-09</td><td>0b242abb623afc578575680df30655b9</td><td>1325376018</td><td>36.01129</td><td>-82.04832</td><td>0</td><td>0</td><td>2019</td><td>1</td><td>midnight</td></tr>\n",
              "</tbody>\n",
              "</table>\n"
            ]
          },
          "metadata": {}
        },
        {
          "output_type": "display_data",
          "data": {
            "text/plain": [
              "     trans_date_trans_time cc_num       merchant               category   \n",
              "2450 2019-01-02 01:06:37   4.613315e+12 fraud_Rutherford-Mertz grocery_pos\n",
              "     amt    first last   gender street                    city          ⋯\n",
              "2450 281.06 Jason Murphy M      542 Steve Curve Suite 011 Collettsville ⋯\n",
              "     dob        trans_num                        unix_time  merch_lat\n",
              "2450 1988-09-15 e8a81877ae9a0a7f883e15cb39dc4022 1325466397 36.43012 \n",
              "     merch_long is_fraud hour year month hour_bin\n",
              "2450 -81.17948  1        1    2019 1     midnight"
            ],
            "text/latex": "A data.frame: 1 × 26\n\\begin{tabular}{r|lllllllllllllllllllll}\n  & trans\\_date\\_trans\\_time & cc\\_num & merchant & category & amt & first & last & gender & street & city & ⋯ & dob & trans\\_num & unix\\_time & merch\\_lat & merch\\_long & is\\_fraud & hour & year & month & hour\\_bin\\\\\n  & <chr> & <dbl> & <chr> & <chr> & <dbl> & <chr> & <chr> & <chr> & <chr> & <chr> & ⋯ & <chr> & <chr> & <int> & <dbl> & <dbl> & <int> & <dbl> & <dbl> & <dbl> & <fct>\\\\\n\\hline\n\t2450 & 2019-01-02 01:06:37 & 4.613315e+12 & fraud\\_Rutherford-Mertz & grocery\\_pos & 281.06 & Jason & Murphy & M & 542 Steve Curve Suite 011 & Collettsville & ⋯ & 1988-09-15 & e8a81877ae9a0a7f883e15cb39dc4022 & 1325466397 & 36.43012 & -81.17948 & 1 & 1 & 2019 & 1 & midnight\\\\\n\\end{tabular}\n",
            "text/markdown": "\nA data.frame: 1 × 26\n\n| <!--/--> | trans_date_trans_time &lt;chr&gt; | cc_num &lt;dbl&gt; | merchant &lt;chr&gt; | category &lt;chr&gt; | amt &lt;dbl&gt; | first &lt;chr&gt; | last &lt;chr&gt; | gender &lt;chr&gt; | street &lt;chr&gt; | city &lt;chr&gt; | ⋯ ⋯ | dob &lt;chr&gt; | trans_num &lt;chr&gt; | unix_time &lt;int&gt; | merch_lat &lt;dbl&gt; | merch_long &lt;dbl&gt; | is_fraud &lt;int&gt; | hour &lt;dbl&gt; | year &lt;dbl&gt; | month &lt;dbl&gt; | hour_bin &lt;fct&gt; |\n|---|---|---|---|---|---|---|---|---|---|---|---|---|---|---|---|---|---|---|---|---|---|\n| 2450 | 2019-01-02 01:06:37 | 4.613315e+12 | fraud_Rutherford-Mertz | grocery_pos | 281.06 | Jason | Murphy | M | 542 Steve Curve Suite 011 | Collettsville | ⋯ | 1988-09-15 | e8a81877ae9a0a7f883e15cb39dc4022 | 1325466397 | 36.43012 | -81.17948 | 1 | 1 | 2019 | 1 | midnight |\n\n",
            "text/html": [
              "<table class=\"dataframe\">\n",
              "<caption>A data.frame: 1 × 26</caption>\n",
              "<thead>\n",
              "\t<tr><th></th><th scope=col>trans_date_trans_time</th><th scope=col>cc_num</th><th scope=col>merchant</th><th scope=col>category</th><th scope=col>amt</th><th scope=col>first</th><th scope=col>last</th><th scope=col>gender</th><th scope=col>street</th><th scope=col>city</th><th scope=col>⋯</th><th scope=col>dob</th><th scope=col>trans_num</th><th scope=col>unix_time</th><th scope=col>merch_lat</th><th scope=col>merch_long</th><th scope=col>is_fraud</th><th scope=col>hour</th><th scope=col>year</th><th scope=col>month</th><th scope=col>hour_bin</th></tr>\n",
              "\t<tr><th></th><th scope=col>&lt;chr&gt;</th><th scope=col>&lt;dbl&gt;</th><th scope=col>&lt;chr&gt;</th><th scope=col>&lt;chr&gt;</th><th scope=col>&lt;dbl&gt;</th><th scope=col>&lt;chr&gt;</th><th scope=col>&lt;chr&gt;</th><th scope=col>&lt;chr&gt;</th><th scope=col>&lt;chr&gt;</th><th scope=col>&lt;chr&gt;</th><th scope=col>⋯</th><th scope=col>&lt;chr&gt;</th><th scope=col>&lt;chr&gt;</th><th scope=col>&lt;int&gt;</th><th scope=col>&lt;dbl&gt;</th><th scope=col>&lt;dbl&gt;</th><th scope=col>&lt;int&gt;</th><th scope=col>&lt;dbl&gt;</th><th scope=col>&lt;dbl&gt;</th><th scope=col>&lt;dbl&gt;</th><th scope=col>&lt;fct&gt;</th></tr>\n",
              "</thead>\n",
              "<tbody>\n",
              "\t<tr><th scope=row>2450</th><td>2019-01-02 01:06:37</td><td>4.613315e+12</td><td>fraud_Rutherford-Mertz</td><td>grocery_pos</td><td>281.06</td><td>Jason</td><td>Murphy</td><td>M</td><td>542 Steve Curve Suite 011</td><td>Collettsville</td><td>⋯</td><td>1988-09-15</td><td>e8a81877ae9a0a7f883e15cb39dc4022</td><td>1325466397</td><td>36.43012</td><td>-81.17948</td><td>1</td><td>1</td><td>2019</td><td>1</td><td>midnight</td></tr>\n",
              "</tbody>\n",
              "</table>\n"
            ]
          },
          "metadata": {}
        }
      ]
    },
    {
      "cell_type": "code",
      "metadata": {
        "colab": {
          "base_uri": "https://localhost:8080/",
          "height": 153
        },
        "id": "397WUF7W6o9a",
        "outputId": "a192cdc3-ef39-4645-f07d-531267488bfd"
      },
      "source": [
        "#Cost Benefit Analysis\n",
        "#Average number of transactions per month\n",
        "average_trans_pm = nrow(Data) / 24\n",
        "average_trans_pm # 54028.125\n",
        "\n",
        "\n",
        "#Average number of fraudulent transaction per month\n",
        "data_fraud = Data[which(Data$is_fraud == 1),]\n",
        "\n",
        "data_year_2019 = Data[which(data_fraud$year == 2019),]\n",
        "data_year_2019_months = unique(data_year_2019$month)\n",
        "data_year_2019_months #1\n",
        "\n",
        "data_year_2020 = Data[which(data_fraud$year == 2020),]\n",
        "data_year_2020_months = unique(data_year_2020$month)\n",
        "data_year_2020_months #1\n",
        "\n",
        "nrow(data_year_2019) #5220\n",
        "average_trans_pm_2019 = nrow(data_year_2019) / 12\n",
        "average_trans_pm_2019 # 435\n",
        "\n",
        "data_year_2020 = Data[which(data_fraud$year == 2020),]\n",
        "average_trans_pm_2020 = nrow(data_year_2020) / 12\n",
        "average_trans_pm_2020 # 190.5\n",
        "\n",
        "#Average amount per fraud transaction\n",
        "data_fraud = Data[which(Data$is_fraud == 1),]\n",
        "#View(data_fraud)\n",
        "nrow(data_fraud) #7506\n",
        "Average_fraud_amt_trans = sum(data_fraud$amt) / nrow(data_fraud) \n",
        "Average_fraud_amt_trans #531"
      ],
      "execution_count": null,
      "outputs": [
        {
          "output_type": "display_data",
          "data": {
            "text/plain": [
              "[1] 54028.12"
            ],
            "text/latex": "54028.125",
            "text/markdown": "54028.125",
            "text/html": [
              "54028.125"
            ]
          },
          "metadata": {}
        },
        {
          "output_type": "display_data",
          "data": {
            "text/plain": [
              "[1] 1"
            ],
            "text/latex": "1",
            "text/markdown": "1",
            "text/html": [
              "1"
            ]
          },
          "metadata": {}
        },
        {
          "output_type": "display_data",
          "data": {
            "text/plain": [
              "[1] 1"
            ],
            "text/latex": "1",
            "text/markdown": "1",
            "text/html": [
              "1"
            ]
          },
          "metadata": {}
        },
        {
          "output_type": "display_data",
          "data": {
            "text/plain": [
              "[1] 5220"
            ],
            "text/latex": "5220",
            "text/markdown": "5220",
            "text/html": [
              "5220"
            ]
          },
          "metadata": {}
        },
        {
          "output_type": "display_data",
          "data": {
            "text/plain": [
              "[1] 435"
            ],
            "text/latex": "435",
            "text/markdown": "435",
            "text/html": [
              "435"
            ]
          },
          "metadata": {}
        },
        {
          "output_type": "display_data",
          "data": {
            "text/plain": [
              "[1] 190.5"
            ],
            "text/latex": "190.5",
            "text/markdown": "190.5",
            "text/html": [
              "190.5"
            ]
          },
          "metadata": {}
        },
        {
          "output_type": "display_data",
          "data": {
            "text/plain": [
              "[1] 7506"
            ],
            "text/latex": "7506",
            "text/markdown": "7506",
            "text/html": [
              "7506"
            ]
          },
          "metadata": {}
        },
        {
          "output_type": "display_data",
          "data": {
            "text/plain": [
              "[1] 531.3201"
            ],
            "text/latex": "531.320091926459",
            "text/markdown": "531.320091926459",
            "text/html": [
              "531.320091926459"
            ]
          },
          "metadata": {}
        }
      ]
    },
    {
      "cell_type": "code",
      "metadata": {
        "colab": {
          "base_uri": "https://localhost:8080/",
          "height": 437
        },
        "id": "oweLcV377A6E",
        "outputId": "790fe831-f5d6-4c88-c500-f4f6387838b8"
      },
      "source": [
        "#Histogram\n",
        "library(ggplot2)\n",
        "\n",
        "qplot(Data$amt,\n",
        "      geom=\"histogram\",\n",
        "      binwidth=100,  \n",
        "      main=\"Histogram for Amount\", \n",
        "      xlab=\"Amount\", \n",
        "      fill=I(\"gray\"), \n",
        "      col=I(\"red\"))+theme_bw()"
      ],
      "execution_count": null,
      "outputs": [
        {
          "output_type": "display_data",
          "data": {
            "image/png": "[encoded data removed]",
            "text/plain": [
              "plot without title"
            ]
          },
          "metadata": {
            "image/png": {
              "width": 420,
              "height": 420
            }
          }
        }
      ]
    },
    {
      "cell_type": "code",
      "metadata": {
        "colab": {
          "base_uri": "https://localhost:8080/",
          "height": 437
        },
        "id": "3lFGBOMN7HzO",
        "outputId": "92e56b43-e44c-4f8b-f48b-5c6315e23256"
      },
      "source": [
        "Data_hour_bin_mignight = Data[which(Data$hour_bin == \"midnight\"),]\n",
        "qplot(Data_hour_bin_mignight$amt,\n",
        "      geom=\"histogram\",\n",
        "      binwidth=50,  \n",
        "      main=\"Histogram for Amount\", \n",
        "      xlab=\"Amount\", \n",
        "      fill=I(\"gray\"), \n",
        "      col=I(\"red\"))+theme_bw()\n"
      ],
      "execution_count": null,
      "outputs": [
        {
          "output_type": "display_data",
          "data": {
            "image/png": "[encoded data removed]",
            "text/plain": [
              "plot without title"
            ]
          },
          "metadata": {
            "image/png": {
              "width": 420,
              "height": 420
            }
          }
        }
      ]
    },
    {
      "cell_type": "code",
      "metadata": {
        "colab": {
          "base_uri": "https://localhost:8080/",
          "height": 437
        },
        "id": "DCWEDCSB7Mpo",
        "outputId": "133e3f29-8579-43d8-a661-570f20954a03"
      },
      "source": [
        "hist(Data$is_fraud,col=\"coral\")\n"
      ],
      "execution_count": null,
      "outputs": [
        {
          "output_type": "display_data",
          "data": {
            "image/png": "[encoded data removed]",
            "text/plain": [
              "Plot with title “Histogram of Data$is_fraud”"
            ]
          },
          "metadata": {
            "image/png": {
              "width": 420,
              "height": 420
            }
          }
        }
      ]
    },
    {
      "cell_type": "code",
      "metadata": {
        "colab": {
          "base_uri": "https://localhost:8080/",
          "height": 437
        },
        "id": "GMGYu4-f7P4x",
        "outputId": "a4414e39-50d6-423d-a546-5496e5fc113f"
      },
      "source": [
        "#Bivariate Analysis\n",
        "#Dataset is highly imbalanced\n",
        "ggplot(data = Data, aes(x = is_fraud), \n",
        "       y = prop.table(stat(count)), fill = is_fraud,\n",
        "       label = scales::percent(prop.table(stat(count)))) + geom_bar(position = \"dodge\") + \n",
        "  scale_x_discrete(labels = c(\"no fraud\", \"fraud\"))\n"
      ],
      "execution_count": null,
      "outputs": [
        {
          "output_type": "display_data",
          "data": {
            "image/png": "[encoded data removed]",
            "text/plain": [
              "plot without title"
            ]
          },
          "metadata": {
            "image/png": {
              "width": 420,
              "height": 420
            }
          }
        }
      ]
    },
    {
      "cell_type": "code",
      "metadata": {
        "colab": {
          "base_uri": "https://localhost:8080/",
          "height": 437
        },
        "id": "YYN_PSEf7SCU",
        "outputId": "477362f3-2f91-4812-ab4f-d285e21ddb33"
      },
      "source": [
        "#Data variability is high in non fraud transactions\n",
        "ggplot(Data, aes(x = factor(is_fraud), y = amt)) + geom_boxplot() + labs(x = 'Fraud/NonFraud', y = 'Amount')\n"
      ],
      "execution_count": null,
      "outputs": [
        {
          "output_type": "display_data",
          "data": {
            "image/png": "[encoded data removed]",
            "text/plain": [
              "plot without title"
            ]
          },
          "metadata": {
            "image/png": {
              "width": 420,
              "height": 420
            }
          }
        }
      ]
    },
    {
      "cell_type": "code",
      "metadata": {
        "colab": {
          "base_uri": "https://localhost:8080/",
          "height": 437
        },
        "id": "hYQrMrBN7Vix",
        "outputId": "cb75887a-3f2a-47d7-cc96-c7dc766030a5"
      },
      "source": [
        "ggplot(Data, aes(x = factor(hour_bin), y = amt)) + geom_boxplot() + labs(x = 'VariousTime', y = 'Amount')\n"
      ],
      "execution_count": null,
      "outputs": [
        {
          "output_type": "display_data",
          "data": {
            "image/png": "[encoded data removed]",
            "text/plain": [
              "plot without title"
            ]
          },
          "metadata": {
            "image/png": {
              "width": 420,
              "height": 420
            }
          }
        }
      ]
    },
    {
      "cell_type": "code",
      "metadata": {
        "colab": {
          "base_uri": "https://localhost:8080/",
          "height": 437
        },
        "id": "cIcKbIWh7bLK",
        "outputId": "2d95180b-20d6-46c7-830f-9c38d6cb38d7"
      },
      "source": [
        "\n",
        "ggplot(Data, aes(x = amt, fill = factor(hour_bin))) +\n",
        "  geom_bar() +\n",
        "  theme_classic()\n"
      ],
      "execution_count": null,
      "outputs": [
        {
          "output_type": "display_data",
          "data": {
            "image/png": "[encoded data removed]",
            "text/plain": [
              "plot without title"
            ]
          },
          "metadata": {
            "image/png": {
              "width": 420,
              "height": 420
            }
          }
        }
      ]
    },
    {
      "cell_type": "code",
      "metadata": {
        "colab": {
          "base_uri": "https://localhost:8080/",
          "height": 437
        },
        "id": "2V-sz09v7yVH",
        "outputId": "dd48edb8-79c9-4a95-9b7f-d09ec8fc51da"
      },
      "source": [
        "ggplot(data = data_fraud, aes(x = hour_bin), \n",
        "       y = prop.table(stat(count)),\n",
        "       label = scales::percent(prop.table(stat(count)))) + geom_bar()\n"
      ],
      "execution_count": null,
      "outputs": [
        {
          "output_type": "display_data",
          "data": {
            "image/png": "[encoded data removed]",
            "text/plain": [
              "plot without title"
            ]
          },
          "metadata": {
            "image/png": {
              "width": 420,
              "height": 420
            }
          }
        }
      ]
    },
    {
      "cell_type": "code",
      "metadata": {
        "colab": {
          "base_uri": "https://localhost:8080/",
          "height": 471
        },
        "id": "qtoKg-yE72s5",
        "outputId": "f39a1cc7-ab24-453c-9012-dc83a0708683"
      },
      "source": [
        "# Faceting: We Facet the data into groups to better understand the data.\n",
        "library(ggplot2)\n",
        "ggplot(data = Data,\n",
        "       aes(y = amt, x = hour_bin, col = factor(is_fraud))) + \n",
        "  geom_point() +\n",
        "  geom_smooth(se = F, method = 'lm') +\n",
        "  facet_grid(~(is_fraud))\n"
      ],
      "execution_count": null,
      "outputs": [
        {
          "output_type": "stream",
          "name": "stderr",
          "text": [
            "`geom_smooth()` using formula 'y ~ x'\n",
            "\n"
          ]
        },
        {
          "output_type": "display_data",
          "data": {
            "image/png": "[encoded data removed]",
            "text/plain": [
              "plot without title"
            ]
          },
          "metadata": {
            "image/png": {
              "width": 420,
              "height": 420
            }
          }
        }
      ]
    },
    {
      "cell_type": "code",
      "metadata": {
        "colab": {
          "base_uri": "https://localhost:8080/",
          "height": 473
        },
        "id": "J6W8jKtY8KYt",
        "outputId": "5057d3fc-e21b-4665-882a-0ef5404fc887"
      },
      "source": [
        "\n",
        "ggplot(data = Data,\n",
        "       aes(y = amt, x = year, col = factor(is_fraud))) + \n",
        "  geom_point() +\n",
        "  geom_smooth(se = F, method = 'lm') +\n",
        "  facet_grid(~(is_fraud))\n"
      ],
      "execution_count": null,
      "outputs": [
        {
          "name": "stderr",
          "output_type": "stream",
          "text": [
            "`geom_smooth()` using formula 'y ~ x'\n",
            "\n"
          ]
        },
        {
          "data": {
            "image/png": "[encoded data removed]",
            "text/plain": [
              "plot without title"
            ]
          },
          "metadata": {
            "image/png": {
              "height": 420,
              "width": 420
            }
          },
          "output_type": "display_data"
        }
      ]
    },
    {
      "cell_type": "code",
      "metadata": {
        "id": "-Z-0ReID8b0F"
      },
      "source": [
        ""
      ],
      "execution_count": null,
      "outputs": []
    },
    {
      "cell_type": "code",
      "metadata": {
        "colab": {
          "base_uri": "https://localhost:8080/"
        },
        "id": "wSl9Qo17yugw",
        "outputId": "214c769a-b8ba-4cfc-83d7-2326ea7b188e"
      },
      "source": [
        "### 7. #Finding the Imbalance in Dependent variable\n",
        "str(ModelData)"
      ],
      "execution_count": null,
      "outputs": [
        {
          "name": "stdout",
          "output_type": "stream",
          "text": [
            "'data.frame':\t284807 obs. of  31 variables:\n",
            " $ X.Time.  : num  0 0 1 1 2 2 4 7 7 9 ...\n",
            " $ X.V1.    : num  -1.36 1.192 -1.358 -0.966 -1.158 ...\n",
            " $ X.V2.    : num  -0.0728 0.2662 -1.3402 -0.1852 0.8777 ...\n",
            " $ X.V3.    : num  2.536 0.166 1.773 1.793 1.549 ...\n",
            " $ X.V4.    : num  1.378 0.448 0.38 -0.863 0.403 ...\n",
            " $ X.V5.    : num  -0.3383 0.06 -0.5032 -0.0103 -0.4072 ...\n",
            " $ X.V6.    : num  0.4624 -0.0824 1.8005 1.2472 0.0959 ...\n",
            " $ X.V7.    : num  0.2396 -0.0788 0.7915 0.2376 0.5929 ...\n",
            " $ X.V8.    : num  0.0987 0.0851 0.2477 0.3774 -0.2705 ...\n",
            " $ X.V9.    : num  0.364 -0.255 -1.515 -1.387 0.818 ...\n",
            " $ X.V10.   : num  0.0908 -0.167 0.2076 -0.055 0.7531 ...\n",
            " $ X.V11.   : num  -0.552 1.613 0.625 -0.226 -0.823 ...\n",
            " $ X.V12.   : num  -0.6178 1.0652 0.0661 0.1782 0.5382 ...\n",
            " $ X.V13.   : num  -0.991 0.489 0.717 0.508 1.346 ...\n",
            " $ X.V14.   : num  -0.311 -0.144 -0.166 -0.288 -1.12 ...\n",
            " $ X.V15.   : num  1.468 0.636 2.346 -0.631 0.175 ...\n",
            " $ X.V16.   : num  -0.47 0.464 -2.89 -1.06 -0.451 ...\n",
            " $ X.V17.   : num  0.208 -0.115 1.11 -0.684 -0.237 ...\n",
            " $ X.V18.   : num  0.0258 -0.1834 -0.1214 1.9658 -0.0382 ...\n",
            " $ X.V19.   : num  0.404 -0.146 -2.262 -1.233 0.803 ...\n",
            " $ X.V20.   : num  0.2514 -0.0691 0.525 -0.208 0.4085 ...\n",
            " $ X.V21.   : num  -0.01831 -0.22578 0.248 -0.1083 -0.00943 ...\n",
            " $ X.V22.   : num  0.27784 -0.63867 0.77168 0.00527 0.79828 ...\n",
            " $ X.V23.   : num  -0.11 0.101 0.909 -0.19 -0.137 ...\n",
            " $ X.V24.   : num  0.0669 -0.3398 -0.6893 -1.1756 0.1413 ...\n",
            " $ X.V25.   : num  0.129 0.167 -0.328 0.647 -0.206 ...\n",
            " $ X.V26.   : num  -0.189 0.126 -0.139 -0.222 0.502 ...\n",
            " $ X.V27.   : num  0.13356 -0.00898 -0.05535 0.06272 0.21942 ...\n",
            " $ X.V28.   : num  -0.0211 0.0147 -0.0598 0.0615 0.2152 ...\n",
            " $ X.Amount.: num  149.62 2.69 378.66 123.5 69.99 ...\n",
            " $ X.Class. : chr  \"\\\"0\\\"\" \"\\\"0\\\"\" \"\\\"0\\\"\" \"\\\"0\\\"\" ...\n"
          ]
        }
      ]
    },
    {
      "cell_type": "code",
      "metadata": {
        "colab": {
          "base_uri": "https://localhost:8080/",
          "height": 124
        },
        "id": "0awkLCLM5KE4",
        "outputId": "1433a7e2-1b57-4c54-f1b9-3027754bf5de"
      },
      "source": [
        "#checking class imbalance\n",
        "table(ModelData$Class)\n",
        "# class imbalance in percentage\n",
        "prop.table(table(ModelData$Class)) #99.82% vs 0.17%\n"
      ],
      "execution_count": null,
      "outputs": [
        {
          "data": {
            "text/plain": [
              "\n",
              "     0      1 \n",
              "284315    492 "
            ]
          },
          "metadata": {},
          "output_type": "display_data"
        },
        {
          "data": {
            "text/plain": [
              "\n",
              "          0           1 \n",
              "0.998272514 0.001727486 "
            ]
          },
          "metadata": {},
          "output_type": "display_data"
        }
      ]
    },
    {
      "cell_type": "code",
      "metadata": {
        "colab": {
          "base_uri": "https://localhost:8080/"
        },
        "id": "NPleH1v68pqT",
        "outputId": "f53f6be1-0f42-4b12-bdd0-3e5ff973bce3"
      },
      "source": [
        "# Now we will group the datas based on the Class value and \n",
        "# For this we will use dplyr package which contans group by function.\n",
        "ModelData$Class <- as.factor(ModelData$Class)\n",
        "creditcardDF <- ModelData %>% group_by(Class) %>% summarize(Class_count = n())\n",
        "print(head(creditcardDF))\n"
      ],
      "execution_count": null,
      "outputs": [
        {
          "output_type": "stream",
          "name": "stdout",
          "text": [
            "\u001b[90m# A tibble: 2 × 2\u001b[39m\n",
            "  Class Class_count\n",
            "  \u001b[3m\u001b[90m<fct>\u001b[39m\u001b[23m       \u001b[3m\u001b[90m<int>\u001b[39m\u001b[23m\n",
            "\u001b[90m1\u001b[39m 0          \u001b[4m2\u001b[24m\u001b[4m8\u001b[24m\u001b[4m4\u001b[24m315\n",
            "\u001b[90m2\u001b[39m 1             492\n"
          ]
        }
      ]
    },
    {
      "cell_type": "code",
      "metadata": {
        "id": "9jBGSXtn0WVq"
      },
      "source": [
        "# Finding the percentage of each Class category.\n",
        "creditcardDF$Class_count <- 100 * creditcardDF$Class_count / nrow(ModelData)\n",
        "creditcardDF$ncount_p <- paste(round(creditcardDF$Class_count,2),\"%\")\n"
      ],
      "execution_count": null,
      "outputs": []
    },
    {
      "cell_type": "code",
      "metadata": {
        "colab": {
          "base_uri": "https://localhost:8080/",
          "height": 437
        },
        "id": "Er1lHQ8X8yoB",
        "outputId": "d80edfcc-b40c-47e5-b2c5-dba3a5b5ca7d"
      },
      "source": [
        "# Applying ggplot2 to visualize the results for Number of transaction under each Class Status, \n",
        "# Class 0 are Good transactions and Class 1 represents Fraud transactions.\n",
        "# In Xaxis we have Class Status and In yaxis we have Percentage of transaction.\n",
        "\n",
        "ggplot(creditcardDF,aes(x=Class,y=Class_count,fill=Class)) +\n",
        "  geom_bar(stat=\"identity\") + geom_text(aes(label=ncount_p),vjust = 2) +\n",
        "  ggtitle(\"Transaction by status\") + xlab(\"Class\") + ylab(\"Percentage of transaction\")\n"
      ],
      "execution_count": null,
      "outputs": [
        {
          "data": {
            "image/png": "[encoded data removed]",
            "text/plain": [
              "plot without title"
            ]
          },
          "metadata": {
            "image/png": {
              "height": 420,
              "width": 420
            }
          },
          "output_type": "display_data"
        }
      ]
    },
    {
      "cell_type": "code",
      "metadata": {
        "colab": {
          "base_uri": "https://localhost:8080/",
          "height": 204
        },
        "id": "xpykIggn9FIZ",
        "outputId": "36dee870-7f30-4352-863f-d489d17e2f49"
      },
      "source": [
        "### 8.#two t-sample test X & Y IV vs DV \n",
        "#H0 = mean loan default status cusomters = married people  \n",
        "#H1 = mean is not equal to zero where loan defaulted are married \n",
        "# Compute t-test\n",
        "#View(group1)\n",
        "#install.packages(\"ggpubr\")\n",
        "#str(Data)\n",
        "Ttestdata=Data[,c(5,11,22)] # Target Variables is is_fraud (22) with amt (5) and State (11) as continuous and categorical predictors respectively\n",
        "#View(Ttestdata)\n",
        "Y0=subset(Ttestdata,Ttestdata$amt < 500)$is_fraud\n",
        "Y1=subset(Ttestdata,Ttestdata$amt >=500)$is_fraud\n",
        "t.test(Y0,Y1) \n",
        "# t.test(Y0,Y1) #P < 0.05 So, reject null hypothesis that there is no differences between both the variables response variable based on the\n",
        "#continuous predictors ie Amount  and state mentioned above are different wrt #target variables "
      ],
      "execution_count": null,
      "outputs": [
        {
          "output_type": "display_data",
          "data": {
            "text/plain": [
              "\n",
              "\tWelch Two Sample t-test\n",
              "\n",
              "data:  Y0 and Y1\n",
              "t = -68.083, df = 15636, p-value < 2.2e-16\n",
              "alternative hypothesis: true difference in means is not equal to 0\n",
              "95 percent confidence interval:\n",
              " -0.2370032 -0.2237384\n",
              "sample estimates:\n",
              "  mean of x   mean of y \n",
              "0.003011606 0.233382381 \n"
            ]
          },
          "metadata": {}
        }
      ]
    },
    {
      "cell_type": "code",
      "metadata": {
        "id": "SkPoZEvc9-g8"
      },
      "source": [
        "#9 Splitting the dataset into train and test datasets\n",
        "#install.packages(\"caTools\")\n",
        "#summary(ModelData)\n",
        "#str(ModelData)\n",
        "#head(ModelData)\n",
        "\n",
        "library(caTools)\n",
        "set.seed(123)\n",
        "split = sample.split(ModelData$Class, SplitRatio =0.8)\n",
        "training_set = subset(ModelData, split == TRUE)\n",
        "test_set = subset(ModelData, split == FALSE)"
      ],
      "execution_count": null,
      "outputs": []
    },
    {
      "cell_type": "code",
      "metadata": {
        "colab": {
          "base_uri": "https://localhost:8080/",
          "height": 72
        },
        "id": "wBCYMMSD-DDe",
        "outputId": "aa8dc16d-db6e-468a-a349-03e69b4a936f"
      },
      "source": [
        "#Feature scaling the fields for attending to normalize the Skewness in the dataset\n",
        "training_set[-31] = scale(training_set[-31])\n",
        "test_set[-31] = scale(test_set[-31])\n",
        "\n",
        "# class ratio initially\n",
        "table(training_set$Class)"
      ],
      "execution_count": null,
      "outputs": [
        {
          "output_type": "display_data",
          "data": {
            "text/plain": [
              "\n",
              "     0      1 \n",
              "227452    394 "
            ]
          },
          "metadata": {}
        }
      ]
    },
    {
      "cell_type": "markdown",
      "metadata": {
        "id": "8Ami9Nlxzh1-"
      },
      "source": [
        "#Class Imbalance - Treatment\n",
        "As the data has less Fraud transactions(less than 1%), we have to apply sample methods to balance the data. We applied Over, Upper, Mixed(both) and ROSE sampling methods using ROSE package and SMOTE sampling method using DMwR package"
      ]
    },
    {
      "cell_type": "code",
      "metadata": {
        "colab": {
          "base_uri": "https://localhost:8080/"
        },
        "id": "8JTKt5Ke-kOW",
        "outputId": "1757a432-862f-4abb-cfda-82b7b4caf9ea"
      },
      "source": [
        "#Checking the data how much the data is imbalance\n",
        "print('Number of transactions in train dataset before applying sampling methods')\n",
        "print(table(training_set$Class))\n"
      ],
      "execution_count": null,
      "outputs": [
        {
          "output_type": "stream",
          "name": "stdout",
          "text": [
            "[1] \"Number of transactions in train dataset before applying sampling methods\"\n",
            "\n",
            "     0      1 \n",
            "227452    394 \n"
          ]
        }
      ]
    },
    {
      "cell_type": "code",
      "metadata": {
        "colab": {
          "base_uri": "https://localhost:8080/"
        },
        "id": "4uGXSv8n-w4A",
        "outputId": "3384f18e-f801-4f35-cbde-22a1ce70435b"
      },
      "source": [
        "#install.packages(\"bitops\",repos=\"https://cran.r-project.org/bin/windows/contrib/3.3/bitops_1.0-6.zip\",dependencies=TRUE,type=\"source\")\n",
        "install.packages('abind')\n",
        "install.packages('zoo')\n",
        "install.packages('xts')\n",
        "install.packages('quantmod')\n",
        "install.packages('ROCR')"
      ],
      "execution_count": null,
      "outputs": [
        {
          "output_type": "stream",
          "name": "stderr",
          "text": [
            "Installing package into ‘/usr/local/lib/R/site-library’\n",
            "(as ‘lib’ is unspecified)\n",
            "\n",
            "Installing package into ‘/usr/local/lib/R/site-library’\n",
            "(as ‘lib’ is unspecified)\n",
            "\n",
            "Installing package into ‘/usr/local/lib/R/site-library’\n",
            "(as ‘lib’ is unspecified)\n",
            "\n",
            "Installing package into ‘/usr/local/lib/R/site-library’\n",
            "(as ‘lib’ is unspecified)\n",
            "\n",
            "also installing the dependency ‘TTR’\n",
            "\n",
            "\n",
            "Installing package into ‘/usr/local/lib/R/site-library’\n",
            "(as ‘lib’ is unspecified)\n",
            "\n",
            "also installing the dependencies ‘gtools’, ‘gplots’\n",
            "\n",
            "\n"
          ]
        }
      ]
    },
    {
      "cell_type": "code",
      "metadata": {
        "colab": {
          "base_uri": "https://localhost:8080/"
        },
        "id": "OEPmaSw0BFgy",
        "outputId": "22b61960-d780-4caf-ecd8-9e22ccde88bd"
      },
      "source": [
        "install.packages(\"ROSE\")"
      ],
      "execution_count": null,
      "outputs": [
        {
          "output_type": "stream",
          "name": "stderr",
          "text": [
            "Installing package into ‘/usr/local/lib/R/site-library’\n",
            "(as ‘lib’ is unspecified)\n",
            "\n"
          ]
        }
      ]
    },
    {
      "cell_type": "code",
      "metadata": {
        "id": "F3RJpyWH_Jw9",
        "colab": {
          "base_uri": "https://localhost:8080/"
        },
        "outputId": "0867c644-03e8-4e91-da9b-2cb530634e50"
      },
      "source": [
        "library(bitops)\n",
        "library(abind)\n",
        "library(zoo)\n",
        "library(xts)\n",
        "library(quantmod)\n",
        "library(ROCR)\n",
        "#library(DMwR)\n",
        "library(ROSE)\n"
      ],
      "execution_count": null,
      "outputs": [
        {
          "output_type": "stream",
          "name": "stderr",
          "text": [
            "\n",
            "Attaching package: ‘zoo’\n",
            "\n",
            "\n",
            "The following objects are masked from ‘package:base’:\n",
            "\n",
            "    as.Date, as.Date.numeric\n",
            "\n",
            "\n",
            "\n",
            "Attaching package: ‘xts’\n",
            "\n",
            "\n",
            "The following objects are masked from ‘package:dplyr’:\n",
            "\n",
            "    first, last\n",
            "\n",
            "\n",
            "Loading required package: TTR\n",
            "\n",
            "Registered S3 method overwritten by 'quantmod':\n",
            "  method            from\n",
            "  as.zoo.data.frame zoo \n",
            "\n",
            "Loaded ROSE 0.0-4\n",
            "\n",
            "\n"
          ]
        }
      ]
    },
    {
      "cell_type": "code",
      "metadata": {
        "id": "4MhZVMikUnHc"
      },
      "source": [
        "#library(SMOTE)"
      ],
      "execution_count": null,
      "outputs": []
    },
    {
      "cell_type": "code",
      "metadata": {
        "colab": {
          "base_uri": "https://localhost:8080/"
        },
        "id": "JMTQsBiW-rvs",
        "outputId": "4e169114-1721-4ead-d7ce-3686ba8ed7e4"
      },
      "source": [
        "# Oversampling, as Fraud transactions(1) are having less occurrence, so this Over sampling method will increase the Fraud records untill matches good records 45490\n",
        "over_sample_train_data <- ovun.sample(Class ~ ., data = training_set, method=\"over\", N=454904)$data\n",
        "print('Number of transactions in train dataset after applying Over sampling method')\n",
        "print(table(over_sample_train_data$Class))\n",
        "#View(over_sample_train_data)\n",
        "#summary(over_sample_train_data)\n",
        "\n",
        "# Undersampling,as Fraud transactions(1) are having less occurrence, so this Under sampling method will descrease the Good records untill matches Fraud records, But, you see that we've lost significant information from the sample. \n",
        "under_sample_train_data <- ovun.sample(Class ~ ., data = training_set, method=\"under\", N=788)$data\n",
        "print('Number of transactions in train dataset after applying Under sampling method')\n",
        "print(table(under_sample_train_data$Class))\n",
        "\n",
        "# Mixed Sampling, apply both under sampling and over sampling on this imbalanced data\n",
        "both_sample_train_data <- ovun.sample(Class ~ ., data = training_set, method=\"both\", p=0.5, seed=222, N=227846)$data\n",
        "print('Number of transactions in train dataset after applying Mixed sampling method')\n",
        "print(table(both_sample_train_data$Class))\n",
        "\n",
        "# ROSE Sampling, this helps us to generate data synthetically. It generates artificial datas instead of dulicate data.\n",
        "rose_sample_train_data <- ROSE(Class ~ ., data = training_set,  seed=111)$data\n",
        "print('Number of transactions in train dataset after applying ROSE sampling method')\n",
        "print(table(rose_sample_train_data$Class))\n",
        "\n",
        "# SMOTE(Synthetic Minority Over-sampling Technique) Sampling\n",
        "# formula - relates how our dependent variable acts based on other independent variable.\n",
        "# data - input data\n",
        "# perc.over - controls the size of Minority class\n",
        "# perc.under - controls the size of Majority class\n",
        "# since my data has less Majority class, increasing it with 200 and keeping the minority class to 100.\n",
        "#View(training_set)\n",
        "#smote_sample_train_data <- SMOTE(Class ~ ., data = training_set, perc.over = 100, perc.under=200)\n",
        "#print('Number of transactions in train dataset after applying SMOTE sampling method')\n",
        "#print(table(smote_sample_train_data$Class))"
      ],
      "execution_count": null,
      "outputs": [
        {
          "output_type": "stream",
          "name": "stdout",
          "text": [
            "[1] \"Number of transactions in train dataset after applying Over sampling method\"\n",
            "\n",
            "     0      1 \n",
            "227452 227452 \n",
            "[1] \"Number of transactions in train dataset after applying Under sampling method\"\n",
            "\n",
            "  0   1 \n",
            "394 394 \n",
            "[1] \"Number of transactions in train dataset after applying Mixed sampling method\"\n",
            "\n",
            "     0      1 \n",
            "113630 114216 \n",
            "[1] \"Number of transactions in train dataset after applying ROSE sampling method\"\n",
            "\n",
            "     0      1 \n",
            "113827 114019 \n"
          ]
        }
      ]
    },
    {
      "cell_type": "code",
      "metadata": {
        "colab": {
          "base_uri": "https://localhost:8080/"
        },
        "id": "-IOW9jrQC02t",
        "outputId": "5e69cfee-893c-41f3-b8bb-0c3f671ed509"
      },
      "source": [
        "# Apply Logistic classifier on balanced data\n",
        "\n",
        "# Now we have five different types of inputs which are balanced and ready for prediction.\n",
        "# We can appply Logistic classifier to all these five datasets and calculate the performance of each.\n",
        "\n",
        "#10 Import Logistic Regression\n",
        "library(MASS)\n",
        "#11 Fitting  Logistic classifier for Over sampling dataset\n",
        "over_classifier = glm(formula = Class ~ ., family = binomial, data = over_sample_train_data)\n",
        "\n",
        "# Logistic classifier for Under sampling dataset\n",
        "under_classifier = glm(formula = Class ~ ., family = binomial, data = under_sample_train_data)\n",
        "\n",
        "# Logistic classifier for Mixed sampling dataset\n",
        "both_classifier = glm(formula = Class ~ ., family = binomial, data = both_sample_train_data)\n",
        "\n",
        "#Logistic classifier for ROSE sampling dataset\n",
        "rose_classifier = glm(formula = Class ~ ., family = binomial, data = rose_sample_train_data)\n",
        "\n",
        "# Logistic classifier for SMOTE dataset\n",
        "#smote_classifier = glm(formula = Class ~ ., family = binomial, data = smote_sample_train_data)"
      ],
      "execution_count": null,
      "outputs": [
        {
          "output_type": "stream",
          "name": "stderr",
          "text": [
            "\n",
            "Attaching package: ‘MASS’\n",
            "\n",
            "\n",
            "The following object is masked from ‘package:dplyr’:\n",
            "\n",
            "    select\n",
            "\n",
            "\n",
            "Warning message:\n",
            "“glm.fit: fitted probabilities numerically 0 or 1 occurred”\n",
            "Warning message:\n",
            "“glm.fit: algorithm did not converge”\n",
            "Warning message:\n",
            "“glm.fit: fitted probabilities numerically 0 or 1 occurred”\n",
            "Warning message:\n",
            "“glm.fit: fitted probabilities numerically 0 or 1 occurred”\n",
            "Warning message:\n",
            "“glm.fit: fitted probabilities numerically 0 or 1 occurred”\n"
          ]
        }
      ]
    },
    {
      "cell_type": "code",
      "metadata": {
        "id": "R8rv8UtnC_47"
      },
      "source": [
        "#12 Prediction on test set using sampling classifiers\n",
        "\n",
        "# Predicting the test set using Over sampling classifier\n",
        "over_probability_predict = predict(over_classifier, type = 'response', newdata = test_set[-31])\n",
        "y_pred_over = ifelse(over_probability_predict>0.5, 1, 0)\n",
        "\n",
        "# Predicting the test set using Under sampling classifier\n",
        "under_probability_predict = predict(under_classifier, type = 'response', newdata = test_set[-31])\n",
        "y_pred_under = ifelse(under_probability_predict>0.5, 1, 0)\n",
        "\n",
        "# Predicting the test set using Mixed sampling classifier\n",
        "both_probability_predict = predict(both_classifier, type = 'response', newdata = test_set[-31])\n",
        "y_pred_both = ifelse(both_probability_predict>0.5, 1, 0)\n",
        "\n",
        "# Predicting the test set using ROSE classifier\n",
        "rose_probability_predict = predict(rose_classifier, type = 'response', newdata = test_set[-31])\n",
        "y_pred_rose = ifelse(rose_probability_predict>0.5, 1, 0)\n",
        "\n",
        "# Predicting the test set using SMOTE classifier\n",
        "#smote_probability_predict = predict(smote_classifier, type = 'response', newdata = test_set[-31])\n",
        "#y_pred_smote = ifelse(smote_probability_predict>0.5, 1, 0)\n"
      ],
      "execution_count": null,
      "outputs": []
    },
    {
      "cell_type": "code",
      "metadata": {
        "colab": {
          "base_uri": "https://localhost:8080/"
        },
        "id": "uTcYkqK9DfVd",
        "outputId": "87678e2d-b058-4656-850b-bc37f558bca4"
      },
      "source": [
        "install.packages(\"PRROC\")\n",
        "install.packages(\"pROC\")\n"
      ],
      "execution_count": null,
      "outputs": [
        {
          "output_type": "stream",
          "name": "stderr",
          "text": [
            "Installing package into ‘/usr/local/lib/R/site-library’\n",
            "(as ‘lib’ is unspecified)\n",
            "\n",
            "Installing package into ‘/usr/local/lib/R/site-library’\n",
            "(as ‘lib’ is unspecified)\n",
            "\n",
            "also installing the dependency ‘plyr’\n",
            "\n",
            "\n"
          ]
        }
      ]
    },
    {
      "cell_type": "code",
      "metadata": {
        "id": "FyFDjhwrDM39",
        "colab": {
          "base_uri": "https://localhost:8080/"
        },
        "outputId": "e7595d23-2bed-4c00-ee02-67ca9c24f55a"
      },
      "source": [
        "#13 ROC Curve\n",
        "\n",
        "# roc.curve function from ROSE package returns the ROC curve and AUC value.\n",
        "# We can see the AUC value by making the plotit as FALSE and print the curve.\n",
        "# It takes dependent variable as the first parameter and the class to be evaluated\n",
        "# plotit is logical for plotting the ROC curve. color of the curve can be given in col.\n",
        "library(pROC)\n",
        "#library(dplyr) # for data manipulation\n",
        "library(PRROC)"
      ],
      "execution_count": null,
      "outputs": [
        {
          "output_type": "stream",
          "name": "stderr",
          "text": [
            "Type 'citation(\"pROC\")' for a citation.\n",
            "\n",
            "\n",
            "Attaching package: ‘pROC’\n",
            "\n",
            "\n",
            "The following objects are masked from ‘package:stats’:\n",
            "\n",
            "    cov, smooth, var\n",
            "\n",
            "\n",
            "\n",
            "Attaching package: ‘PRROC’\n",
            "\n",
            "\n",
            "The following object is masked from ‘package:ROSE’:\n",
            "\n",
            "    roc.curve\n",
            "\n",
            "\n"
          ]
        }
      ]
    },
    {
      "cell_type": "code",
      "metadata": {
        "colab": {
          "base_uri": "https://localhost:8080/"
        },
        "id": "RJyzNTI7S-ze",
        "outputId": "ec1b4a16-70a9-44f7-88e6-74e14d2ad999"
      },
      "source": [
        "install.packages(\"smotefamily\")\n",
        "library(smotefamily) # synthetic minority over-sampling"
      ],
      "execution_count": null,
      "outputs": [
        {
          "output_type": "stream",
          "name": "stderr",
          "text": [
            "Installing package into ‘/usr/local/lib/R/site-library’\n",
            "(as ‘lib’ is unspecified)\n",
            "\n",
            "also installing the dependencies ‘FNN’, ‘dbscan’, ‘igraph’\n",
            "\n",
            "\n"
          ]
        }
      ]
    },
    {
      "cell_type": "code",
      "metadata": {
        "colab": {
          "base_uri": "https://localhost:8080/",
          "height": 378
        },
        "id": "HumhsOGXDRIF",
        "outputId": "caac7c8b-8182-49ef-a45d-df9abd3e7829"
      },
      "source": [
        "\n",
        "#view(test_set)\n",
        "#roc_over <- roc.curve(test_set$Class, y_pred_over, plotit = TRUE)\n",
        "#roc_over <- roc.curve(test_set$Class, y_pred_over)\n",
        "#print(roc_over) #0.943\n",
        "\n",
        "#roc_under <- roc.curve(test_set$Class, y_pred_under, plotit = F)\n",
        "#print(roc_under) #0.792\n",
        "#roc_both <- roc.curve(test_set$Class, y_pred_both, plotit = F)\n",
        "#print(roc_both) #0.943\n",
        "#roc_rose <- roc.curve(test_set$Class, y_pred_rose, plotit = F)\n",
        "#print(roc_rose) #0.928\n",
        "#roc_smote <- roc.curve(test_set$Class, y_pred_smote, plotit = F)\n",
        "#print(roc_smote) #0.755\n",
        "\n",
        "\n",
        "roccurve_over=roc(test_set[,31],y_pred_over,plot=FALSE,legacy.axes=TRUE)\n",
        "roccurve_over$auc #0.9434\n",
        "\n",
        "roccurve_under=roc(test_set[,31],y_pred_under,plot=FALSE,legacy.axes=TRUE)\n",
        "roccurve_under$auc #0.7607\n",
        "\n",
        "roccurve_both=roc(test_set[,31],y_pred_both,plot=FALSE,legacy.axes=TRUE)\n",
        "roccurve_both$auc #0.9433\n",
        "\n",
        "roccurve_rose=roc(test_set[,31],y_pred_rose,plot=FALSE,legacy.axes=TRUE)\n",
        "roccurve_rose$auc #0.9285\n",
        "\n",
        "#roccurve_smote=roc(test_set[,31],y_pred_smote,plot=FALSE,legacy.axes=TRUE)\n",
        "#roccurve_smote$auc #0.7753\n"
      ],
      "execution_count": null,
      "outputs": [
        {
          "output_type": "stream",
          "name": "stderr",
          "text": [
            "Setting levels: control = 0, case = 1\n",
            "\n",
            "Setting direction: controls < cases\n",
            "\n"
          ]
        },
        {
          "output_type": "display_data",
          "data": {
            "text/plain": [
              "Area under the curve: 0.9434"
            ],
            "text/latex": "0.943389266791253",
            "text/markdown": "0.943389266791253",
            "text/html": [
              "0.943389266791253"
            ]
          },
          "metadata": {}
        },
        {
          "output_type": "stream",
          "name": "stderr",
          "text": [
            "Setting levels: control = 0, case = 1\n",
            "\n",
            "Setting direction: controls < cases\n",
            "\n"
          ]
        },
        {
          "output_type": "display_data",
          "data": {
            "text/plain": [
              "Area under the curve: 0.7607"
            ],
            "text/latex": "0.76066526886857",
            "text/markdown": "0.76066526886857",
            "text/html": [
              "0.76066526886857"
            ]
          },
          "metadata": {}
        },
        {
          "output_type": "stream",
          "name": "stderr",
          "text": [
            "Setting levels: control = 0, case = 1\n",
            "\n",
            "Setting direction: controls < cases\n",
            "\n"
          ]
        },
        {
          "output_type": "display_data",
          "data": {
            "text/plain": [
              "Area under the curve: 0.9433"
            ],
            "text/latex": "0.943318922279004",
            "text/markdown": "0.943318922279004",
            "text/html": [
              "0.943318922279004"
            ]
          },
          "metadata": {}
        },
        {
          "output_type": "stream",
          "name": "stderr",
          "text": [
            "Setting levels: control = 0, case = 1\n",
            "\n",
            "Setting direction: controls < cases\n",
            "\n"
          ]
        },
        {
          "output_type": "display_data",
          "data": {
            "text/plain": [
              "Area under the curve: 0.9285"
            ],
            "text/latex": "0.928494354673442",
            "text/markdown": "0.928494354673442",
            "text/html": [
              "0.928494354673442"
            ]
          },
          "metadata": {}
        }
      ]
    },
    {
      "cell_type": "markdown",
      "metadata": {
        "id": "0f_PGev8y2wB"
      },
      "source": [
        "#Class Imbalance - Sampling Methods Conclusion\n",
        "\n",
        "We have applied ROC AUC curve to check the accuracy, for class imbalance problems its ideally observed that to consider AUC. Among the five sampling methods the Over sampling method gives us the highest AUC value of 94.33% which is the better sampling method for our dataset.\n"
      ]
    },
    {
      "cell_type": "code",
      "metadata": {
        "id": "z4qxykxiEPHt",
        "colab": {
          "base_uri": "https://localhost:8080/"
        },
        "outputId": "ffa08945-c5f7-4ef0-fbca-636c6f52c098"
      },
      "source": [
        "### 14.0 Evaluate predictions on the test data dataset through Confusion Matrix\n",
        "###Using Sampling both over and under \n",
        "install.packages(\"caret\")\n",
        "library(caret) # synthetic minority over-sampling"
      ],
      "execution_count": null,
      "outputs": [
        {
          "output_type": "stream",
          "name": "stderr",
          "text": [
            "Installing package into ‘/usr/local/lib/R/site-library’\n",
            "(as ‘lib’ is unspecified)\n",
            "\n",
            "also installing the dependencies ‘listenv’, ‘parallelly’, ‘future’, ‘globals’, ‘future.apply’, ‘progressr’, ‘numDeriv’, ‘SQUAREM’, ‘lava’, ‘prodlim’, ‘proxy’, ‘iterators’, ‘gower’, ‘ipred’, ‘timeDate’, ‘e1071’, ‘foreach’, ‘ModelMetrics’, ‘recipes’, ‘reshape2’\n",
            "\n",
            "\n",
            "Loading required package: ggplot2\n",
            "\n",
            "Loading required package: lattice\n",
            "\n",
            "Warning message in system(\"timedatectl\", intern = TRUE):\n",
            "“running command 'timedatectl' had status 1”\n",
            "\n",
            "Attaching package: ‘caret’\n",
            "\n",
            "\n",
            "The following object is masked from ‘package:httr’:\n",
            "\n",
            "    progress\n",
            "\n",
            "\n"
          ]
        }
      ]
    },
    {
      "cell_type": "code",
      "metadata": {
        "colab": {
          "base_uri": "https://localhost:8080/",
          "height": 509
        },
        "id": "CpWz8QVWD6qE",
        "outputId": "481e7912-aa15-49cb-9731-dfde0a1c2453"
      },
      "source": [
        "###Using Sampling over \n",
        "pred_Y_over=ifelse(y_pred_over > 0.70,1,0)#threshold taken is .70\n",
        "confusionMatrix(as.factor(test_set[,31]), as.factor(pred_Y_over))\n",
        "# Sensitivity - 0.9998\n",
        "# Specificity - 0.0682\n",
        "# Positive predictive value - 0.9786\n",
        "# Accuracy = 0.9785\n",
        "\n",
        "# Validation of our model using validation dataset \n",
        "fittedresults = predict(over_classifier, newdata=test_set, type='response')\n",
        "\n",
        "# If results are more than 50% then convert to 1 else 0\n",
        "fittedresults = ifelse(fittedresults >=0.5,1,0)\n",
        "\n",
        "test_set$fittedresults = fittedresults\n",
        "#View(test_set)\n"
      ],
      "execution_count": null,
      "outputs": [
        {
          "output_type": "display_data",
          "data": {
            "text/plain": [
              "Confusion Matrix and Statistics\n",
              "\n",
              "          Reference\n",
              "Prediction     0     1\n",
              "         0 55647  1216\n",
              "         1     9    89\n",
              "                                          \n",
              "               Accuracy : 0.9785          \n",
              "                 95% CI : (0.9773, 0.9797)\n",
              "    No Information Rate : 0.9771          \n",
              "    P-Value [Acc > NIR] : 0.0124          \n",
              "                                          \n",
              "                  Kappa : 0.1241          \n",
              "                                          \n",
              " Mcnemar's Test P-Value : <2e-16          \n",
              "                                          \n",
              "            Sensitivity : 0.9998          \n",
              "            Specificity : 0.0682          \n",
              "         Pos Pred Value : 0.9786          \n",
              "         Neg Pred Value : 0.9082          \n",
              "             Prevalence : 0.9771          \n",
              "         Detection Rate : 0.9769          \n",
              "   Detection Prevalence : 0.9983          \n",
              "      Balanced Accuracy : 0.5340          \n",
              "                                          \n",
              "       'Positive' Class : 0               \n",
              "                                          "
            ]
          },
          "metadata": {}
        }
      ]
    },
    {
      "cell_type": "code",
      "metadata": {
        "colab": {
          "base_uri": "https://localhost:8080/",
          "height": 108
        },
        "id": "OIljVcetEWk0",
        "outputId": "10e6d948-fff2-43fb-e781-18a5399f1695"
      },
      "source": [
        "### 14.1 Evaluate predictions on the test dataset through Confusion Matrix\n",
        "CFM1 = table(predicted = test_set$fittedresults, actual = test_set$Class)\n",
        "CFM1\n",
        "\n",
        "LR_Classification_Accurancy = sum(diag(CFM1)/sum(CFM1))\n",
        "LR_Classification_Accurancy#97.8%"
      ],
      "execution_count": null,
      "outputs": [
        {
          "output_type": "display_data",
          "data": {
            "text/plain": [
              "         actual\n",
              "predicted     0     1\n",
              "        0 55647     9\n",
              "        1  1216    89"
            ]
          },
          "metadata": {}
        },
        {
          "output_type": "display_data",
          "data": {
            "text/plain": [
              "[1] 0.9784941"
            ],
            "text/latex": "0.978494057337477",
            "text/markdown": "0.978494057337477",
            "text/html": [
              "0.978494057337477"
            ]
          },
          "metadata": {}
        }
      ]
    },
    {
      "cell_type": "code",
      "metadata": {
        "id": "GPeIGv08EoLn"
      },
      "source": [
        "TN = CFM1[1,1] # True Negative - Actual & Predicted is 0/N\n",
        "TP = CFM1[2,2] # True Positive - Actual & Predicted is 1/Y\n",
        "FP = CFM1[2,1] # False Positive - Actual is 0/N but Predicted is 1/Y\n",
        "FN = CFM1[1,2] # False Negative - Actual is 1/Y but Predicted is 0/N\n",
        "TO = TN+TP+FP+FN # Total Observations\n"
      ],
      "execution_count": null,
      "outputs": []
    },
    {
      "cell_type": "code",
      "metadata": {
        "colab": {
          "base_uri": "https://localhost:8080/",
          "height": 139
        },
        "id": "WdmZD53QEreb",
        "outputId": "328fb4f6-aa17-44f4-f30c-331dd3860cc5"
      },
      "source": [
        "###15. Overall Final metrics for the LR model\n",
        "accuracy = (TP+TN)/TO # Accuracy or Prevalence of Confusion Matrix\n",
        "accuracy # 97.84%\n",
        "\n",
        "precision = TP/(TP+FP) # Precision\n",
        "precision # 6.81%\n",
        "\n",
        "sensitivity = TP/(TP+FN) # True Positive Rate (as high as possible)\n",
        "sensitivity # 90.81%\n",
        "\n",
        "\n",
        "specificity = TN/(TN+FP) # True Negative Rate\n",
        "specificity # 97.86%\n",
        "Fallout = 1 - specificity\n",
        "Fallout #2.13%\n",
        "\n",
        "Fall_out = FP/(FP+TN) # False Positive Rate (as low as possible)\n",
        "Fall_out*100  # 2.13%\n",
        "\n",
        "\n",
        "error = (FP+FN)/TO # Error Rate\n",
        "error # 2.15%\n",
        "\n",
        "sensitivity_CFM1 = sensitivity #90.81%\n",
        "Fallout_CFM1 = Fallout*100  #2.13%"
      ],
      "execution_count": null,
      "outputs": [
        {
          "output_type": "display_data",
          "data": {
            "text/plain": [
              "[1] 0.9784941"
            ],
            "text/latex": "0.978494057337477",
            "text/markdown": "0.978494057337477",
            "text/html": [
              "0.978494057337477"
            ]
          },
          "metadata": {}
        },
        {
          "output_type": "display_data",
          "data": {
            "text/plain": [
              "[1] 0.06819923"
            ],
            "text/latex": "0.0681992337164751",
            "text/markdown": "0.0681992337164751",
            "text/html": [
              "0.0681992337164751"
            ]
          },
          "metadata": {}
        },
        {
          "output_type": "display_data",
          "data": {
            "text/plain": [
              "[1] 0.9081633"
            ],
            "text/latex": "0.908163265306122",
            "text/markdown": "0.908163265306122",
            "text/html": [
              "0.908163265306122"
            ]
          },
          "metadata": {}
        },
        {
          "output_type": "display_data",
          "data": {
            "text/plain": [
              "[1] 0.9786153"
            ],
            "text/latex": "0.978615268276384",
            "text/markdown": "0.978615268276384",
            "text/html": [
              "0.978615268276384"
            ]
          },
          "metadata": {}
        },
        {
          "output_type": "display_data",
          "data": {
            "text/plain": [
              "[1] 0.02138473"
            ],
            "text/latex": "0.0213847317236164",
            "text/markdown": "0.0213847317236164",
            "text/html": [
              "0.0213847317236164"
            ]
          },
          "metadata": {}
        },
        {
          "output_type": "display_data",
          "data": {
            "text/plain": [
              "[1] 2.138473"
            ],
            "text/latex": "2.13847317236164",
            "text/markdown": "2.13847317236164",
            "text/html": [
              "2.13847317236164"
            ]
          },
          "metadata": {}
        },
        {
          "output_type": "display_data",
          "data": {
            "text/plain": [
              "[1] 0.02150594"
            ],
            "text/latex": "0.0215059426625235",
            "text/markdown": "0.0215059426625235",
            "text/html": [
              "0.0215059426625235"
            ]
          },
          "metadata": {}
        }
      ]
    },
    {
      "cell_type": "markdown",
      "metadata": {
        "id": "jT3gGDw2ycXC"
      },
      "source": [
        "#Conclusion of Model 1 - Logistic Regression Model\n",
        "\n",
        "Summary of the model findings states that sensitivity_CFM1 is 90.81% with AUC of 94.34% and ROC curve (receiver operating characteristic curve) - Greater the area under the ROC curve, better the predictive ability of the model illustrates the sensitivity and specificity for all possible cutoff values. Also, the Fallout_CFM1 is 2.13% with Accuracy of the model is at 97.84%"
      ]
    },
    {
      "cell_type": "code",
      "metadata": {
        "colab": {
          "base_uri": "https://localhost:8080/"
        },
        "id": "yDtOaJalE8Md",
        "outputId": "dd61d049-f0dd-4182-e5e8-45ede8b0cd66"
      },
      "source": [
        "###############################\n",
        "## Random Forest\n",
        "###############################\n",
        "install.packages(\"randomForest\")\n",
        "library(randomForest)\n",
        "library(stats)"
      ],
      "execution_count": null,
      "outputs": [
        {
          "output_type": "stream",
          "name": "stderr",
          "text": [
            "Installing package into ‘/usr/local/lib/R/site-library’\n",
            "(as ‘lib’ is unspecified)\n",
            "\n",
            "randomForest 4.6-14\n",
            "\n",
            "Type rfNews() to see new features/changes/bug fixes.\n",
            "\n",
            "\n",
            "Attaching package: ‘randomForest’\n",
            "\n",
            "\n",
            "The following object is masked from ‘package:ggplot2’:\n",
            "\n",
            "    margin\n",
            "\n",
            "\n",
            "The following object is masked from ‘package:dplyr’:\n",
            "\n",
            "    combine\n",
            "\n",
            "\n"
          ]
        }
      ]
    },
    {
      "cell_type": "code",
      "metadata": {
        "id": "OfZuRAt1FLRk",
        "colab": {
          "base_uri": "https://localhost:8080/",
          "height": 181
        },
        "outputId": "21b28643-6a98-418f-b32e-e38e1975b929"
      },
      "source": [
        "### 1. Checking the features with the right data types\n",
        "over_sample_train_data$Class=as.factor(over_sample_train_data$Class)\n",
        "#View(over_sample_train_data)\n",
        "head(over_sample_train_data,2)"
      ],
      "execution_count": null,
      "outputs": [
        {
          "output_type": "display_data",
          "data": {
            "text/plain": [
              "  Time      V1         V2         V3        V4        V5          V6         \n",
              "1 -1.994757 -0.6950033 -0.0451209 1.6736470 0.9745538 -0.24863536  0.35104684\n",
              "2 -1.994757  0.6107111  0.1617106 0.1091986 0.3170705  0.04503015 -0.06182636\n",
              "  V7          V8         V9         ⋯ V21        V22        V23       \n",
              "1  0.19806874 0.08252626  0.3328091 ⋯ -0.0254493  0.3836749 -0.1783661\n",
              "2 -0.06471463 0.07102327 -0.2306557 ⋯ -0.3084798 -0.8807805  0.1608289\n",
              "  V24        V25       V26        V27         V28         Amount     Class\n",
              "1  0.1110584 0.2461317 -0.3916746  0.33684947 -0.06460037  0.2573266 0    \n",
              "2 -0.5604078 0.3201181  0.2614320 -0.02229593  0.04476357 -0.3578673 0    "
            ],
            "text/latex": "A data.frame: 2 × 31\n\\begin{tabular}{r|lllllllllllllllllllll}\n  & Time & V1 & V2 & V3 & V4 & V5 & V6 & V7 & V8 & V9 & ⋯ & V21 & V22 & V23 & V24 & V25 & V26 & V27 & V28 & Amount & Class\\\\\n  & <dbl> & <dbl> & <dbl> & <dbl> & <dbl> & <dbl> & <dbl> & <dbl> & <dbl> & <dbl> & ⋯ & <dbl> & <dbl> & <dbl> & <dbl> & <dbl> & <dbl> & <dbl> & <dbl> & <dbl> & <fct>\\\\\n\\hline\n\t1 & -1.994757 & -0.6950033 & -0.0451209 & 1.6736470 & 0.9745538 & -0.24863536 &  0.35104684 &  0.19806874 & 0.08252626 &  0.3328091 & ⋯ & -0.0254493 &  0.3836749 & -0.1783661 &  0.1110584 & 0.2461317 & -0.3916746 &  0.33684947 & -0.06460037 &  0.2573266 & 0\\\\\n\t2 & -1.994757 &  0.6107111 &  0.1617106 & 0.1091986 & 0.3170705 &  0.04503015 & -0.06182636 & -0.06471463 & 0.07102327 & -0.2306557 & ⋯ & -0.3084798 & -0.8807805 &  0.1608289 & -0.5604078 & 0.3201181 &  0.2614320 & -0.02229593 &  0.04476357 & -0.3578673 & 0\\\\\n\\end{tabular}\n",
            "text/markdown": "\nA data.frame: 2 × 31\n\n| <!--/--> | Time &lt;dbl&gt; | V1 &lt;dbl&gt; | V2 &lt;dbl&gt; | V3 &lt;dbl&gt; | V4 &lt;dbl&gt; | V5 &lt;dbl&gt; | V6 &lt;dbl&gt; | V7 &lt;dbl&gt; | V8 &lt;dbl&gt; | V9 &lt;dbl&gt; | ⋯ ⋯ | V21 &lt;dbl&gt; | V22 &lt;dbl&gt; | V23 &lt;dbl&gt; | V24 &lt;dbl&gt; | V25 &lt;dbl&gt; | V26 &lt;dbl&gt; | V27 &lt;dbl&gt; | V28 &lt;dbl&gt; | Amount &lt;dbl&gt; | Class &lt;fct&gt; |\n|---|---|---|---|---|---|---|---|---|---|---|---|---|---|---|---|---|---|---|---|---|---|\n| 1 | -1.994757 | -0.6950033 | -0.0451209 | 1.6736470 | 0.9745538 | -0.24863536 |  0.35104684 |  0.19806874 | 0.08252626 |  0.3328091 | ⋯ | -0.0254493 |  0.3836749 | -0.1783661 |  0.1110584 | 0.2461317 | -0.3916746 |  0.33684947 | -0.06460037 |  0.2573266 | 0 |\n| 2 | -1.994757 |  0.6107111 |  0.1617106 | 0.1091986 | 0.3170705 |  0.04503015 | -0.06182636 | -0.06471463 | 0.07102327 | -0.2306557 | ⋯ | -0.3084798 | -0.8807805 |  0.1608289 | -0.5604078 | 0.3201181 |  0.2614320 | -0.02229593 |  0.04476357 | -0.3578673 | 0 |\n\n",
            "text/html": [
              "<table class=\"dataframe\">\n",
              "<caption>A data.frame: 2 × 31</caption>\n",
              "<thead>\n",
              "\t<tr><th></th><th scope=col>Time</th><th scope=col>V1</th><th scope=col>V2</th><th scope=col>V3</th><th scope=col>V4</th><th scope=col>V5</th><th scope=col>V6</th><th scope=col>V7</th><th scope=col>V8</th><th scope=col>V9</th><th scope=col>⋯</th><th scope=col>V21</th><th scope=col>V22</th><th scope=col>V23</th><th scope=col>V24</th><th scope=col>V25</th><th scope=col>V26</th><th scope=col>V27</th><th scope=col>V28</th><th scope=col>Amount</th><th scope=col>Class</th></tr>\n",
              "\t<tr><th></th><th scope=col>&lt;dbl&gt;</th><th scope=col>&lt;dbl&gt;</th><th scope=col>&lt;dbl&gt;</th><th scope=col>&lt;dbl&gt;</th><th scope=col>&lt;dbl&gt;</th><th scope=col>&lt;dbl&gt;</th><th scope=col>&lt;dbl&gt;</th><th scope=col>&lt;dbl&gt;</th><th scope=col>&lt;dbl&gt;</th><th scope=col>&lt;dbl&gt;</th><th scope=col>⋯</th><th scope=col>&lt;dbl&gt;</th><th scope=col>&lt;dbl&gt;</th><th scope=col>&lt;dbl&gt;</th><th scope=col>&lt;dbl&gt;</th><th scope=col>&lt;dbl&gt;</th><th scope=col>&lt;dbl&gt;</th><th scope=col>&lt;dbl&gt;</th><th scope=col>&lt;dbl&gt;</th><th scope=col>&lt;dbl&gt;</th><th scope=col>&lt;fct&gt;</th></tr>\n",
              "</thead>\n",
              "<tbody>\n",
              "\t<tr><th scope=row>1</th><td>-1.994757</td><td>-0.6950033</td><td>-0.0451209</td><td>1.6736470</td><td>0.9745538</td><td>-0.24863536</td><td> 0.35104684</td><td> 0.19806874</td><td>0.08252626</td><td> 0.3328091</td><td>⋯</td><td>-0.0254493</td><td> 0.3836749</td><td>-0.1783661</td><td> 0.1110584</td><td>0.2461317</td><td>-0.3916746</td><td> 0.33684947</td><td>-0.06460037</td><td> 0.2573266</td><td>0</td></tr>\n",
              "\t<tr><th scope=row>2</th><td>-1.994757</td><td> 0.6107111</td><td> 0.1617106</td><td>0.1091986</td><td>0.3170705</td><td> 0.04503015</td><td>-0.06182636</td><td>-0.06471463</td><td>0.07102327</td><td>-0.2306557</td><td>⋯</td><td>-0.3084798</td><td>-0.8807805</td><td> 0.1608289</td><td>-0.5604078</td><td>0.3201181</td><td> 0.2614320</td><td>-0.02229593</td><td> 0.04476357</td><td>-0.3578673</td><td>0</td></tr>\n",
              "</tbody>\n",
              "</table>\n"
            ]
          },
          "metadata": {}
        }
      ]
    },
    {
      "cell_type": "markdown",
      "metadata": {
        "id": "GnX70vOTw9-e"
      },
      "source": [
        "# Hyperparameter Tuning - Random Forest Model"
      ]
    },
    {
      "cell_type": "code",
      "metadata": {
        "id": "I17FQxQkFV45",
        "colab": {
          "base_uri": "https://localhost:8080/"
        },
        "outputId": "72192e4a-3830-4af4-b7f2-20e591a237dc"
      },
      "source": [
        "### 2. Tuning the right mTry for the Random Forest model  \n",
        "#ntree 200 is max no of tree and mtry is 12 which shouldnt exceed max no of variables \n",
        "\n",
        "bestmtry = tuneRF(over_sample_train_data[,-c(31)],over_sample_train_data$Class,stepFactor = 1.2, improve = 0.01,trace = T, plot = T,doBest = TRUE,\n",
        "importance=TRUE)\n"
      ],
      "execution_count": null,
      "outputs": [
        {
          "output_type": "stream",
          "name": "stdout",
          "text": [
            "mtry = 5  OOB error = 0% \n",
            "Searching left ...\n",
            "Searching right ...\n",
            "mtry = 6 \tOOB error = 0.01% \n",
            "-0.04545455 0.01 \n"
          ]
        }
      ]
    },
    {
      "cell_type": "code",
      "metadata": {
        "colab": {
          "base_uri": "https://localhost:8080/",
          "height": 52
        },
        "id": "9BUU_IgzFYL0",
        "outputId": "c666d1df-6c2b-4dd9-9b5c-3fe39061bf10"
      },
      "source": [
        "### 3. Fitting the Random Forest model using nTree as 150 and mTry as 3  \n",
        "nrow(over_sample_train_data)\n",
        "nrow(training_set)\n",
        "\n"
      ],
      "execution_count": null,
      "outputs": [
        {
          "output_type": "display_data",
          "data": {
            "text/plain": [
              "[1] 454904"
            ],
            "text/latex": "454904",
            "text/markdown": "454904",
            "text/html": [
              "454904"
            ]
          },
          "metadata": {}
        },
        {
          "output_type": "display_data",
          "data": {
            "text/plain": [
              "[1] 227846"
            ],
            "text/latex": "227846",
            "text/markdown": "227846",
            "text/html": [
              "227846"
            ]
          },
          "metadata": {}
        }
      ]
    },
    {
      "cell_type": "code",
      "metadata": {
        "id": "bvoFipsgFZz7"
      },
      "source": [
        "RFM = randomForest(Class~.,data = over_sample_train_data,ntree=150, mtry=6,na.action=na.exclude)\n"
      ],
      "execution_count": null,
      "outputs": []
    },
    {
      "cell_type": "code",
      "metadata": {
        "colab": {
          "base_uri": "https://localhost:8080/",
          "height": 236
        },
        "id": "Eya4gvZsFg9Q",
        "outputId": "c25c2de0-b5da-47fb-9dff-2912a0570b45"
      },
      "source": [
        "RFM"
      ],
      "execution_count": null,
      "outputs": [
        {
          "output_type": "display_data",
          "data": {
            "text/plain": [
              "\n",
              "Call:\n",
              " randomForest(formula = Class ~ ., data = over_sample_train_data,      ntree = 150, mtry = 6, na.action = na.exclude) \n",
              "               Type of random forest: classification\n",
              "                     Number of trees: 150\n",
              "No. of variables tried at each split: 6\n",
              "\n",
              "        OOB estimate of  error rate: 0%\n",
              "Confusion matrix:\n",
              "       0      1  class.error\n",
              "0 227431     21 9.232717e-05\n",
              "1      0 227452 0.000000e+00"
            ]
          },
          "metadata": {}
        }
      ]
    },
    {
      "cell_type": "code",
      "metadata": {
        "colab": {
          "base_uri": "https://localhost:8080/",
          "height": 437
        },
        "id": "dbe1c_-PGbDN",
        "outputId": "aa0c57a2-6d87-41ab-8044-ae1324a6dab4"
      },
      "source": [
        "### 4. Checking  the  most significant variables from the Random Forest model \n",
        "#importance(RFM)\n",
        "# MeanDecreaseGini\n",
        "# V17           136.29\n",
        "varImpPlot(RFM)\n",
        "#Hyper parameter obtained is ntree 150 and mtry as 3\n"
      ],
      "execution_count": null,
      "outputs": [
        {
          "output_type": "display_data",
          "data": {
            "image/png": "[encoded data removed]",
            "text/plain": [
              "Plot with title “RFM”"
            ]
          },
          "metadata": {
            "image/png": {
              "width": 420,
              "height": 420
            }
          }
        }
      ]
    },
    {
      "cell_type": "code",
      "metadata": {
        "id": "HtjXhwoMGeKn"
      },
      "source": [
        "### 5. Evaluating Model Accuracy\n",
        "\n",
        "Class_pred = predict(RFM,test_set)\n",
        "test_set$Class_pred = Class_pred\n",
        "#View(testdata)\n",
        "# Evaluate predictions on the testdata dataset through Confusion Matrix"
      ],
      "execution_count": null,
      "outputs": []
    },
    {
      "cell_type": "code",
      "metadata": {
        "colab": {
          "base_uri": "https://localhost:8080/",
          "height": 90
        },
        "id": "UZt3HWc1GgC1",
        "outputId": "5f63da79-6c1d-40f9-a6bb-cb29afee4730"
      },
      "source": [
        "### 6. Building Confusion Matrix\n",
        "CFM2 = table(test_set$Class,test_set$Class_pred)\n",
        "CFM2\n"
      ],
      "execution_count": null,
      "outputs": [
        {
          "output_type": "display_data",
          "data": {
            "text/plain": [
              "   \n",
              "        0     1\n",
              "  0 56860     3\n",
              "  1    24    74"
            ]
          },
          "metadata": {}
        }
      ]
    },
    {
      "cell_type": "code",
      "metadata": {
        "colab": {
          "base_uri": "https://localhost:8080/",
          "height": 139
        },
        "id": "eJVMbUH3Ghz3",
        "outputId": "f35e6544-c46b-411e-c45d-cfdafe4d37a7"
      },
      "source": [
        "### 7. Calculating the Accuracy of the model using test data \n",
        "Classification_Accurancy = sum(diag(CFM2)/sum(CFM2))\n",
        "Classification_Accurancy #99.95\n",
        "\n",
        "TN = CFM2[1,1] # True Negative - Actual & Predicted is 0/N\n",
        "TP = CFM2[2,2] # True Positive - Actual & Predicted is 1/Y\n",
        "FP = CFM2[2,1] # False Positive - Actual is 0/N but Predicted is 1/Y\n",
        "FN = CFM2[1,2] # False Nefgative - Actual is 1/Y but Predicted is 0/N\n",
        "TO = TN+TP+FP+FN # Total Observations\n",
        "\n",
        "accuracy = (TP+TN)/TO # Accuracy or Prevalence of Confusion Matrix\n",
        "accuracy # 99.95%\n",
        "\n",
        "precision = TP/(TP+FP) # Precision\n",
        "precision # 75.51%\n",
        "\n",
        "sensitivity = TP/(TP+FN) # True Positive Rate (as high as possible)\n",
        "sensitivity # 96.10%\n",
        "\n",
        "specificity = TN/(TN+FP) # True Negative Rate\n",
        "specificity # 99.95%\n",
        "\n",
        "Fallout = 1 - specificity # False Negative Rate (as low as possbile)\n",
        "Fallout*100  #0.04219%\n",
        "\n",
        "error = (FP+FN)/TO # Error Rate\n",
        "error # 0.047%\n",
        "\n",
        "sensitivity_CFM2 = sensitivity #96.10%\n",
        "Fallout_CFM2 = Fallout*100 #0.042%\n"
      ],
      "execution_count": null,
      "outputs": [
        {
          "output_type": "display_data",
          "data": {
            "text/plain": [
              "[1] 0.999526"
            ],
            "text/latex": "0.999525991467846",
            "text/markdown": "0.999525991467846",
            "text/html": [
              "0.999525991467846"
            ]
          },
          "metadata": {}
        },
        {
          "output_type": "display_data",
          "data": {
            "text/plain": [
              "[1] 0.999526"
            ],
            "text/latex": "0.999525991467846",
            "text/markdown": "0.999525991467846",
            "text/html": [
              "0.999525991467846"
            ]
          },
          "metadata": {}
        },
        {
          "output_type": "display_data",
          "data": {
            "text/plain": [
              "[1] 0.755102"
            ],
            "text/latex": "0.755102040816326",
            "text/markdown": "0.755102040816326",
            "text/html": [
              "0.755102040816326"
            ]
          },
          "metadata": {}
        },
        {
          "output_type": "display_data",
          "data": {
            "text/plain": [
              "[1] 0.961039"
            ],
            "text/latex": "0.961038961038961",
            "text/markdown": "0.961038961038961",
            "text/html": [
              "0.961038961038961"
            ]
          },
          "metadata": {}
        },
        {
          "output_type": "display_data",
          "data": {
            "text/plain": [
              "[1] 0.9995781"
            ],
            "text/latex": "0.999578088742001",
            "text/markdown": "0.999578088742001",
            "text/html": [
              "0.999578088742001"
            ]
          },
          "metadata": {}
        },
        {
          "output_type": "display_data",
          "data": {
            "text/plain": [
              "[1] 0.04219113"
            ],
            "text/latex": "0.0421911257998731",
            "text/markdown": "0.0421911257998731",
            "text/html": [
              "0.0421911257998731"
            ]
          },
          "metadata": {}
        },
        {
          "output_type": "display_data",
          "data": {
            "text/plain": [
              "[1] 0.0004740085"
            ],
            "text/latex": "0.000474008532153579",
            "text/markdown": "0.000474008532153579",
            "text/html": [
              "0.000474008532153579"
            ]
          },
          "metadata": {}
        }
      ]
    },
    {
      "cell_type": "markdown",
      "metadata": {
        "id": "B2z9IBaqwpJu"
      },
      "source": [
        "#Conclusion of Model 2 - Random Forest Model\n",
        "\n",
        "Summary of the model findings that sensitivity_CFM2 is 96.05%. Overall the  model illustrates the sensitivity and the Fallout_CFM1 is 0.043% with Accuracy of the model 99.95%."
      ]
    },
    {
      "cell_type": "markdown",
      "metadata": {
        "id": "lyyK9OxNJAPJ"
      },
      "source": [
        "# Cross Validation - K Fold Sampling Technique"
      ]
    },
    {
      "cell_type": "code",
      "metadata": {
        "colab": {
          "base_uri": "https://localhost:8080/"
        },
        "id": "AwjpQ7KLGvBr",
        "outputId": "eb782789-aaf0-43fd-a3cc-9ea16a71b27d"
      },
      "source": [
        "install.packages(\"tidyverse\")\n",
        "install.packages(\"caret\")"
      ],
      "execution_count": null,
      "outputs": [
        {
          "output_type": "stream",
          "name": "stderr",
          "text": [
            "Installing package into ‘/usr/local/lib/R/site-library’\n",
            "(as ‘lib’ is unspecified)\n",
            "\n",
            "Installing package into ‘/usr/local/lib/R/site-library’\n",
            "(as ‘lib’ is unspecified)\n",
            "\n"
          ]
        }
      ]
    },
    {
      "cell_type": "code",
      "metadata": {
        "colab": {
          "base_uri": "https://localhost:8080/"
        },
        "id": "CftEvCJbGFP-",
        "outputId": "57289c2e-10bf-458d-8974-b13cb88ca3fd"
      },
      "source": [
        "library(\"tidyverse\") \n",
        "library(\"caret\")"
      ],
      "execution_count": null,
      "outputs": [
        {
          "output_type": "stream",
          "name": "stderr",
          "text": [
            "── \u001b[1mAttaching packages\u001b[22m ─────────────────────────────────────── tidyverse 1.3.1 ──\n",
            "\n",
            "\u001b[32m✔\u001b[39m \u001b[34mtibble\u001b[39m 3.1.6     \u001b[32m✔\u001b[39m \u001b[34mpurrr \u001b[39m 0.3.4\n",
            "\u001b[32m✔\u001b[39m \u001b[34mtidyr \u001b[39m 1.1.4     \n",
            "\n",
            "── \u001b[1mConflicts\u001b[22m ────────────────────────────────────────── tidyverse_conflicts() ──\n",
            "\u001b[31m✖\u001b[39m \u001b[34mtidyr\u001b[39m::\u001b[32mexpand()\u001b[39m   masks \u001b[34mMatrix\u001b[39m::expand()\n",
            "\u001b[31m✖\u001b[39m \u001b[34mtidyr\u001b[39m::\u001b[32mextract()\u001b[39m  masks \u001b[34mR.utils\u001b[39m::extract()\n",
            "\u001b[31m✖\u001b[39m \u001b[34mdplyr\u001b[39m::\u001b[32mfilter()\u001b[39m   masks \u001b[34mstats\u001b[39m::filter()\n",
            "\u001b[31m✖\u001b[39m \u001b[34mxts\u001b[39m::\u001b[32mfirst()\u001b[39m      masks \u001b[34mdplyr\u001b[39m::first()\n",
            "\u001b[31m✖\u001b[39m \u001b[34mdplyr\u001b[39m::\u001b[32mlag()\u001b[39m      masks \u001b[34mstats\u001b[39m::lag()\n",
            "\u001b[31m✖\u001b[39m \u001b[34mxts\u001b[39m::\u001b[32mlast()\u001b[39m       masks \u001b[34mdplyr\u001b[39m::last()\n",
            "\u001b[31m✖\u001b[39m \u001b[34mpurrr\u001b[39m::\u001b[32mlift()\u001b[39m     masks \u001b[34mcaret\u001b[39m::lift()\n",
            "\u001b[31m✖\u001b[39m \u001b[34mtidyr\u001b[39m::\u001b[32mpack()\u001b[39m     masks \u001b[34mMatrix\u001b[39m::pack()\n",
            "\u001b[31m✖\u001b[39m \u001b[34mcaret\u001b[39m::\u001b[32mprogress()\u001b[39m masks \u001b[34mhttr\u001b[39m::progress()\n",
            "\u001b[31m✖\u001b[39m \u001b[34mMASS\u001b[39m::\u001b[32mselect()\u001b[39m    masks \u001b[34mdplyr\u001b[39m::select()\n",
            "\u001b[31m✖\u001b[39m \u001b[34mxgboost\u001b[39m::\u001b[32mslice()\u001b[39m  masks \u001b[34mdplyr\u001b[39m::slice()\n",
            "\u001b[31m✖\u001b[39m \u001b[34mtidyr\u001b[39m::\u001b[32munpack()\u001b[39m   masks \u001b[34mMatrix\u001b[39m::unpack()\n",
            "\n"
          ]
        }
      ]
    },
    {
      "cell_type": "code",
      "metadata": {
        "colab": {
          "base_uri": "https://localhost:8080/"
        },
        "id": "1394NMu1H3S4",
        "outputId": "71484f3e-ae17-4b17-8002-84e8e90bca6c"
      },
      "source": [
        "install.packages(\"naivebayes\")"
      ],
      "execution_count": null,
      "outputs": [
        {
          "output_type": "stream",
          "name": "stderr",
          "text": [
            "Installing package into ‘/usr/local/lib/R/site-library’\n",
            "(as ‘lib’ is unspecified)\n",
            "\n"
          ]
        }
      ]
    },
    {
      "cell_type": "code",
      "metadata": {
        "colab": {
          "base_uri": "https://localhost:8080/"
        },
        "id": "H7B7RHciH46e",
        "outputId": "ceb9ffd8-a874-4094-d269-42b78b178476"
      },
      "source": [
        "library(\"naivebayes\")"
      ],
      "execution_count": null,
      "outputs": [
        {
          "output_type": "stream",
          "name": "stderr",
          "text": [
            "naivebayes 0.9.7 loaded\n",
            "\n"
          ]
        }
      ]
    },
    {
      "cell_type": "code",
      "metadata": {
        "colab": {
          "base_uri": "https://localhost:8080/",
          "height": 72
        },
        "id": "SSbPOY8hiA7d",
        "outputId": "2488b68b-71e3-4c56-c763-a3c087beb645"
      },
      "source": [
        "prop.table(table(over_sample_train_data$Class))\n"
      ],
      "execution_count": null,
      "outputs": [
        {
          "output_type": "display_data",
          "data": {
            "text/plain": [
              "\n",
              "  0   1 \n",
              "0.5 0.5 "
            ]
          },
          "metadata": {}
        }
      ]
    },
    {
      "cell_type": "code",
      "metadata": {
        "colab": {
          "base_uri": "https://localhost:8080/",
          "height": 35
        },
        "id": "CSECkfF9oS1u",
        "outputId": "9e53af9f-7ede-4f1d-9413-de7827c94366"
      },
      "source": [
        "nrow(over_sample_train_data)"
      ],
      "execution_count": null,
      "outputs": [
        {
          "output_type": "display_data",
          "data": {
            "text/plain": [
              "[1] 454904"
            ],
            "text/latex": "454904",
            "text/markdown": "454904",
            "text/html": [
              "454904"
            ]
          },
          "metadata": {}
        }
      ]
    },
    {
      "cell_type": "code",
      "metadata": {
        "colab": {
          "base_uri": "https://localhost:8080/",
          "height": 181
        },
        "id": "JuXGiN96iYsa",
        "outputId": "be21746c-c9e1-4709-8c82-ea7c06a7704c"
      },
      "source": [
        "head(over_sample_train_data,2)"
      ],
      "execution_count": null,
      "outputs": [
        {
          "output_type": "display_data",
          "data": {
            "text/plain": [
              "  Time      V1         V2         V3        V4        V5          V6         \n",
              "1 -1.994757 -0.6950033 -0.0451209 1.6736470 0.9745538 -0.24863536  0.35104684\n",
              "2 -1.994757  0.6107111  0.1617106 0.1091986 0.3170705  0.04503015 -0.06182636\n",
              "  V7          V8         V9         ⋯ V21        V22        V23       \n",
              "1  0.19806874 0.08252626  0.3328091 ⋯ -0.0254493  0.3836749 -0.1783661\n",
              "2 -0.06471463 0.07102327 -0.2306557 ⋯ -0.3084798 -0.8807805  0.1608289\n",
              "  V24        V25       V26        V27         V28         Amount     Class\n",
              "1  0.1110584 0.2461317 -0.3916746  0.33684947 -0.06460037  0.2573266 0    \n",
              "2 -0.5604078 0.3201181  0.2614320 -0.02229593  0.04476357 -0.3578673 0    "
            ],
            "text/latex": "A data.frame: 2 × 31\n\\begin{tabular}{r|lllllllllllllllllllll}\n  & Time & V1 & V2 & V3 & V4 & V5 & V6 & V7 & V8 & V9 & ⋯ & V21 & V22 & V23 & V24 & V25 & V26 & V27 & V28 & Amount & Class\\\\\n  & <dbl> & <dbl> & <dbl> & <dbl> & <dbl> & <dbl> & <dbl> & <dbl> & <dbl> & <dbl> & ⋯ & <dbl> & <dbl> & <dbl> & <dbl> & <dbl> & <dbl> & <dbl> & <dbl> & <dbl> & <int>\\\\\n\\hline\n\t1 & -1.994757 & -0.6950033 & -0.0451209 & 1.6736470 & 0.9745538 & -0.24863536 &  0.35104684 &  0.19806874 & 0.08252626 &  0.3328091 & ⋯ & -0.0254493 &  0.3836749 & -0.1783661 &  0.1110584 & 0.2461317 & -0.3916746 &  0.33684947 & -0.06460037 &  0.2573266 & 0\\\\\n\t2 & -1.994757 &  0.6107111 &  0.1617106 & 0.1091986 & 0.3170705 &  0.04503015 & -0.06182636 & -0.06471463 & 0.07102327 & -0.2306557 & ⋯ & -0.3084798 & -0.8807805 &  0.1608289 & -0.5604078 & 0.3201181 &  0.2614320 & -0.02229593 &  0.04476357 & -0.3578673 & 0\\\\\n\\end{tabular}\n",
            "text/markdown": "\nA data.frame: 2 × 31\n\n| <!--/--> | Time &lt;dbl&gt; | V1 &lt;dbl&gt; | V2 &lt;dbl&gt; | V3 &lt;dbl&gt; | V4 &lt;dbl&gt; | V5 &lt;dbl&gt; | V6 &lt;dbl&gt; | V7 &lt;dbl&gt; | V8 &lt;dbl&gt; | V9 &lt;dbl&gt; | ⋯ ⋯ | V21 &lt;dbl&gt; | V22 &lt;dbl&gt; | V23 &lt;dbl&gt; | V24 &lt;dbl&gt; | V25 &lt;dbl&gt; | V26 &lt;dbl&gt; | V27 &lt;dbl&gt; | V28 &lt;dbl&gt; | Amount &lt;dbl&gt; | Class &lt;int&gt; |\n|---|---|---|---|---|---|---|---|---|---|---|---|---|---|---|---|---|---|---|---|---|---|\n| 1 | -1.994757 | -0.6950033 | -0.0451209 | 1.6736470 | 0.9745538 | -0.24863536 |  0.35104684 |  0.19806874 | 0.08252626 |  0.3328091 | ⋯ | -0.0254493 |  0.3836749 | -0.1783661 |  0.1110584 | 0.2461317 | -0.3916746 |  0.33684947 | -0.06460037 |  0.2573266 | 0 |\n| 2 | -1.994757 |  0.6107111 |  0.1617106 | 0.1091986 | 0.3170705 |  0.04503015 | -0.06182636 | -0.06471463 | 0.07102327 | -0.2306557 | ⋯ | -0.3084798 | -0.8807805 |  0.1608289 | -0.5604078 | 0.3201181 |  0.2614320 | -0.02229593 |  0.04476357 | -0.3578673 | 0 |\n\n",
            "text/html": [
              "<table class=\"dataframe\">\n",
              "<caption>A data.frame: 2 × 31</caption>\n",
              "<thead>\n",
              "\t<tr><th></th><th scope=col>Time</th><th scope=col>V1</th><th scope=col>V2</th><th scope=col>V3</th><th scope=col>V4</th><th scope=col>V5</th><th scope=col>V6</th><th scope=col>V7</th><th scope=col>V8</th><th scope=col>V9</th><th scope=col>⋯</th><th scope=col>V21</th><th scope=col>V22</th><th scope=col>V23</th><th scope=col>V24</th><th scope=col>V25</th><th scope=col>V26</th><th scope=col>V27</th><th scope=col>V28</th><th scope=col>Amount</th><th scope=col>Class</th></tr>\n",
              "\t<tr><th></th><th scope=col>&lt;dbl&gt;</th><th scope=col>&lt;dbl&gt;</th><th scope=col>&lt;dbl&gt;</th><th scope=col>&lt;dbl&gt;</th><th scope=col>&lt;dbl&gt;</th><th scope=col>&lt;dbl&gt;</th><th scope=col>&lt;dbl&gt;</th><th scope=col>&lt;dbl&gt;</th><th scope=col>&lt;dbl&gt;</th><th scope=col>&lt;dbl&gt;</th><th scope=col>⋯</th><th scope=col>&lt;dbl&gt;</th><th scope=col>&lt;dbl&gt;</th><th scope=col>&lt;dbl&gt;</th><th scope=col>&lt;dbl&gt;</th><th scope=col>&lt;dbl&gt;</th><th scope=col>&lt;dbl&gt;</th><th scope=col>&lt;dbl&gt;</th><th scope=col>&lt;dbl&gt;</th><th scope=col>&lt;dbl&gt;</th><th scope=col>&lt;int&gt;</th></tr>\n",
              "</thead>\n",
              "<tbody>\n",
              "\t<tr><th scope=row>1</th><td>-1.994757</td><td>-0.6950033</td><td>-0.0451209</td><td>1.6736470</td><td>0.9745538</td><td>-0.24863536</td><td> 0.35104684</td><td> 0.19806874</td><td>0.08252626</td><td> 0.3328091</td><td>⋯</td><td>-0.0254493</td><td> 0.3836749</td><td>-0.1783661</td><td> 0.1110584</td><td>0.2461317</td><td>-0.3916746</td><td> 0.33684947</td><td>-0.06460037</td><td> 0.2573266</td><td>0</td></tr>\n",
              "\t<tr><th scope=row>2</th><td>-1.994757</td><td> 0.6107111</td><td> 0.1617106</td><td>0.1091986</td><td>0.3170705</td><td> 0.04503015</td><td>-0.06182636</td><td>-0.06471463</td><td>0.07102327</td><td>-0.2306557</td><td>⋯</td><td>-0.3084798</td><td>-0.8807805</td><td> 0.1608289</td><td>-0.5604078</td><td>0.3201181</td><td> 0.2614320</td><td>-0.02229593</td><td> 0.04476357</td><td>-0.3578673</td><td>0</td></tr>\n",
              "</tbody>\n",
              "</table>\n"
            ]
          },
          "metadata": {}
        }
      ]
    },
    {
      "cell_type": "code",
      "metadata": {
        "id": "vwuRGpGbGS_T"
      },
      "source": [
        "data = over_sample_train_data\n",
        "\n",
        "data$Class = as.numeric(data$Class)"
      ],
      "execution_count": null,
      "outputs": []
    },
    {
      "cell_type": "code",
      "metadata": {
        "id": "LyHMQO3OGd9x",
        "colab": {
          "base_uri": "https://localhost:8080/",
          "height": 437
        },
        "outputId": "1f6a21c2-c0b6-4f70-fc1c-d8d42a5ec323"
      },
      "source": [
        "hist(data$Class,col=\"blue\")\n"
      ],
      "execution_count": null,
      "outputs": [
        {
          "output_type": "display_data",
          "data": {
            "image/png": "[encoded data removed]",
            "text/plain": [
              "Plot with title “Histogram of data$Class”"
            ]
          },
          "metadata": {
            "image/png": {
              "width": 420,
              "height": 420
            }
          }
        }
      ]
    },
    {
      "cell_type": "code",
      "metadata": {
        "colab": {
          "base_uri": "https://localhost:8080/",
          "height": 72
        },
        "id": "ngE5WIwHGfmN",
        "outputId": "d08e84cb-0643-410a-851f-8c3483dac6da"
      },
      "source": [
        "prop.table(table(data$Class))\n"
      ],
      "execution_count": null,
      "outputs": [
        {
          "output_type": "display_data",
          "data": {
            "text/plain": [
              "\n",
              "  0   1 \n",
              "0.5 0.5 "
            ]
          },
          "metadata": {}
        }
      ]
    },
    {
      "cell_type": "code",
      "metadata": {
        "id": "L0DsA7FTGhDY",
        "colab": {
          "base_uri": "https://localhost:8080/",
          "height": 400
        },
        "outputId": "1dd1374c-99e1-42e8-fcda-f23545b160b4"
      },
      "source": [
        "set.seed(100)\n",
        "trctrl <- trainControl(method = \"cv\", number = 10, savePredictions=TRUE)\n",
        "nb_fit <- train(factor(Class) ~., data = data, method = \"naive_bayes\", trControl=trctrl, tuneLength = 0)\n",
        "nb_fit"
      ],
      "execution_count": null,
      "outputs": [
        {
          "output_type": "display_data",
          "data": {
            "text/plain": [
              "Naive Bayes \n",
              "\n",
              "454904 samples\n",
              "    30 predictor\n",
              "     2 classes: '0', '1' \n",
              "\n",
              "No pre-processing\n",
              "Resampling: Cross-Validated (10 fold) \n",
              "Summary of sample sizes: 409414, 409414, 409413, 409413, 409414, 409413, ... \n",
              "Resampling results across tuning parameters:\n",
              "\n",
              "  usekernel  Accuracy   Kappa    \n",
              "  FALSE      0.9179101  0.8358203\n",
              "   TRUE      0.9165099  0.8330197\n",
              "\n",
              "Tuning parameter 'laplace' was held constant at a value of 0\n",
              "Tuning\n",
              " parameter 'adjust' was held constant at a value of 1\n",
              "Accuracy was used to select the optimal model using the largest value.\n",
              "The final values used for the model were laplace = 0, usekernel = FALSE\n",
              " and adjust = 1."
            ]
          },
          "metadata": {}
        }
      ]
    },
    {
      "cell_type": "markdown",
      "metadata": {
        "id": "OPO1sPB_ncCw"
      },
      "source": [
        "It will print the detail to the console once it is finished. The accuracy shown in the console is the average accuracy from all the training folds. We can see that our model has an 91.65% average accuracy."
      ]
    },
    {
      "cell_type": "code",
      "metadata": {
        "id": "Yd_gSyQGGjjB"
      },
      "source": [
        "pred <- nb_fit$pred\n",
        "pred$equal <- ifelse(pred$pred == pred$obs, 1,0)"
      ],
      "execution_count": null,
      "outputs": []
    },
    {
      "cell_type": "code",
      "metadata": {
        "colab": {
          "base_uri": "https://localhost:8080/",
          "height": 412
        },
        "id": "Cv6I182GeN4M",
        "outputId": "f690ee5a-5cdf-46a2-d2d3-30cd0babcd67"
      },
      "source": [
        "eachfold <- pred %>%                                        \n",
        "  group_by(Resample) %>%                         \n",
        "  summarise_at(vars(equal),                     \n",
        "               list(Accuracy = mean))              \n",
        "eachfold"
      ],
      "execution_count": null,
      "outputs": [
        {
          "output_type": "display_data",
          "data": {
            "text/plain": [
              "   Resample Accuracy \n",
              "1  Fold01   0.9165201\n",
              "2  Fold02   0.9164652\n",
              "3  Fold03   0.9173573\n",
              "4  Fold04   0.9195006\n",
              "5  Fold05   0.9167839\n",
              "6  Fold06   0.9167967\n",
              "7  Fold07   0.9168718\n",
              "8  Fold08   0.9178061\n",
              "9  Fold09   0.9155437\n",
              "10 Fold10   0.9184546"
            ],
            "text/latex": "A tibble: 10 × 2\n\\begin{tabular}{ll}\n Resample & Accuracy\\\\\n <chr> & <dbl>\\\\\n\\hline\n\t Fold01 & 0.9165201\\\\\n\t Fold02 & 0.9164652\\\\\n\t Fold03 & 0.9173573\\\\\n\t Fold04 & 0.9195006\\\\\n\t Fold05 & 0.9167839\\\\\n\t Fold06 & 0.9167967\\\\\n\t Fold07 & 0.9168718\\\\\n\t Fold08 & 0.9178061\\\\\n\t Fold09 & 0.9155437\\\\\n\t Fold10 & 0.9184546\\\\\n\\end{tabular}\n",
            "text/markdown": "\nA tibble: 10 × 2\n\n| Resample &lt;chr&gt; | Accuracy &lt;dbl&gt; |\n|---|---|\n| Fold01 | 0.9165201 |\n| Fold02 | 0.9164652 |\n| Fold03 | 0.9173573 |\n| Fold04 | 0.9195006 |\n| Fold05 | 0.9167839 |\n| Fold06 | 0.9167967 |\n| Fold07 | 0.9168718 |\n| Fold08 | 0.9178061 |\n| Fold09 | 0.9155437 |\n| Fold10 | 0.9184546 |\n\n",
            "text/html": [
              "<table class=\"dataframe\">\n",
              "<caption>A tibble: 10 × 2</caption>\n",
              "<thead>\n",
              "\t<tr><th scope=col>Resample</th><th scope=col>Accuracy</th></tr>\n",
              "\t<tr><th scope=col>&lt;chr&gt;</th><th scope=col>&lt;dbl&gt;</th></tr>\n",
              "</thead>\n",
              "<tbody>\n",
              "\t<tr><td>Fold01</td><td>0.9165201</td></tr>\n",
              "\t<tr><td>Fold02</td><td>0.9164652</td></tr>\n",
              "\t<tr><td>Fold03</td><td>0.9173573</td></tr>\n",
              "\t<tr><td>Fold04</td><td>0.9195006</td></tr>\n",
              "\t<tr><td>Fold05</td><td>0.9167839</td></tr>\n",
              "\t<tr><td>Fold06</td><td>0.9167967</td></tr>\n",
              "\t<tr><td>Fold07</td><td>0.9168718</td></tr>\n",
              "\t<tr><td>Fold08</td><td>0.9178061</td></tr>\n",
              "\t<tr><td>Fold09</td><td>0.9155437</td></tr>\n",
              "\t<tr><td>Fold10</td><td>0.9184546</td></tr>\n",
              "</tbody>\n",
              "</table>\n"
            ]
          },
          "metadata": {}
        }
      ]
    },
    {
      "cell_type": "code",
      "metadata": {
        "colab": {
          "base_uri": "https://localhost:8080/",
          "height": 437
        },
        "id": "JturRwqXnqFH",
        "outputId": "1b1aed89-759f-42d7-9661-00470c906e68"
      },
      "source": [
        "ggplot(data=eachfold, aes(x=Resample, y=Accuracy, group=1)) +\n",
        "geom_boxplot(color=\"maroon\") +\n",
        "geom_point() +\n",
        "theme_minimal()"
      ],
      "execution_count": null,
      "outputs": [
        {
          "output_type": "display_data",
          "data": {
            "image/png": "[encoded data removed]",
            "text/plain": [
              "plot without title"
            ]
          },
          "metadata": {
            "image/png": {
              "width": 420,
              "height": 420
            }
          }
        }
      ]
    },
    {
      "cell_type": "markdown",
      "metadata": {
        "id": "J0O34QMDvZAT"
      },
      "source": [
        "# Cross Validation - Final analysis"
      ]
    },
    {
      "cell_type": "markdown",
      "metadata": {
        "id": "UABlB2jFnnce"
      },
      "source": [
        "We can see that each of the folds achieves an accuracy that is not much different from one another. The lowest accuracy is 91.55%, and also in the boxplot, we do not see any outliers. Meaning that our model was performing well across the k-fold cross-validation."
      ]
    },
    {
      "cell_type": "markdown",
      "metadata": {
        "id": "hqquC__0vJyg"
      },
      "source": [
        "# Conclusion of our Model Comparison"
      ]
    },
    {
      "cell_type": "markdown",
      "metadata": {
        "id": "jXWEIbP5vsTi"
      },
      "source": [
        "# Model Summary\n",
        "\n",
        "Conclusion of overall Model Summary and model findings states us that sensitivity is 92.40% with AUC of 94.31% with Model being the better among other tested models.\n",
        "\n",
        "Conclusion of Random Forest Model 2\n",
        "Summary of the model findings that high sensitivity from Random Forest is 96.5% compared to the earlier Logistic Regression Model. Also, the model illustrates the  Fallout ratio is also 0.043% which is low compared to earlier model.\n",
        "\n",
        "In that case we would be relying on the Random Forest Model with the predicted\n",
        " variable test_set$Class_pred"
      ]
    },
    {
      "cell_type": "markdown",
      "metadata": {
        "id": "Plylb54Udhpf"
      },
      "source": [
        "#Cost Benefit Analysis - Last part\n"
      ]
    },
    {
      "cell_type": "code",
      "metadata": {
        "colab": {
          "base_uri": "https://localhost:8080/",
          "height": 212
        },
        "id": "v8tGoLKqu4P_",
        "outputId": "0b4a0707-2427-425e-f93c-eb536eead84c"
      },
      "source": [
        "head(test_set,3)"
      ],
      "execution_count": null,
      "outputs": [
        {
          "output_type": "display_data",
          "data": {
            "text/plain": [
              "  Time      V1         V2         V3        V4         V5           V6       \n",
              "4 -2.003910 -0.4921503 -0.1061779 1.1808725 -0.6083058 -0.009893897 0.8998398\n",
              "5 -2.003889 -0.5892737  0.5187745 1.0203725  0.2825972 -0.279580953 0.0671053\n",
              "8 -2.003783 -0.3292323  0.8363924 0.7087112 -0.3472298  0.641921467 0.3073870\n",
              "  V7        V8         V9         ⋯ V21         V22          V23        \n",
              "4 0.1769393  0.3074534 -1.2710367 ⋯ -0.14437336  0.005806913 -0.29884099\n",
              "5 0.4432982 -0.2139948  0.7380641 ⋯ -0.01085478  1.093305712 -0.21426984\n",
              "8 0.8388583 -3.0606382  0.5536584 ⋯  2.62643204 -1.393983694  0.09763643\n",
              "  V24        V25        V26        V27        V28        Amount      Class\n",
              "4 -1.9453047  1.2503570 -0.4622513  0.1447729  0.1808461  0.11823760 0    \n",
              "5  0.2311637 -0.3976381  1.0407815  0.5095750  0.6307626 -0.06569869 0    \n",
              "8 -1.0761562 -0.8017397 -0.1088257 -2.8110068 -3.1761993 -0.16603694 0    "
            ],
            "text/latex": "A data.frame: 3 × 31\n\\begin{tabular}{r|lllllllllllllllllllll}\n  & Time & V1 & V2 & V3 & V4 & V5 & V6 & V7 & V8 & V9 & ⋯ & V21 & V22 & V23 & V24 & V25 & V26 & V27 & V28 & Amount & Class\\\\\n  & <dbl> & <dbl> & <dbl> & <dbl> & <dbl> & <dbl> & <dbl> & <dbl> & <dbl> & <dbl> & ⋯ & <dbl> & <dbl> & <dbl> & <dbl> & <dbl> & <dbl> & <dbl> & <dbl> & <dbl> & <int>\\\\\n\\hline\n\t4 & -2.003910 & -0.4921503 & -0.1061779 & 1.1808725 & -0.6083058 & -0.009893897 & 0.8998398 & 0.1769393 &  0.3074534 & -1.2710367 & ⋯ & -0.14437336 &  0.005806913 & -0.29884099 & -1.9453047 &  1.2503570 & -0.4622513 &  0.1447729 &  0.1808461 &  0.11823760 & 0\\\\\n\t5 & -2.003889 & -0.5892737 &  0.5187745 & 1.0203725 &  0.2825972 & -0.279580953 & 0.0671053 & 0.4432982 & -0.2139948 &  0.7380641 & ⋯ & -0.01085478 &  1.093305712 & -0.21426984 &  0.2311637 & -0.3976381 &  1.0407815 &  0.5095750 &  0.6307626 & -0.06569869 & 0\\\\\n\t8 & -2.003783 & -0.3292323 &  0.8363924 & 0.7087112 & -0.3472298 &  0.641921467 & 0.3073870 & 0.8388583 & -3.0606382 &  0.5536584 & ⋯ &  2.62643204 & -1.393983694 &  0.09763643 & -1.0761562 & -0.8017397 & -0.1088257 & -2.8110068 & -3.1761993 & -0.16603694 & 0\\\\\n\\end{tabular}\n",
            "text/markdown": "\nA data.frame: 3 × 31\n\n| <!--/--> | Time &lt;dbl&gt; | V1 &lt;dbl&gt; | V2 &lt;dbl&gt; | V3 &lt;dbl&gt; | V4 &lt;dbl&gt; | V5 &lt;dbl&gt; | V6 &lt;dbl&gt; | V7 &lt;dbl&gt; | V8 &lt;dbl&gt; | V9 &lt;dbl&gt; | ⋯ ⋯ | V21 &lt;dbl&gt; | V22 &lt;dbl&gt; | V23 &lt;dbl&gt; | V24 &lt;dbl&gt; | V25 &lt;dbl&gt; | V26 &lt;dbl&gt; | V27 &lt;dbl&gt; | V28 &lt;dbl&gt; | Amount &lt;dbl&gt; | Class &lt;int&gt; |\n|---|---|---|---|---|---|---|---|---|---|---|---|---|---|---|---|---|---|---|---|---|---|\n| 4 | -2.003910 | -0.4921503 | -0.1061779 | 1.1808725 | -0.6083058 | -0.009893897 | 0.8998398 | 0.1769393 |  0.3074534 | -1.2710367 | ⋯ | -0.14437336 |  0.005806913 | -0.29884099 | -1.9453047 |  1.2503570 | -0.4622513 |  0.1447729 |  0.1808461 |  0.11823760 | 0 |\n| 5 | -2.003889 | -0.5892737 |  0.5187745 | 1.0203725 |  0.2825972 | -0.279580953 | 0.0671053 | 0.4432982 | -0.2139948 |  0.7380641 | ⋯ | -0.01085478 |  1.093305712 | -0.21426984 |  0.2311637 | -0.3976381 |  1.0407815 |  0.5095750 |  0.6307626 | -0.06569869 | 0 |\n| 8 | -2.003783 | -0.3292323 |  0.8363924 | 0.7087112 | -0.3472298 |  0.641921467 | 0.3073870 | 0.8388583 | -3.0606382 |  0.5536584 | ⋯ |  2.62643204 | -1.393983694 |  0.09763643 | -1.0761562 | -0.8017397 | -0.1088257 | -2.8110068 | -3.1761993 | -0.16603694 | 0 |\n\n",
            "text/html": [
              "<table class=\"dataframe\">\n",
              "<caption>A data.frame: 3 × 31</caption>\n",
              "<thead>\n",
              "\t<tr><th></th><th scope=col>Time</th><th scope=col>V1</th><th scope=col>V2</th><th scope=col>V3</th><th scope=col>V4</th><th scope=col>V5</th><th scope=col>V6</th><th scope=col>V7</th><th scope=col>V8</th><th scope=col>V9</th><th scope=col>⋯</th><th scope=col>V21</th><th scope=col>V22</th><th scope=col>V23</th><th scope=col>V24</th><th scope=col>V25</th><th scope=col>V26</th><th scope=col>V27</th><th scope=col>V28</th><th scope=col>Amount</th><th scope=col>Class</th></tr>\n",
              "\t<tr><th></th><th scope=col>&lt;dbl&gt;</th><th scope=col>&lt;dbl&gt;</th><th scope=col>&lt;dbl&gt;</th><th scope=col>&lt;dbl&gt;</th><th scope=col>&lt;dbl&gt;</th><th scope=col>&lt;dbl&gt;</th><th scope=col>&lt;dbl&gt;</th><th scope=col>&lt;dbl&gt;</th><th scope=col>&lt;dbl&gt;</th><th scope=col>&lt;dbl&gt;</th><th scope=col>⋯</th><th scope=col>&lt;dbl&gt;</th><th scope=col>&lt;dbl&gt;</th><th scope=col>&lt;dbl&gt;</th><th scope=col>&lt;dbl&gt;</th><th scope=col>&lt;dbl&gt;</th><th scope=col>&lt;dbl&gt;</th><th scope=col>&lt;dbl&gt;</th><th scope=col>&lt;dbl&gt;</th><th scope=col>&lt;dbl&gt;</th><th scope=col>&lt;int&gt;</th></tr>\n",
              "</thead>\n",
              "<tbody>\n",
              "\t<tr><th scope=row>4</th><td>-2.003910</td><td>-0.4921503</td><td>-0.1061779</td><td>1.1808725</td><td>-0.6083058</td><td>-0.009893897</td><td>0.8998398</td><td>0.1769393</td><td> 0.3074534</td><td>-1.2710367</td><td>⋯</td><td>-0.14437336</td><td> 0.005806913</td><td>-0.29884099</td><td>-1.9453047</td><td> 1.2503570</td><td>-0.4622513</td><td> 0.1447729</td><td> 0.1808461</td><td> 0.11823760</td><td>0</td></tr>\n",
              "\t<tr><th scope=row>5</th><td>-2.003889</td><td>-0.5892737</td><td> 0.5187745</td><td>1.0203725</td><td> 0.2825972</td><td>-0.279580953</td><td>0.0671053</td><td>0.4432982</td><td>-0.2139948</td><td> 0.7380641</td><td>⋯</td><td>-0.01085478</td><td> 1.093305712</td><td>-0.21426984</td><td> 0.2311637</td><td>-0.3976381</td><td> 1.0407815</td><td> 0.5095750</td><td> 0.6307626</td><td>-0.06569869</td><td>0</td></tr>\n",
              "\t<tr><th scope=row>8</th><td>-2.003783</td><td>-0.3292323</td><td> 0.8363924</td><td>0.7087112</td><td>-0.3472298</td><td> 0.641921467</td><td>0.3073870</td><td>0.8388583</td><td>-3.0606382</td><td> 0.5536584</td><td>⋯</td><td> 2.62643204</td><td>-1.393983694</td><td> 0.09763643</td><td>-1.0761562</td><td>-0.8017397</td><td>-0.1088257</td><td>-2.8110068</td><td>-3.1761993</td><td>-0.16603694</td><td>0</td></tr>\n",
              "</tbody>\n",
              "</table>\n"
            ]
          },
          "metadata": {}
        }
      ]
    },
    {
      "cell_type": "code",
      "metadata": {
        "colab": {
          "base_uri": "https://localhost:8080/",
          "height": 34
        },
        "id": "4X2ZmCKjfBcj",
        "outputId": "83cf45c5-b975-4629-cb51-0296f49339b0"
      },
      "source": [
        "#Average number of transactions per month that are fraudulent but not detected by the model (FN)\n",
        "#Total rows (Actual = 1, predict = 0) / 24\n",
        "FN = nrow(filter(test_set, Class == 1 , Class_pred == 0))/12\n",
        "FN #2.083"
      ],
      "execution_count": null,
      "outputs": [
        {
          "data": {
            "text/html": [
              "2.08333333333333"
            ],
            "text/latex": "2.08333333333333",
            "text/markdown": "2.08333333333333",
            "text/plain": [
              "[1] 2.083333"
            ]
          },
          "metadata": {},
          "output_type": "display_data"
        }
      ]
    },
    {
      "cell_type": "code",
      "metadata": {
        "colab": {
          "base_uri": "https://localhost:8080/",
          "height": 34
        },
        "id": "MOcBwwa6HPLx",
        "outputId": "f3145806-a3d7-46d8-b132-4c76b72332c8"
      },
      "source": [
        "#Average number of transactions per month detected as fraudulent by the model (TF)\n",
        "#Total rows (Actual = 1, predict = 1) / 24\n",
        "TF = nrow(filter(test_set, Class == 1 , Class_pred == 1))/12\n",
        "TF #6.083"
      ],
      "execution_count": null,
      "outputs": [
        {
          "data": {
            "text/html": [
              "6.08333333333333"
            ],
            "text/latex": "6.08333333333333",
            "text/markdown": "6.08333333333333",
            "text/plain": [
              "[1] 6.083333"
            ]
          },
          "metadata": {},
          "output_type": "display_data"
        }
      ]
    }
  ]
}